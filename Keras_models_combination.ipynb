{
 "cells": [
  {
   "cell_type": "markdown",
   "metadata": {},
   "source": [
    "### Keras models combination\n",
    "\n",
    "The project demonstrates application of deep learning techniques to historical data. The data used is the pantheon\n",
    "dataset (http://pantheon.media.mit.edu/treemap/country_exports/EE/all/-4000/2010/H15/pantheon). \n",
    "It comprises the biographical data of 11341 persons, as well as data about their Wikipedia page views.\n",
    "\n",
    "The project goal is to estimate the popularity of a person (Wikipedia page views) based on  the biographical \n",
    "or image data.\n",
    "\n",
    "Four models were developed:\n",
    "\n",
    "•Popularity classification based on biographical data;\n",
    "\n",
    "•Popularity  classification based on biographical data with some non-scientific hypothesis (astrological);\n",
    "\n",
    "•Popularity classification based on image data;\n",
    "\n",
    "•Popularity classification based on merged model with two inputs: biographical and image;\n",
    "\n",
    "\n",
    "The biographical and image models were developed using Keras Sequential model API, the merged model was developed\n",
    "using Keras functional API. While Sequential API allows create model layer by layer, Keras Functional API allows \n",
    "create complicated models with multiple inputs, outputs, shared layers etc.\n",
    "While the developed models do not reach high validation accuracy, it could be easily demonstrated that they will \n",
    "outperform usual person with common level of historical knowledge.\n",
    "In the save time, it is clear that some additional domain knowledge could significantly improve model development."
   ]
  },
  {
   "cell_type": "code",
   "execution_count": 1,
   "metadata": {},
   "outputs": [
    {
     "name": "stderr",
     "output_type": "stream",
     "text": [
      "Using TensorFlow backend.\n"
     ]
    },
    {
     "data": {
      "text/plain": [
       "'2.3.1'"
      ]
     },
     "execution_count": 1,
     "metadata": {},
     "output_type": "execute_result"
    }
   ],
   "source": [
    "import keras\n",
    "keras.__version__"
   ]
  },
  {
   "cell_type": "code",
   "execution_count": 2,
   "metadata": {},
   "outputs": [],
   "source": [
    "# load libraries\n",
    "\n",
    "get_ipython().run_line_magic('matplotlib', 'inline')\n",
    "\n",
    "import pandas as pd\n",
    "import matplotlib.pyplot as plt\n",
    "import keras.utils\n",
    "import numpy as np\n",
    "from numpy import array\n",
    "from numpy import argmax\n",
    "from sklearn.preprocessing import LabelEncoder\n",
    "from sklearn.preprocessing import OneHotEncoder"
   ]
  },
  {
   "cell_type": "code",
   "execution_count": 3,
   "metadata": {},
   "outputs": [],
   "source": [
    "# loading and exploring pantheon dataset\n",
    "\n",
    "pantheondf=pd.read_csv('pantheon.tsv',delimiter='\\t',encoding='latin-1')"
   ]
  },
  {
   "cell_type": "code",
   "execution_count": 4,
   "metadata": {},
   "outputs": [
    {
     "data": {
      "text/html": [
       "<div>\n",
       "<style scoped>\n",
       "    .dataframe tbody tr th:only-of-type {\n",
       "        vertical-align: middle;\n",
       "    }\n",
       "\n",
       "    .dataframe tbody tr th {\n",
       "        vertical-align: top;\n",
       "    }\n",
       "\n",
       "    .dataframe thead th {\n",
       "        text-align: right;\n",
       "    }\n",
       "</style>\n",
       "<table border=\"1\" class=\"dataframe\">\n",
       "  <thead>\n",
       "    <tr style=\"text-align: right;\">\n",
       "      <th></th>\n",
       "      <th>en_curid</th>\n",
       "      <th>name</th>\n",
       "      <th>numlangs</th>\n",
       "      <th>birthcity</th>\n",
       "      <th>birthstate</th>\n",
       "      <th>countryName</th>\n",
       "      <th>countryCode</th>\n",
       "      <th>countryCode3</th>\n",
       "      <th>LAT</th>\n",
       "      <th>LON</th>\n",
       "      <th>...</th>\n",
       "      <th>occupation</th>\n",
       "      <th>industry</th>\n",
       "      <th>domain</th>\n",
       "      <th>TotalPageViews</th>\n",
       "      <th>L_star</th>\n",
       "      <th>StdDevPageViews</th>\n",
       "      <th>PageViewsEnglish</th>\n",
       "      <th>PageViewsNonEnglish</th>\n",
       "      <th>AverageViews</th>\n",
       "      <th>HPI</th>\n",
       "    </tr>\n",
       "  </thead>\n",
       "  <tbody>\n",
       "    <tr>\n",
       "      <th>0</th>\n",
       "      <td>307</td>\n",
       "      <td>Abraham Lincoln</td>\n",
       "      <td>131</td>\n",
       "      <td>Hodgenville</td>\n",
       "      <td>KY</td>\n",
       "      <td>UNITED STATES</td>\n",
       "      <td>US</td>\n",
       "      <td>USA</td>\n",
       "      <td>37.571111</td>\n",
       "      <td>-85.738611</td>\n",
       "      <td>...</td>\n",
       "      <td>POLITICIAN</td>\n",
       "      <td>GOVERNMENT</td>\n",
       "      <td>INSTITUTIONS</td>\n",
       "      <td>66145211</td>\n",
       "      <td>5.801387</td>\n",
       "      <td>586914.72200</td>\n",
       "      <td>41477236</td>\n",
       "      <td>24667975</td>\n",
       "      <td>504925.2748</td>\n",
       "      <td>27.938585</td>\n",
       "    </tr>\n",
       "    <tr>\n",
       "      <th>1</th>\n",
       "      <td>308</td>\n",
       "      <td>Aristotle</td>\n",
       "      <td>152</td>\n",
       "      <td>Stageira</td>\n",
       "      <td>NaN</td>\n",
       "      <td>Greece</td>\n",
       "      <td>GR</td>\n",
       "      <td>GRC</td>\n",
       "      <td>40.333333</td>\n",
       "      <td>23.500000</td>\n",
       "      <td>...</td>\n",
       "      <td>PHILOSOPHER</td>\n",
       "      <td>PHILOSOPHY</td>\n",
       "      <td>HUMANITIES</td>\n",
       "      <td>56355172</td>\n",
       "      <td>11.914597</td>\n",
       "      <td>201067.46070</td>\n",
       "      <td>15745351</td>\n",
       "      <td>40609821</td>\n",
       "      <td>370757.7105</td>\n",
       "      <td>31.993795</td>\n",
       "    </tr>\n",
       "    <tr>\n",
       "      <th>2</th>\n",
       "      <td>339</td>\n",
       "      <td>Ayn Rand</td>\n",
       "      <td>55</td>\n",
       "      <td>Saint Petersburg</td>\n",
       "      <td>NaN</td>\n",
       "      <td>Russia</td>\n",
       "      <td>RU</td>\n",
       "      <td>RUS</td>\n",
       "      <td>59.950000</td>\n",
       "      <td>30.300000</td>\n",
       "      <td>...</td>\n",
       "      <td>WRITER</td>\n",
       "      <td>LANGUAGE</td>\n",
       "      <td>HUMANITIES</td>\n",
       "      <td>14208218</td>\n",
       "      <td>3.175685</td>\n",
       "      <td>87632.49020</td>\n",
       "      <td>11023490</td>\n",
       "      <td>3184728</td>\n",
       "      <td>258331.2364</td>\n",
       "      <td>24.325936</td>\n",
       "    </tr>\n",
       "    <tr>\n",
       "      <th>3</th>\n",
       "      <td>595</td>\n",
       "      <td>Andre Agassi</td>\n",
       "      <td>69</td>\n",
       "      <td>Las Vegas</td>\n",
       "      <td>NV</td>\n",
       "      <td>UNITED STATES</td>\n",
       "      <td>US</td>\n",
       "      <td>USA</td>\n",
       "      <td>36.121514</td>\n",
       "      <td>-115.173851</td>\n",
       "      <td>...</td>\n",
       "      <td>TENNIS PLAYER</td>\n",
       "      <td>INDIVIDUAL SPORTS</td>\n",
       "      <td>SPORTS</td>\n",
       "      <td>11244030</td>\n",
       "      <td>6.242525</td>\n",
       "      <td>85553.31810</td>\n",
       "      <td>6353888</td>\n",
       "      <td>4890142</td>\n",
       "      <td>162956.9565</td>\n",
       "      <td>20.925999</td>\n",
       "    </tr>\n",
       "    <tr>\n",
       "      <th>4</th>\n",
       "      <td>628</td>\n",
       "      <td>Aldous Huxley</td>\n",
       "      <td>62</td>\n",
       "      <td>Godalming</td>\n",
       "      <td>NaN</td>\n",
       "      <td>UNITED KINGDOM</td>\n",
       "      <td>GB</td>\n",
       "      <td>GBR</td>\n",
       "      <td>51.185000</td>\n",
       "      <td>-0.610000</td>\n",
       "      <td>...</td>\n",
       "      <td>WRITER</td>\n",
       "      <td>LANGUAGE</td>\n",
       "      <td>HUMANITIES</td>\n",
       "      <td>9268920</td>\n",
       "      <td>6.219842</td>\n",
       "      <td>33037.03209</td>\n",
       "      <td>5137256</td>\n",
       "      <td>4131664</td>\n",
       "      <td>149498.7097</td>\n",
       "      <td>25.996605</td>\n",
       "    </tr>\n",
       "  </tbody>\n",
       "</table>\n",
       "<p>5 rows × 23 columns</p>\n",
       "</div>"
      ],
      "text/plain": [
       "   en_curid             name  numlangs         birthcity birthstate  \\\n",
       "0       307  Abraham Lincoln       131       Hodgenville         KY   \n",
       "1       308        Aristotle       152          Stageira        NaN   \n",
       "2       339         Ayn Rand        55  Saint Petersburg        NaN   \n",
       "3       595     Andre Agassi        69         Las Vegas         NV   \n",
       "4       628    Aldous Huxley        62         Godalming        NaN   \n",
       "\n",
       "      countryName countryCode countryCode3        LAT         LON  ...  \\\n",
       "0   UNITED STATES          US          USA  37.571111  -85.738611  ...   \n",
       "1          Greece          GR          GRC  40.333333   23.500000  ...   \n",
       "2          Russia          RU          RUS  59.950000   30.300000  ...   \n",
       "3   UNITED STATES          US          USA  36.121514 -115.173851  ...   \n",
       "4  UNITED KINGDOM          GB          GBR  51.185000   -0.610000  ...   \n",
       "\n",
       "      occupation           industry        domain TotalPageViews     L_star  \\\n",
       "0     POLITICIAN         GOVERNMENT  INSTITUTIONS       66145211   5.801387   \n",
       "1    PHILOSOPHER         PHILOSOPHY    HUMANITIES       56355172  11.914597   \n",
       "2         WRITER           LANGUAGE    HUMANITIES       14208218   3.175685   \n",
       "3  TENNIS PLAYER  INDIVIDUAL SPORTS        SPORTS       11244030   6.242525   \n",
       "4         WRITER           LANGUAGE    HUMANITIES        9268920   6.219842   \n",
       "\n",
       "  StdDevPageViews  PageViewsEnglish  PageViewsNonEnglish  AverageViews  \\\n",
       "0    586914.72200          41477236             24667975   504925.2748   \n",
       "1    201067.46070          15745351             40609821   370757.7105   \n",
       "2     87632.49020          11023490              3184728   258331.2364   \n",
       "3     85553.31810           6353888              4890142   162956.9565   \n",
       "4     33037.03209           5137256              4131664   149498.7097   \n",
       "\n",
       "         HPI  \n",
       "0  27.938585  \n",
       "1  31.993795  \n",
       "2  24.325936  \n",
       "3  20.925999  \n",
       "4  25.996605  \n",
       "\n",
       "[5 rows x 23 columns]"
      ]
     },
     "execution_count": 4,
     "metadata": {},
     "output_type": "execute_result"
    }
   ],
   "source": [
    "pantheondf.head(5)"
   ]
  },
  {
   "cell_type": "code",
   "execution_count": 5,
   "metadata": {},
   "outputs": [
    {
     "data": {
      "text/plain": [
       "(11340, 23)"
      ]
     },
     "execution_count": 5,
     "metadata": {},
     "output_type": "execute_result"
    }
   ],
   "source": [
    "pantheondf.shape"
   ]
  },
  {
   "cell_type": "code",
   "execution_count": 6,
   "metadata": {},
   "outputs": [],
   "source": [
    "# find quartiles\n",
    "\n",
    "from scipy import stats"
   ]
  },
  {
   "cell_type": "code",
   "execution_count": 7,
   "metadata": {},
   "outputs": [
    {
     "data": {
      "text/plain": [
       "DescribeResult(nobs=11340, minmax=(49.125, 1515231.9319999998), mean=89414.55898166022, variance=14754141143.815002, skewness=3.2023048891915185, kurtosis=15.511497226015205)"
      ]
     },
     "execution_count": 7,
     "metadata": {},
     "output_type": "execute_result"
    }
   ],
   "source": [
    "stats.describe(pantheondf.AverageViews)"
   ]
  },
  {
   "cell_type": "code",
   "execution_count": 8,
   "metadata": {},
   "outputs": [
    {
     "data": {
      "text/plain": [
       "18419.595247499998"
      ]
     },
     "execution_count": 8,
     "metadata": {},
     "output_type": "execute_result"
    }
   ],
   "source": [
    "np.percentile(pantheondf.AverageViews, 25)"
   ]
  },
  {
   "cell_type": "code",
   "execution_count": 9,
   "metadata": {},
   "outputs": [
    {
     "data": {
      "text/plain": [
       "43833.757835"
      ]
     },
     "execution_count": 9,
     "metadata": {},
     "output_type": "execute_result"
    }
   ],
   "source": [
    "np.percentile(pantheondf.AverageViews, 50)"
   ]
  },
  {
   "cell_type": "code",
   "execution_count": 10,
   "metadata": {},
   "outputs": [
    {
     "data": {
      "text/plain": [
       "107232.154775"
      ]
     },
     "execution_count": 10,
     "metadata": {},
     "output_type": "execute_result"
    }
   ],
   "source": [
    "np.percentile(pantheondf.AverageViews, 75)"
   ]
  },
  {
   "cell_type": "code",
   "execution_count": 11,
   "metadata": {},
   "outputs": [],
   "source": [
    "# assign classes depending on the Averige page views percentile\n",
    "\n",
    "pantheondf.loc[pantheondf['AverageViews'] < 18419,'class'] = 1"
   ]
  },
  {
   "cell_type": "code",
   "execution_count": 12,
   "metadata": {},
   "outputs": [],
   "source": [
    "pantheondf.loc[pantheondf['AverageViews'] > 107228,'class'] = 4"
   ]
  },
  {
   "cell_type": "code",
   "execution_count": 13,
   "metadata": {},
   "outputs": [],
   "source": [
    "pantheondf.loc[(pantheondf['AverageViews'] > 18419) \n",
    "               & (pantheondf['AverageViews'] < 43843),'class'] = 2"
   ]
  },
  {
   "cell_type": "code",
   "execution_count": 14,
   "metadata": {},
   "outputs": [],
   "source": [
    "pantheondf.loc[(pantheondf['AverageViews'] > 43843) \n",
    "               & (pantheondf['AverageViews'] < 107228),'class'] = 3"
   ]
  },
  {
   "cell_type": "code",
   "execution_count": 15,
   "metadata": {},
   "outputs": [
    {
     "data": {
      "text/html": [
       "<div>\n",
       "<style scoped>\n",
       "    .dataframe tbody tr th:only-of-type {\n",
       "        vertical-align: middle;\n",
       "    }\n",
       "\n",
       "    .dataframe tbody tr th {\n",
       "        vertical-align: top;\n",
       "    }\n",
       "\n",
       "    .dataframe thead th {\n",
       "        text-align: right;\n",
       "    }\n",
       "</style>\n",
       "<table border=\"1\" class=\"dataframe\">\n",
       "  <thead>\n",
       "    <tr style=\"text-align: right;\">\n",
       "      <th></th>\n",
       "      <th>en_curid</th>\n",
       "      <th>name</th>\n",
       "      <th>numlangs</th>\n",
       "      <th>birthcity</th>\n",
       "      <th>birthstate</th>\n",
       "      <th>countryName</th>\n",
       "      <th>countryCode</th>\n",
       "      <th>countryCode3</th>\n",
       "      <th>LAT</th>\n",
       "      <th>LON</th>\n",
       "      <th>...</th>\n",
       "      <th>industry</th>\n",
       "      <th>domain</th>\n",
       "      <th>TotalPageViews</th>\n",
       "      <th>L_star</th>\n",
       "      <th>StdDevPageViews</th>\n",
       "      <th>PageViewsEnglish</th>\n",
       "      <th>PageViewsNonEnglish</th>\n",
       "      <th>AverageViews</th>\n",
       "      <th>HPI</th>\n",
       "      <th>class</th>\n",
       "    </tr>\n",
       "  </thead>\n",
       "  <tbody>\n",
       "    <tr>\n",
       "      <th>0</th>\n",
       "      <td>307</td>\n",
       "      <td>Abraham Lincoln</td>\n",
       "      <td>131</td>\n",
       "      <td>Hodgenville</td>\n",
       "      <td>KY</td>\n",
       "      <td>UNITED STATES</td>\n",
       "      <td>US</td>\n",
       "      <td>USA</td>\n",
       "      <td>37.571111</td>\n",
       "      <td>-85.738611</td>\n",
       "      <td>...</td>\n",
       "      <td>GOVERNMENT</td>\n",
       "      <td>INSTITUTIONS</td>\n",
       "      <td>66145211</td>\n",
       "      <td>5.801387</td>\n",
       "      <td>586914.72200</td>\n",
       "      <td>41477236</td>\n",
       "      <td>24667975</td>\n",
       "      <td>504925.2748</td>\n",
       "      <td>27.938585</td>\n",
       "      <td>4.0</td>\n",
       "    </tr>\n",
       "    <tr>\n",
       "      <th>1</th>\n",
       "      <td>308</td>\n",
       "      <td>Aristotle</td>\n",
       "      <td>152</td>\n",
       "      <td>Stageira</td>\n",
       "      <td>NaN</td>\n",
       "      <td>Greece</td>\n",
       "      <td>GR</td>\n",
       "      <td>GRC</td>\n",
       "      <td>40.333333</td>\n",
       "      <td>23.500000</td>\n",
       "      <td>...</td>\n",
       "      <td>PHILOSOPHY</td>\n",
       "      <td>HUMANITIES</td>\n",
       "      <td>56355172</td>\n",
       "      <td>11.914597</td>\n",
       "      <td>201067.46070</td>\n",
       "      <td>15745351</td>\n",
       "      <td>40609821</td>\n",
       "      <td>370757.7105</td>\n",
       "      <td>31.993795</td>\n",
       "      <td>4.0</td>\n",
       "    </tr>\n",
       "    <tr>\n",
       "      <th>2</th>\n",
       "      <td>339</td>\n",
       "      <td>Ayn Rand</td>\n",
       "      <td>55</td>\n",
       "      <td>Saint Petersburg</td>\n",
       "      <td>NaN</td>\n",
       "      <td>Russia</td>\n",
       "      <td>RU</td>\n",
       "      <td>RUS</td>\n",
       "      <td>59.950000</td>\n",
       "      <td>30.300000</td>\n",
       "      <td>...</td>\n",
       "      <td>LANGUAGE</td>\n",
       "      <td>HUMANITIES</td>\n",
       "      <td>14208218</td>\n",
       "      <td>3.175685</td>\n",
       "      <td>87632.49020</td>\n",
       "      <td>11023490</td>\n",
       "      <td>3184728</td>\n",
       "      <td>258331.2364</td>\n",
       "      <td>24.325936</td>\n",
       "      <td>4.0</td>\n",
       "    </tr>\n",
       "    <tr>\n",
       "      <th>3</th>\n",
       "      <td>595</td>\n",
       "      <td>Andre Agassi</td>\n",
       "      <td>69</td>\n",
       "      <td>Las Vegas</td>\n",
       "      <td>NV</td>\n",
       "      <td>UNITED STATES</td>\n",
       "      <td>US</td>\n",
       "      <td>USA</td>\n",
       "      <td>36.121514</td>\n",
       "      <td>-115.173851</td>\n",
       "      <td>...</td>\n",
       "      <td>INDIVIDUAL SPORTS</td>\n",
       "      <td>SPORTS</td>\n",
       "      <td>11244030</td>\n",
       "      <td>6.242525</td>\n",
       "      <td>85553.31810</td>\n",
       "      <td>6353888</td>\n",
       "      <td>4890142</td>\n",
       "      <td>162956.9565</td>\n",
       "      <td>20.925999</td>\n",
       "      <td>4.0</td>\n",
       "    </tr>\n",
       "    <tr>\n",
       "      <th>4</th>\n",
       "      <td>628</td>\n",
       "      <td>Aldous Huxley</td>\n",
       "      <td>62</td>\n",
       "      <td>Godalming</td>\n",
       "      <td>NaN</td>\n",
       "      <td>UNITED KINGDOM</td>\n",
       "      <td>GB</td>\n",
       "      <td>GBR</td>\n",
       "      <td>51.185000</td>\n",
       "      <td>-0.610000</td>\n",
       "      <td>...</td>\n",
       "      <td>LANGUAGE</td>\n",
       "      <td>HUMANITIES</td>\n",
       "      <td>9268920</td>\n",
       "      <td>6.219842</td>\n",
       "      <td>33037.03209</td>\n",
       "      <td>5137256</td>\n",
       "      <td>4131664</td>\n",
       "      <td>149498.7097</td>\n",
       "      <td>25.996605</td>\n",
       "      <td>4.0</td>\n",
       "    </tr>\n",
       "    <tr>\n",
       "      <th>5</th>\n",
       "      <td>700</td>\n",
       "      <td>Arthur Schopenhauer</td>\n",
       "      <td>79</td>\n",
       "      <td>Gdaãsk</td>\n",
       "      <td>NaN</td>\n",
       "      <td>POLAND</td>\n",
       "      <td>PL</td>\n",
       "      <td>POL</td>\n",
       "      <td>54.350000</td>\n",
       "      <td>18.633333</td>\n",
       "      <td>...</td>\n",
       "      <td>PHILOSOPHY</td>\n",
       "      <td>HUMANITIES</td>\n",
       "      <td>11622780</td>\n",
       "      <td>12.666215</td>\n",
       "      <td>61718.81469</td>\n",
       "      <td>2743101</td>\n",
       "      <td>8879679</td>\n",
       "      <td>147123.7975</td>\n",
       "      <td>27.776020</td>\n",
       "      <td>4.0</td>\n",
       "    </tr>\n",
       "    <tr>\n",
       "      <th>6</th>\n",
       "      <td>736</td>\n",
       "      <td>Albert Einstein</td>\n",
       "      <td>166</td>\n",
       "      <td>Ulm</td>\n",
       "      <td>NaN</td>\n",
       "      <td>Germany</td>\n",
       "      <td>DE</td>\n",
       "      <td>DEU</td>\n",
       "      <td>48.400000</td>\n",
       "      <td>9.983333</td>\n",
       "      <td>...</td>\n",
       "      <td>NATURAL SCIENCES</td>\n",
       "      <td>SCIENCE &amp; TECHNOLOGY</td>\n",
       "      <td>89771090</td>\n",
       "      <td>11.501201</td>\n",
       "      <td>342755.95500</td>\n",
       "      <td>34276454</td>\n",
       "      <td>55494636</td>\n",
       "      <td>540789.6988</td>\n",
       "      <td>30.210614</td>\n",
       "      <td>4.0</td>\n",
       "    </tr>\n",
       "    <tr>\n",
       "      <th>7</th>\n",
       "      <td>783</td>\n",
       "      <td>Alexander the Great</td>\n",
       "      <td>138</td>\n",
       "      <td>Pella</td>\n",
       "      <td>NaN</td>\n",
       "      <td>Greece</td>\n",
       "      <td>GR</td>\n",
       "      <td>GRC</td>\n",
       "      <td>40.800000</td>\n",
       "      <td>22.516667</td>\n",
       "      <td>...</td>\n",
       "      <td>MILITARY</td>\n",
       "      <td>INSTITUTIONS</td>\n",
       "      <td>48358148</td>\n",
       "      <td>11.182406</td>\n",
       "      <td>153675.91720</td>\n",
       "      <td>19942587</td>\n",
       "      <td>28415561</td>\n",
       "      <td>350421.3623</td>\n",
       "      <td>31.583952</td>\n",
       "      <td>4.0</td>\n",
       "    </tr>\n",
       "    <tr>\n",
       "      <th>8</th>\n",
       "      <td>808</td>\n",
       "      <td>Alfred Hitchcock</td>\n",
       "      <td>100</td>\n",
       "      <td>Leytonstone</td>\n",
       "      <td>NaN</td>\n",
       "      <td>UNITED KINGDOM</td>\n",
       "      <td>GB</td>\n",
       "      <td>GBR</td>\n",
       "      <td>51.569000</td>\n",
       "      <td>0.010000</td>\n",
       "      <td>...</td>\n",
       "      <td>FILM AND THEATRE</td>\n",
       "      <td>ARTS</td>\n",
       "      <td>23216701</td>\n",
       "      <td>8.349061</td>\n",
       "      <td>164426.30510</td>\n",
       "      <td>10496279</td>\n",
       "      <td>12720422</td>\n",
       "      <td>232167.0100</td>\n",
       "      <td>27.175982</td>\n",
       "      <td>4.0</td>\n",
       "    </tr>\n",
       "    <tr>\n",
       "      <th>9</th>\n",
       "      <td>841</td>\n",
       "      <td>Attila the Hun</td>\n",
       "      <td>83</td>\n",
       "      <td>HajdÌ¼bÌ¦szÌ¦rmÌ©ny</td>\n",
       "      <td>NaN</td>\n",
       "      <td>Hungary</td>\n",
       "      <td>HU</td>\n",
       "      <td>HUN</td>\n",
       "      <td>NaN</td>\n",
       "      <td>NaN</td>\n",
       "      <td>...</td>\n",
       "      <td>GOVERNMENT</td>\n",
       "      <td>INSTITUTIONS</td>\n",
       "      <td>11123103</td>\n",
       "      <td>13.975813</td>\n",
       "      <td>59842.86906</td>\n",
       "      <td>2971786</td>\n",
       "      <td>8151317</td>\n",
       "      <td>134013.2892</td>\n",
       "      <td>29.243327</td>\n",
       "      <td>4.0</td>\n",
       "    </tr>\n",
       "  </tbody>\n",
       "</table>\n",
       "<p>10 rows × 24 columns</p>\n",
       "</div>"
      ],
      "text/plain": [
       "   en_curid                 name  numlangs            birthcity birthstate  \\\n",
       "0       307      Abraham Lincoln       131          Hodgenville         KY   \n",
       "1       308            Aristotle       152             Stageira        NaN   \n",
       "2       339             Ayn Rand        55     Saint Petersburg        NaN   \n",
       "3       595         Andre Agassi        69            Las Vegas         NV   \n",
       "4       628        Aldous Huxley        62            Godalming        NaN   \n",
       "5       700  Arthur Schopenhauer        79              Gdaãsk        NaN   \n",
       "6       736      Albert Einstein       166                  Ulm        NaN   \n",
       "7       783  Alexander the Great       138                Pella        NaN   \n",
       "8       808     Alfred Hitchcock       100          Leytonstone        NaN   \n",
       "9       841       Attila the Hun        83  HajdÌ¼bÌ¦szÌ¦rmÌ©ny        NaN   \n",
       "\n",
       "      countryName countryCode countryCode3        LAT         LON  ...  \\\n",
       "0   UNITED STATES          US          USA  37.571111  -85.738611  ...   \n",
       "1          Greece          GR          GRC  40.333333   23.500000  ...   \n",
       "2          Russia          RU          RUS  59.950000   30.300000  ...   \n",
       "3   UNITED STATES          US          USA  36.121514 -115.173851  ...   \n",
       "4  UNITED KINGDOM          GB          GBR  51.185000   -0.610000  ...   \n",
       "5          POLAND          PL          POL  54.350000   18.633333  ...   \n",
       "6         Germany          DE          DEU  48.400000    9.983333  ...   \n",
       "7          Greece          GR          GRC  40.800000   22.516667  ...   \n",
       "8  UNITED KINGDOM          GB          GBR  51.569000    0.010000  ...   \n",
       "9         Hungary          HU          HUN        NaN         NaN  ...   \n",
       "\n",
       "            industry                domain TotalPageViews     L_star  \\\n",
       "0         GOVERNMENT          INSTITUTIONS       66145211   5.801387   \n",
       "1         PHILOSOPHY            HUMANITIES       56355172  11.914597   \n",
       "2           LANGUAGE            HUMANITIES       14208218   3.175685   \n",
       "3  INDIVIDUAL SPORTS                SPORTS       11244030   6.242525   \n",
       "4           LANGUAGE            HUMANITIES        9268920   6.219842   \n",
       "5         PHILOSOPHY            HUMANITIES       11622780  12.666215   \n",
       "6   NATURAL SCIENCES  SCIENCE & TECHNOLOGY       89771090  11.501201   \n",
       "7           MILITARY          INSTITUTIONS       48358148  11.182406   \n",
       "8   FILM AND THEATRE                  ARTS       23216701   8.349061   \n",
       "9         GOVERNMENT          INSTITUTIONS       11123103  13.975813   \n",
       "\n",
       "  StdDevPageViews PageViewsEnglish  PageViewsNonEnglish  AverageViews  \\\n",
       "0    586914.72200         41477236             24667975   504925.2748   \n",
       "1    201067.46070         15745351             40609821   370757.7105   \n",
       "2     87632.49020         11023490              3184728   258331.2364   \n",
       "3     85553.31810          6353888              4890142   162956.9565   \n",
       "4     33037.03209          5137256              4131664   149498.7097   \n",
       "5     61718.81469          2743101              8879679   147123.7975   \n",
       "6    342755.95500         34276454             55494636   540789.6988   \n",
       "7    153675.91720         19942587             28415561   350421.3623   \n",
       "8    164426.30510         10496279             12720422   232167.0100   \n",
       "9     59842.86906          2971786              8151317   134013.2892   \n",
       "\n",
       "         HPI  class  \n",
       "0  27.938585    4.0  \n",
       "1  31.993795    4.0  \n",
       "2  24.325936    4.0  \n",
       "3  20.925999    4.0  \n",
       "4  25.996605    4.0  \n",
       "5  27.776020    4.0  \n",
       "6  30.210614    4.0  \n",
       "7  31.583952    4.0  \n",
       "8  27.175982    4.0  \n",
       "9  29.243327    4.0  \n",
       "\n",
       "[10 rows x 24 columns]"
      ]
     },
     "execution_count": 15,
     "metadata": {},
     "output_type": "execute_result"
    }
   ],
   "source": [
    "pantheondf.head(10)"
   ]
  },
  {
   "cell_type": "code",
   "execution_count": 16,
   "metadata": {},
   "outputs": [
    {
     "data": {
      "text/plain": [
       "{1.0, 2.0, 3.0, 4.0}"
      ]
     },
     "execution_count": 16,
     "metadata": {},
     "output_type": "execute_result"
    }
   ],
   "source": [
    "# check data distribution\n",
    "\n",
    "set(pantheondf[\"class\"])"
   ]
  },
  {
   "cell_type": "code",
   "execution_count": 17,
   "metadata": {},
   "outputs": [],
   "source": [
    "import collections"
   ]
  },
  {
   "cell_type": "code",
   "execution_count": 18,
   "metadata": {},
   "outputs": [],
   "source": [
    "counter=collections.Counter(pantheondf['class'])"
   ]
  },
  {
   "cell_type": "code",
   "execution_count": 19,
   "metadata": {},
   "outputs": [
    {
     "name": "stdout",
     "output_type": "stream",
     "text": [
      "Counter({4.0: 2836, 2.0: 2836, 3.0: 2834, 1.0: 2834})\n"
     ]
    }
   ],
   "source": [
    "print(counter)"
   ]
  },
  {
   "cell_type": "code",
   "execution_count": 20,
   "metadata": {},
   "outputs": [
    {
     "data": {
      "text/plain": [
       "<matplotlib.axes._subplots.AxesSubplot at 0x125c85160>"
      ]
     },
     "execution_count": 20,
     "metadata": {},
     "output_type": "execute_result"
    },
    {
     "data": {
      "image/png": "[encoded data removed]",
      "text/plain": [
       "<Figure size 1080x1080 with 1 Axes>"
      ]
     },
     "metadata": {},
     "output_type": "display_data"
    }
   ],
   "source": [
    "pantheondf.groupby(['industry']).size().plot.pie(figsize=(15, 15))"
   ]
  },
  {
   "cell_type": "code",
   "execution_count": 21,
   "metadata": {},
   "outputs": [
    {
     "data": {
      "text/plain": [
       "<matplotlib.axes._subplots.AxesSubplot at 0x133a80208>"
      ]
     },
     "execution_count": 21,
     "metadata": {},
     "output_type": "execute_result"
    },
    {
     "data": {
      "image/png": "[encoded data removed]",
      "text/plain": [
       "<Figure size 1080x1080 with 1 Axes>"
      ]
     },
     "metadata": {
      "needs_background": "light"
     },
     "output_type": "display_data"
    }
   ],
   "source": [
    "pantheondf['AverageViews'].plot.hist(bins=50, figsize=(15, 15))"
   ]
  },
  {
   "cell_type": "code",
   "execution_count": 22,
   "metadata": {},
   "outputs": [
    {
     "data": {
      "text/plain": [
       "Index(['en_curid', 'name', 'numlangs', 'birthcity', 'birthstate',\n",
       "       'countryName', 'countryCode', 'countryCode3', 'LAT', 'LON',\n",
       "       'continentName', 'birthyear', 'gender', 'occupation', 'industry',\n",
       "       'domain', 'TotalPageViews', 'L_star', 'StdDevPageViews',\n",
       "       'PageViewsEnglish', 'PageViewsNonEnglish', 'AverageViews', 'HPI',\n",
       "       'class'],\n",
       "      dtype='object')"
      ]
     },
     "execution_count": 22,
     "metadata": {},
     "output_type": "execute_result"
    }
   ],
   "source": [
    "pantheondf.columns"
   ]
  },
  {
   "cell_type": "code",
   "execution_count": 23,
   "metadata": {},
   "outputs": [],
   "source": [
    "pantheondf = pantheondf[['LAT', 'LON', 'birthyear', 'gender',\n",
    "                         'occupation', 'industry', 'domain', 'class']]"
   ]
  },
  {
   "cell_type": "code",
   "execution_count": 24,
   "metadata": {},
   "outputs": [
    {
     "data": {
      "text/html": [
       "<div>\n",
       "<style scoped>\n",
       "    .dataframe tbody tr th:only-of-type {\n",
       "        vertical-align: middle;\n",
       "    }\n",
       "\n",
       "    .dataframe tbody tr th {\n",
       "        vertical-align: top;\n",
       "    }\n",
       "\n",
       "    .dataframe thead th {\n",
       "        text-align: right;\n",
       "    }\n",
       "</style>\n",
       "<table border=\"1\" class=\"dataframe\">\n",
       "  <thead>\n",
       "    <tr style=\"text-align: right;\">\n",
       "      <th></th>\n",
       "      <th>LAT</th>\n",
       "      <th>LON</th>\n",
       "      <th>birthyear</th>\n",
       "      <th>gender</th>\n",
       "      <th>occupation</th>\n",
       "      <th>industry</th>\n",
       "      <th>domain</th>\n",
       "      <th>class</th>\n",
       "    </tr>\n",
       "  </thead>\n",
       "  <tbody>\n",
       "    <tr>\n",
       "      <th>0</th>\n",
       "      <td>37.571111</td>\n",
       "      <td>-85.738611</td>\n",
       "      <td>1809</td>\n",
       "      <td>Male</td>\n",
       "      <td>POLITICIAN</td>\n",
       "      <td>GOVERNMENT</td>\n",
       "      <td>INSTITUTIONS</td>\n",
       "      <td>4.0</td>\n",
       "    </tr>\n",
       "    <tr>\n",
       "      <th>1</th>\n",
       "      <td>40.333333</td>\n",
       "      <td>23.500000</td>\n",
       "      <td>-384</td>\n",
       "      <td>Male</td>\n",
       "      <td>PHILOSOPHER</td>\n",
       "      <td>PHILOSOPHY</td>\n",
       "      <td>HUMANITIES</td>\n",
       "      <td>4.0</td>\n",
       "    </tr>\n",
       "    <tr>\n",
       "      <th>2</th>\n",
       "      <td>59.950000</td>\n",
       "      <td>30.300000</td>\n",
       "      <td>1905</td>\n",
       "      <td>Female</td>\n",
       "      <td>WRITER</td>\n",
       "      <td>LANGUAGE</td>\n",
       "      <td>HUMANITIES</td>\n",
       "      <td>4.0</td>\n",
       "    </tr>\n",
       "    <tr>\n",
       "      <th>3</th>\n",
       "      <td>36.121514</td>\n",
       "      <td>-115.173851</td>\n",
       "      <td>1970</td>\n",
       "      <td>Male</td>\n",
       "      <td>TENNIS PLAYER</td>\n",
       "      <td>INDIVIDUAL SPORTS</td>\n",
       "      <td>SPORTS</td>\n",
       "      <td>4.0</td>\n",
       "    </tr>\n",
       "    <tr>\n",
       "      <th>4</th>\n",
       "      <td>51.185000</td>\n",
       "      <td>-0.610000</td>\n",
       "      <td>1894</td>\n",
       "      <td>Male</td>\n",
       "      <td>WRITER</td>\n",
       "      <td>LANGUAGE</td>\n",
       "      <td>HUMANITIES</td>\n",
       "      <td>4.0</td>\n",
       "    </tr>\n",
       "    <tr>\n",
       "      <th>5</th>\n",
       "      <td>54.350000</td>\n",
       "      <td>18.633333</td>\n",
       "      <td>1788</td>\n",
       "      <td>Male</td>\n",
       "      <td>PHILOSOPHER</td>\n",
       "      <td>PHILOSOPHY</td>\n",
       "      <td>HUMANITIES</td>\n",
       "      <td>4.0</td>\n",
       "    </tr>\n",
       "    <tr>\n",
       "      <th>6</th>\n",
       "      <td>48.400000</td>\n",
       "      <td>9.983333</td>\n",
       "      <td>1879</td>\n",
       "      <td>Male</td>\n",
       "      <td>PHYSICIST</td>\n",
       "      <td>NATURAL SCIENCES</td>\n",
       "      <td>SCIENCE &amp; TECHNOLOGY</td>\n",
       "      <td>4.0</td>\n",
       "    </tr>\n",
       "    <tr>\n",
       "      <th>7</th>\n",
       "      <td>40.800000</td>\n",
       "      <td>22.516667</td>\n",
       "      <td>-356</td>\n",
       "      <td>Male</td>\n",
       "      <td>MILITARY PERSONNEL</td>\n",
       "      <td>MILITARY</td>\n",
       "      <td>INSTITUTIONS</td>\n",
       "      <td>4.0</td>\n",
       "    </tr>\n",
       "    <tr>\n",
       "      <th>8</th>\n",
       "      <td>51.569000</td>\n",
       "      <td>0.010000</td>\n",
       "      <td>1899</td>\n",
       "      <td>Male</td>\n",
       "      <td>FILM DIRECTOR</td>\n",
       "      <td>FILM AND THEATRE</td>\n",
       "      <td>ARTS</td>\n",
       "      <td>4.0</td>\n",
       "    </tr>\n",
       "    <tr>\n",
       "      <th>9</th>\n",
       "      <td>NaN</td>\n",
       "      <td>NaN</td>\n",
       "      <td>406</td>\n",
       "      <td>Male</td>\n",
       "      <td>POLITICIAN</td>\n",
       "      <td>GOVERNMENT</td>\n",
       "      <td>INSTITUTIONS</td>\n",
       "      <td>4.0</td>\n",
       "    </tr>\n",
       "  </tbody>\n",
       "</table>\n",
       "</div>"
      ],
      "text/plain": [
       "         LAT         LON birthyear  gender          occupation  \\\n",
       "0  37.571111  -85.738611      1809    Male          POLITICIAN   \n",
       "1  40.333333   23.500000      -384    Male         PHILOSOPHER   \n",
       "2  59.950000   30.300000      1905  Female              WRITER   \n",
       "3  36.121514 -115.173851      1970    Male       TENNIS PLAYER   \n",
       "4  51.185000   -0.610000      1894    Male              WRITER   \n",
       "5  54.350000   18.633333      1788    Male         PHILOSOPHER   \n",
       "6  48.400000    9.983333      1879    Male           PHYSICIST   \n",
       "7  40.800000   22.516667      -356    Male  MILITARY PERSONNEL   \n",
       "8  51.569000    0.010000      1899    Male       FILM DIRECTOR   \n",
       "9        NaN         NaN       406    Male          POLITICIAN   \n",
       "\n",
       "            industry                domain  class  \n",
       "0         GOVERNMENT          INSTITUTIONS    4.0  \n",
       "1         PHILOSOPHY            HUMANITIES    4.0  \n",
       "2           LANGUAGE            HUMANITIES    4.0  \n",
       "3  INDIVIDUAL SPORTS                SPORTS    4.0  \n",
       "4           LANGUAGE            HUMANITIES    4.0  \n",
       "5         PHILOSOPHY            HUMANITIES    4.0  \n",
       "6   NATURAL SCIENCES  SCIENCE & TECHNOLOGY    4.0  \n",
       "7           MILITARY          INSTITUTIONS    4.0  \n",
       "8   FILM AND THEATRE                  ARTS    4.0  \n",
       "9         GOVERNMENT          INSTITUTIONS    4.0  "
      ]
     },
     "execution_count": 24,
     "metadata": {},
     "output_type": "execute_result"
    }
   ],
   "source": [
    "pantheondf.head(10)"
   ]
  },
  {
   "cell_type": "code",
   "execution_count": 25,
   "metadata": {},
   "outputs": [
    {
     "data": {
      "text/html": [
       "<div>\n",
       "<style scoped>\n",
       "    .dataframe tbody tr th:only-of-type {\n",
       "        vertical-align: middle;\n",
       "    }\n",
       "\n",
       "    .dataframe tbody tr th {\n",
       "        vertical-align: top;\n",
       "    }\n",
       "\n",
       "    .dataframe thead th {\n",
       "        text-align: right;\n",
       "    }\n",
       "</style>\n",
       "<table border=\"1\" class=\"dataframe\">\n",
       "  <thead>\n",
       "    <tr style=\"text-align: right;\">\n",
       "      <th></th>\n",
       "      <th>LAT</th>\n",
       "      <th>LON</th>\n",
       "      <th>birthyear</th>\n",
       "      <th>gender</th>\n",
       "      <th>occupation</th>\n",
       "      <th>industry</th>\n",
       "      <th>domain</th>\n",
       "      <th>class</th>\n",
       "    </tr>\n",
       "  </thead>\n",
       "  <tbody>\n",
       "    <tr>\n",
       "      <th>0</th>\n",
       "      <td>37.571111</td>\n",
       "      <td>-85.738611</td>\n",
       "      <td>1809</td>\n",
       "      <td>Male</td>\n",
       "      <td>POLITICIAN</td>\n",
       "      <td>GOVERNMENT</td>\n",
       "      <td>INSTITUTIONS</td>\n",
       "      <td>4.0</td>\n",
       "    </tr>\n",
       "    <tr>\n",
       "      <th>1</th>\n",
       "      <td>40.333333</td>\n",
       "      <td>23.500000</td>\n",
       "      <td>-384</td>\n",
       "      <td>Male</td>\n",
       "      <td>PHILOSOPHER</td>\n",
       "      <td>PHILOSOPHY</td>\n",
       "      <td>HUMANITIES</td>\n",
       "      <td>4.0</td>\n",
       "    </tr>\n",
       "    <tr>\n",
       "      <th>2</th>\n",
       "      <td>59.950000</td>\n",
       "      <td>30.300000</td>\n",
       "      <td>1905</td>\n",
       "      <td>Female</td>\n",
       "      <td>WRITER</td>\n",
       "      <td>LANGUAGE</td>\n",
       "      <td>HUMANITIES</td>\n",
       "      <td>4.0</td>\n",
       "    </tr>\n",
       "    <tr>\n",
       "      <th>3</th>\n",
       "      <td>36.121514</td>\n",
       "      <td>-115.173851</td>\n",
       "      <td>1970</td>\n",
       "      <td>Male</td>\n",
       "      <td>TENNIS PLAYER</td>\n",
       "      <td>INDIVIDUAL SPORTS</td>\n",
       "      <td>SPORTS</td>\n",
       "      <td>4.0</td>\n",
       "    </tr>\n",
       "    <tr>\n",
       "      <th>4</th>\n",
       "      <td>51.185000</td>\n",
       "      <td>-0.610000</td>\n",
       "      <td>1894</td>\n",
       "      <td>Male</td>\n",
       "      <td>WRITER</td>\n",
       "      <td>LANGUAGE</td>\n",
       "      <td>HUMANITIES</td>\n",
       "      <td>4.0</td>\n",
       "    </tr>\n",
       "    <tr>\n",
       "      <th>...</th>\n",
       "      <td>...</td>\n",
       "      <td>...</td>\n",
       "      <td>...</td>\n",
       "      <td>...</td>\n",
       "      <td>...</td>\n",
       "      <td>...</td>\n",
       "      <td>...</td>\n",
       "      <td>...</td>\n",
       "    </tr>\n",
       "    <tr>\n",
       "      <th>11335</th>\n",
       "      <td>0.000000</td>\n",
       "      <td>0.000000</td>\n",
       "      <td>-3500</td>\n",
       "      <td>Female</td>\n",
       "      <td>RELIGIOUS FIGURE</td>\n",
       "      <td>RELIGION</td>\n",
       "      <td>INSTITUTIONS</td>\n",
       "      <td>3.0</td>\n",
       "    </tr>\n",
       "    <tr>\n",
       "      <th>11336</th>\n",
       "      <td>55.000000</td>\n",
       "      <td>24.000000</td>\n",
       "      <td>1200</td>\n",
       "      <td>Male</td>\n",
       "      <td>POLITICIAN</td>\n",
       "      <td>GOVERNMENT</td>\n",
       "      <td>INSTITUTIONS</td>\n",
       "      <td>2.0</td>\n",
       "    </tr>\n",
       "    <tr>\n",
       "      <th>11337</th>\n",
       "      <td>0.000000</td>\n",
       "      <td>0.000000</td>\n",
       "      <td>1275</td>\n",
       "      <td>Male</td>\n",
       "      <td>POLITICIAN</td>\n",
       "      <td>GOVERNMENT</td>\n",
       "      <td>INSTITUTIONS</td>\n",
       "      <td>2.0</td>\n",
       "    </tr>\n",
       "    <tr>\n",
       "      <th>11338</th>\n",
       "      <td>31.200000</td>\n",
       "      <td>29.916667</td>\n",
       "      <td>1917</td>\n",
       "      <td>Male</td>\n",
       "      <td>HISTORIAN</td>\n",
       "      <td>HISTORY</td>\n",
       "      <td>HUMANITIES</td>\n",
       "      <td>3.0</td>\n",
       "    </tr>\n",
       "    <tr>\n",
       "      <th>11339</th>\n",
       "      <td>51.533333</td>\n",
       "      <td>46.016667</td>\n",
       "      <td>1828</td>\n",
       "      <td>Male</td>\n",
       "      <td>WRITER</td>\n",
       "      <td>LANGUAGE</td>\n",
       "      <td>HUMANITIES</td>\n",
       "      <td>2.0</td>\n",
       "    </tr>\n",
       "  </tbody>\n",
       "</table>\n",
       "<p>11340 rows × 8 columns</p>\n",
       "</div>"
      ],
      "text/plain": [
       "             LAT         LON birthyear  gender        occupation  \\\n",
       "0      37.571111  -85.738611      1809    Male        POLITICIAN   \n",
       "1      40.333333   23.500000      -384    Male       PHILOSOPHER   \n",
       "2      59.950000   30.300000      1905  Female            WRITER   \n",
       "3      36.121514 -115.173851      1970    Male     TENNIS PLAYER   \n",
       "4      51.185000   -0.610000      1894    Male            WRITER   \n",
       "...          ...         ...       ...     ...               ...   \n",
       "11335   0.000000    0.000000     -3500  Female  RELIGIOUS FIGURE   \n",
       "11336  55.000000   24.000000      1200    Male        POLITICIAN   \n",
       "11337   0.000000    0.000000      1275    Male        POLITICIAN   \n",
       "11338  31.200000   29.916667      1917    Male         HISTORIAN   \n",
       "11339  51.533333   46.016667      1828    Male            WRITER   \n",
       "\n",
       "                industry        domain  class  \n",
       "0             GOVERNMENT  INSTITUTIONS    4.0  \n",
       "1             PHILOSOPHY    HUMANITIES    4.0  \n",
       "2               LANGUAGE    HUMANITIES    4.0  \n",
       "3      INDIVIDUAL SPORTS        SPORTS    4.0  \n",
       "4               LANGUAGE    HUMANITIES    4.0  \n",
       "...                  ...           ...    ...  \n",
       "11335           RELIGION  INSTITUTIONS    3.0  \n",
       "11336         GOVERNMENT  INSTITUTIONS    2.0  \n",
       "11337         GOVERNMENT  INSTITUTIONS    2.0  \n",
       "11338            HISTORY    HUMANITIES    3.0  \n",
       "11339           LANGUAGE    HUMANITIES    2.0  \n",
       "\n",
       "[11340 rows x 8 columns]"
      ]
     },
     "execution_count": 25,
     "metadata": {},
     "output_type": "execute_result"
    }
   ],
   "source": [
    "pantheondf.fillna(0)"
   ]
  },
  {
   "cell_type": "code",
   "execution_count": 26,
   "metadata": {},
   "outputs": [
    {
     "data": {
      "text/plain": [
       "LAT           float64\n",
       "LON           float64\n",
       "birthyear      object\n",
       "gender         object\n",
       "occupation     object\n",
       "industry       object\n",
       "domain         object\n",
       "class         float64\n",
       "dtype: object"
      ]
     },
     "execution_count": 26,
     "metadata": {},
     "output_type": "execute_result"
    }
   ],
   "source": [
    "pantheondf.dtypes"
   ]
  },
  {
   "cell_type": "code",
   "execution_count": 27,
   "metadata": {},
   "outputs": [
    {
     "name": "stdout",
     "output_type": "stream",
     "text": [
      "                LAT           LON         class\n",
      "count  10294.000000  10294.000000  11340.000000\n",
      "mean      39.931860     -7.039516      2.500176\n",
      "std       18.688257     55.118931      1.118083\n",
      "min      -51.633333   -175.200556      1.000000\n",
      "25%       37.916667    -56.072708      2.000000\n",
      "50%       43.716667      4.483333      2.500000\n",
      "75%       50.936389     17.210000      4.000000\n",
      "max       70.073333    178.017778      4.000000\n"
     ]
    }
   ],
   "source": [
    "print(pantheondf.describe())"
   ]
  },
  {
   "cell_type": "code",
   "execution_count": 28,
   "metadata": {},
   "outputs": [],
   "source": [
    "pantheondf['birthyear'] = pantheondf['birthyear'].str.extract('(\\d+)', expand=False)"
   ]
  },
  {
   "cell_type": "code",
   "execution_count": 29,
   "metadata": {},
   "outputs": [],
   "source": [
    "pantheondf['birthyear'] = pantheondf['birthyear'].apply(pd.to_numeric, errors='coerce').fillna(0, downcast='infer')"
   ]
  },
  {
   "cell_type": "code",
   "execution_count": 30,
   "metadata": {},
   "outputs": [
    {
     "name": "stdout",
     "output_type": "stream",
     "text": [
      "                LAT           LON     birthyear         class\n",
      "count  10294.000000  10294.000000  11340.000000  11340.000000\n",
      "mean      39.931860     -7.039516   1733.215873      2.500176\n",
      "std       18.688257     55.118931    471.067206      1.118083\n",
      "min      -51.633333   -175.200556      0.000000      1.000000\n",
      "25%       37.916667    -56.072708   1801.000000      2.000000\n",
      "50%       43.716667      4.483333   1920.000000      2.500000\n",
      "75%       50.936389     17.210000   1962.000000      4.000000\n",
      "max       70.073333    178.017778   3500.000000      4.000000\n"
     ]
    }
   ],
   "source": [
    "print(pantheondf.describe())"
   ]
  },
  {
   "cell_type": "code",
   "execution_count": 31,
   "metadata": {},
   "outputs": [],
   "source": [
    "pantheondf.loc[pantheondf['birthyear'] > 2018,'birthyear'] = 0"
   ]
  },
  {
   "cell_type": "code",
   "execution_count": 32,
   "metadata": {},
   "outputs": [
    {
     "name": "stdout",
     "output_type": "stream",
     "text": [
      "                LAT           LON     birthyear         class\n",
      "count  10294.000000  10294.000000  11340.000000  11340.000000\n",
      "mean      39.931860     -7.039516   1715.393739      2.500176\n",
      "std       18.688257     55.118931    478.557745      1.118083\n",
      "min      -51.633333   -175.200556      0.000000      1.000000\n",
      "25%       37.916667    -56.072708   1792.000000      2.000000\n",
      "50%       43.716667      4.483333   1919.000000      2.500000\n",
      "75%       50.936389     17.210000   1961.000000      4.000000\n",
      "max       70.073333    178.017778   2005.000000      4.000000\n"
     ]
    }
   ],
   "source": [
    "print(pantheondf.describe())"
   ]
  },
  {
   "cell_type": "code",
   "execution_count": 33,
   "metadata": {},
   "outputs": [],
   "source": [
    "pantheondf['LAT'] = pantheondf['LAT'].apply(pd.to_numeric, errors='coerce').fillna(0, downcast='infer')"
   ]
  },
  {
   "cell_type": "code",
   "execution_count": 34,
   "metadata": {},
   "outputs": [
    {
     "name": "stdout",
     "output_type": "stream",
     "text": [
      "                LAT           LON     birthyear         class\n",
      "count  11340.000000  10294.000000  11340.000000  11340.000000\n",
      "mean      36.248551     -7.039516   1715.393739      2.500176\n",
      "std       21.226390     55.118931    478.557745      1.118083\n",
      "min      -51.633333   -175.200556      0.000000      1.000000\n",
      "25%       34.021944    -56.072708   1792.000000      2.000000\n",
      "50%       42.325694      4.483333   1919.000000      2.500000\n",
      "75%       50.266667     17.210000   1961.000000      4.000000\n",
      "max       70.073333    178.017778   2005.000000      4.000000\n"
     ]
    }
   ],
   "source": [
    "print(pantheondf.describe())"
   ]
  },
  {
   "cell_type": "code",
   "execution_count": 35,
   "metadata": {},
   "outputs": [],
   "source": [
    "pantheondf['LON'] = pantheondf['LON'].apply(pd.to_numeric, errors='coerce').fillna(0, downcast='infer')"
   ]
  },
  {
   "cell_type": "code",
   "execution_count": 36,
   "metadata": {},
   "outputs": [
    {
     "name": "stdout",
     "output_type": "stream",
     "text": [
      "                LAT           LON     birthyear         class\n",
      "count  11340.000000  11340.000000  11340.000000  11340.000000\n",
      "mean      36.248551     -6.390192   1715.393739      2.500176\n",
      "std       21.226390     52.554618    478.557745      1.118083\n",
      "min      -51.633333   -175.200556      0.000000      1.000000\n",
      "25%       34.021944     -8.621953   1792.000000      2.000000\n",
      "50%       42.325694      2.250000   1919.000000      2.500000\n",
      "75%       50.266667     15.327708   1961.000000      4.000000\n",
      "max       70.073333    178.017778   2005.000000      4.000000\n"
     ]
    }
   ],
   "source": [
    "print(pantheondf.describe())"
   ]
  },
  {
   "cell_type": "code",
   "execution_count": 37,
   "metadata": {},
   "outputs": [],
   "source": [
    "# one hot encoding\n",
    "\n",
    "def to_one_hot(data):\n",
    "    \n",
    "    label_encoder = LabelEncoder()\n",
    "    integer_encoded = label_encoder.fit_transform(data)\n",
    "    onehot_encoder = OneHotEncoder(sparse=False)\n",
    "    integer_encoded = integer_encoded.reshape(len(integer_encoded), 1)\n",
    "    onehot_encoded = onehot_encoder.fit_transform(integer_encoded)\n",
    "    return onehot_encoded"
   ]
  },
  {
   "cell_type": "code",
   "execution_count": 38,
   "metadata": {},
   "outputs": [
    {
     "data": {
      "text/plain": [
       "Index(['LAT', 'LON', 'birthyear', 'gender', 'occupation', 'industry', 'domain',\n",
       "       'class'],\n",
       "      dtype='object')"
      ]
     },
     "execution_count": 38,
     "metadata": {},
     "output_type": "execute_result"
    }
   ],
   "source": [
    "pantheondf.columns"
   ]
  },
  {
   "cell_type": "code",
   "execution_count": 39,
   "metadata": {},
   "outputs": [],
   "source": [
    "matrix_LAT = np.asmatrix(pantheondf['LAT']).T"
   ]
  },
  {
   "cell_type": "code",
   "execution_count": 40,
   "metadata": {},
   "outputs": [],
   "source": [
    "matrix_LON = np.asmatrix(pantheondf['LON']).T"
   ]
  },
  {
   "cell_type": "code",
   "execution_count": 41,
   "metadata": {},
   "outputs": [],
   "source": [
    "matrix_birthyear = np.asmatrix(pantheondf['birthyear']).T"
   ]
  },
  {
   "cell_type": "code",
   "execution_count": 42,
   "metadata": {},
   "outputs": [
    {
     "data": {
      "text/plain": [
       "(11340, 1)"
      ]
     },
     "execution_count": 42,
     "metadata": {},
     "output_type": "execute_result"
    }
   ],
   "source": [
    "matrix_birthyear.shape"
   ]
  },
  {
   "cell_type": "code",
   "execution_count": 43,
   "metadata": {},
   "outputs": [],
   "source": [
    "oh_gender = to_one_hot(pantheondf['gender'])"
   ]
  },
  {
   "cell_type": "code",
   "execution_count": 44,
   "metadata": {},
   "outputs": [],
   "source": [
    "oh_occupation = to_one_hot(pantheondf['occupation'])"
   ]
  },
  {
   "cell_type": "code",
   "execution_count": 45,
   "metadata": {},
   "outputs": [],
   "source": [
    "oh_industry = to_one_hot(pantheondf['industry'])"
   ]
  },
  {
   "cell_type": "code",
   "execution_count": 46,
   "metadata": {},
   "outputs": [],
   "source": [
    "oh_domain = to_one_hot(pantheondf['domain'])"
   ]
  },
  {
   "cell_type": "code",
   "execution_count": 47,
   "metadata": {},
   "outputs": [],
   "source": [
    "targets = to_one_hot(pantheondf['class'])"
   ]
  },
  {
   "cell_type": "code",
   "execution_count": 48,
   "metadata": {},
   "outputs": [],
   "source": [
    "data_raw = pd.DataFrame(np.concatenate((matrix_LAT, matrix_LAT,\n",
    "                                        matrix_birthyear, oh_gender,\n",
    "                                        oh_occupation,\n",
    "                        oh_industry, oh_domain), axis=1 ))"
   ]
  },
  {
   "cell_type": "code",
   "execution_count": 49,
   "metadata": {},
   "outputs": [
    {
     "data": {
      "text/plain": [
       "(11340, 128)"
      ]
     },
     "execution_count": 49,
     "metadata": {},
     "output_type": "execute_result"
    }
   ],
   "source": [
    "data_raw.shape"
   ]
  },
  {
   "cell_type": "code",
   "execution_count": 50,
   "metadata": {},
   "outputs": [
    {
     "data": {
      "text/plain": [
       "(11340, 4)"
      ]
     },
     "execution_count": 50,
     "metadata": {},
     "output_type": "execute_result"
    }
   ],
   "source": [
    "targets.shape"
   ]
  },
  {
   "cell_type": "code",
   "execution_count": 51,
   "metadata": {},
   "outputs": [],
   "source": [
    "# data scaling\n",
    "\n",
    "from sklearn import preprocessing"
   ]
  },
  {
   "cell_type": "code",
   "execution_count": 52,
   "metadata": {},
   "outputs": [],
   "source": [
    "data_scaled = preprocessing.scale(data_raw)"
   ]
  },
  {
   "cell_type": "code",
   "execution_count": 53,
   "metadata": {},
   "outputs": [
    {
     "data": {
      "text/plain": [
       "array([[ 0.0623101 ,  0.0623101 ,  0.19560939, ..., -0.18055137,\n",
       "        -0.37007578, -0.42804443],\n",
       "       [ 0.19244734,  0.19244734, -2.78221899, ..., -0.18055137,\n",
       "        -0.37007578, -0.42804443],\n",
       "       [ 1.11665215,  1.11665215,  0.39622099, ..., -0.18055137,\n",
       "        -0.37007578, -0.42804443],\n",
       "       ...,\n",
       "       [-1.7077868 , -1.7077868 , -0.92029261, ..., -0.18055137,\n",
       "        -0.37007578, -0.42804443],\n",
       "       [-0.2378536 , -0.2378536 ,  0.42129744, ..., -0.18055137,\n",
       "        -0.37007578, -0.42804443],\n",
       "       [ 0.72011567,  0.72011567,  0.23531377, ..., -0.18055137,\n",
       "        -0.37007578, -0.42804443]])"
      ]
     },
     "execution_count": 53,
     "metadata": {},
     "output_type": "execute_result"
    }
   ],
   "source": [
    "data_scaled"
   ]
  },
  {
   "cell_type": "code",
   "execution_count": 54,
   "metadata": {},
   "outputs": [],
   "source": [
    "train_range = int(round((data_scaled.shape[0]*0.8),0))"
   ]
  },
  {
   "cell_type": "code",
   "execution_count": 55,
   "metadata": {},
   "outputs": [],
   "source": [
    "train_data = data_scaled[:train_range, :]"
   ]
  },
  {
   "cell_type": "code",
   "execution_count": 56,
   "metadata": {},
   "outputs": [],
   "source": [
    "train_targets = targets[:train_range, :]"
   ]
  },
  {
   "cell_type": "code",
   "execution_count": 57,
   "metadata": {},
   "outputs": [],
   "source": [
    "test_data = data_scaled[train_range:, :]"
   ]
  },
  {
   "cell_type": "code",
   "execution_count": 58,
   "metadata": {},
   "outputs": [],
   "source": [
    "test_targets = targets[train_range:, :]"
   ]
  },
  {
   "cell_type": "markdown",
   "metadata": {},
   "source": [
    "###  Classification based on numerical data"
   ]
  },
  {
   "cell_type": "code",
   "execution_count": 59,
   "metadata": {},
   "outputs": [],
   "source": [
    "from keras import models\n",
    "from keras import layers\n",
    "from keras import optimizers\n",
    "from keras import losses\n",
    "from keras import metrics"
   ]
  },
  {
   "cell_type": "code",
   "execution_count": 60,
   "metadata": {},
   "outputs": [
    {
     "data": {
      "text/plain": [
       "(9072, 128)"
      ]
     },
     "execution_count": 60,
     "metadata": {},
     "output_type": "execute_result"
    }
   ],
   "source": [
    "train_data.shape"
   ]
  },
  {
   "cell_type": "code",
   "execution_count": 61,
   "metadata": {},
   "outputs": [],
   "source": [
    "model = models.Sequential()\n",
    "model.add(layers.Dense(16, activation='relu', input_shape=(128,)))\n",
    "model.add(layers.Dense(16, activation='relu'))\n",
    "model.add(layers.Dense(4, activation='softmax'))"
   ]
  },
  {
   "cell_type": "code",
   "execution_count": 62,
   "metadata": {},
   "outputs": [],
   "source": [
    "model.compile(optimizer=optimizers.RMSprop(lr=0.001),\n",
    "              loss=losses.categorical_crossentropy,\n",
    "              metrics=[metrics.categorical_accuracy])"
   ]
  },
  {
   "cell_type": "code",
   "execution_count": 63,
   "metadata": {},
   "outputs": [
    {
     "name": "stdout",
     "output_type": "stream",
     "text": [
      "Train on 9072 samples, validate on 2268 samples\n",
      "Epoch 1/20\n",
      "9072/9072 [==============================] - 0s 28us/step - loss: 1.3845 - categorical_accuracy: 0.3534 - val_loss: 1.3342 - val_categorical_accuracy: 0.3832\n",
      "Epoch 2/20\n",
      "9072/9072 [==============================] - 0s 9us/step - loss: 1.3091 - categorical_accuracy: 0.4276 - val_loss: 1.2840 - val_categorical_accuracy: 0.4422\n",
      "Epoch 3/20\n",
      "9072/9072 [==============================] - 0s 8us/step - loss: 1.2521 - categorical_accuracy: 0.4605 - val_loss: 1.2477 - val_categorical_accuracy: 0.4625\n",
      "Epoch 4/20\n",
      "9072/9072 [==============================] - 0s 6us/step - loss: 1.2104 - categorical_accuracy: 0.4721 - val_loss: 1.2254 - val_categorical_accuracy: 0.4696\n",
      "Epoch 5/20\n",
      "9072/9072 [==============================] - 0s 6us/step - loss: 1.1812 - categorical_accuracy: 0.4819 - val_loss: 1.2116 - val_categorical_accuracy: 0.4740\n",
      "Epoch 6/20\n",
      "9072/9072 [==============================] - 0s 10us/step - loss: 1.1592 - categorical_accuracy: 0.4866 - val_loss: 1.2040 - val_categorical_accuracy: 0.4815\n",
      "Epoch 7/20\n",
      "9072/9072 [==============================] - 0s 7us/step - loss: 1.1431 - categorical_accuracy: 0.4916 - val_loss: 1.2021 - val_categorical_accuracy: 0.4784\n",
      "Epoch 8/20\n",
      "9072/9072 [==============================] - 0s 5us/step - loss: 1.1333 - categorical_accuracy: 0.4922 - val_loss: 1.2004 - val_categorical_accuracy: 0.4757\n",
      "Epoch 9/20\n",
      "9072/9072 [==============================] - 0s 6us/step - loss: 1.1264 - categorical_accuracy: 0.4946 - val_loss: 1.2008 - val_categorical_accuracy: 0.4802\n",
      "Epoch 10/20\n",
      "9072/9072 [==============================] - 0s 6us/step - loss: 1.1213 - categorical_accuracy: 0.4950 - val_loss: 1.1998 - val_categorical_accuracy: 0.4877\n",
      "Epoch 11/20\n",
      "9072/9072 [==============================] - 0s 7us/step - loss: 1.1176 - categorical_accuracy: 0.4963 - val_loss: 1.2022 - val_categorical_accuracy: 0.4938\n",
      "Epoch 12/20\n",
      "9072/9072 [==============================] - 0s 6us/step - loss: 1.1149 - categorical_accuracy: 0.4977 - val_loss: 1.2016 - val_categorical_accuracy: 0.4947\n",
      "Epoch 13/20\n",
      "9072/9072 [==============================] - 0s 6us/step - loss: 1.1123 - categorical_accuracy: 0.5028 - val_loss: 1.2021 - val_categorical_accuracy: 0.4854\n",
      "Epoch 14/20\n",
      "9072/9072 [==============================] - 0s 6us/step - loss: 1.1106 - categorical_accuracy: 0.5035 - val_loss: 1.2029 - val_categorical_accuracy: 0.4921\n",
      "Epoch 15/20\n",
      "9072/9072 [==============================] - 0s 6us/step - loss: 1.1090 - categorical_accuracy: 0.5042 - val_loss: 1.2041 - val_categorical_accuracy: 0.4903\n",
      "Epoch 16/20\n",
      "9072/9072 [==============================] - 0s 5us/step - loss: 1.1079 - categorical_accuracy: 0.5067 - val_loss: 1.2025 - val_categorical_accuracy: 0.4921\n",
      "Epoch 17/20\n",
      "9072/9072 [==============================] - 0s 5us/step - loss: 1.1068 - categorical_accuracy: 0.5060 - val_loss: 1.2042 - val_categorical_accuracy: 0.4912\n",
      "Epoch 18/20\n",
      "9072/9072 [==============================] - 0s 5us/step - loss: 1.1060 - categorical_accuracy: 0.5065 - val_loss: 1.2059 - val_categorical_accuracy: 0.4903\n",
      "Epoch 19/20\n",
      "9072/9072 [==============================] - 0s 5us/step - loss: 1.1049 - categorical_accuracy: 0.5097 - val_loss: 1.2055 - val_categorical_accuracy: 0.4903\n",
      "Epoch 20/20\n",
      "9072/9072 [==============================] - 0s 6us/step - loss: 1.1042 - categorical_accuracy: 0.5086 - val_loss: 1.2056 - val_categorical_accuracy: 0.4899\n"
     ]
    }
   ],
   "source": [
    "history = model.fit(train_data,\n",
    "                    train_targets,\n",
    "                    epochs=20,\n",
    "                    batch_size=512,\n",
    "                    validation_data=(test_data, test_targets))"
   ]
  },
  {
   "cell_type": "code",
   "execution_count": 64,
   "metadata": {},
   "outputs": [
    {
     "data": {
      "text/plain": [
       "dict_keys(['val_loss', 'val_categorical_accuracy', 'loss', 'categorical_accuracy'])"
      ]
     },
     "execution_count": 64,
     "metadata": {},
     "output_type": "execute_result"
    }
   ],
   "source": [
    "history_dict = history.history\n",
    "history_dict.keys()"
   ]
  },
  {
   "cell_type": "code",
   "execution_count": 65,
   "metadata": {},
   "outputs": [],
   "source": [
    "import matplotlib.pyplot as plt"
   ]
  },
  {
   "cell_type": "code",
   "execution_count": 66,
   "metadata": {},
   "outputs": [
    {
     "data": {
      "image/png": "[encoded data removed]",
      "text/plain": [
       "<Figure size 432x288 with 1 Axes>"
      ]
     },
     "metadata": {
      "needs_background": "light"
     },
     "output_type": "display_data"
    }
   ],
   "source": [
    "acc = history.history['categorical_accuracy']\n",
    "val_acc = history.history['val_categorical_accuracy']\n",
    "loss = history.history['loss']\n",
    "val_loss = history.history['val_loss']\n",
    "\n",
    "epochs = range(1, len(acc) + 1)\n",
    "\n",
    "# \"bo\" is for \"blue dot\"\n",
    "plt.plot(epochs, loss, 'bo', label='Training loss')\n",
    "# b is for \"solid blue line\"\n",
    "plt.plot(epochs, val_loss, 'b', label='Validation loss')\n",
    "plt.title('Training and validation loss')\n",
    "plt.xlabel('Epochs')\n",
    "plt.ylabel('Loss')\n",
    "plt.legend()\n",
    "\n",
    "plt.show()"
   ]
  },
  {
   "cell_type": "code",
   "execution_count": 67,
   "metadata": {},
   "outputs": [
    {
     "data": {
      "image/png": "[encoded data removed]",
      "text/plain": [
       "<Figure size 432x288 with 1 Axes>"
      ]
     },
     "metadata": {
      "needs_background": "light"
     },
     "output_type": "display_data"
    }
   ],
   "source": [
    "plt.plot(epochs, acc, 'bo', label='Training acc')\n",
    "plt.plot(epochs, val_acc, 'b', label='Validation acc')\n",
    "plt.title('Training and validation accuracy')\n",
    "plt.xlabel('Epochs')\n",
    "plt.ylabel('Loss')\n",
    "plt.legend()\n",
    "\n",
    "plt.show()"
   ]
  },
  {
   "cell_type": "markdown",
   "metadata": {},
   "source": [
    "#### smaller model"
   ]
  },
  {
   "cell_type": "code",
   "execution_count": 68,
   "metadata": {},
   "outputs": [],
   "source": [
    "smaller_model = models.Sequential()\n",
    "smaller_model.add(layers.Dense(4, activation='relu', input_shape=(128,)))\n",
    "smaller_model.add(layers.Dense(4, activation='relu'))\n",
    "smaller_model.add(layers.Dense(4, activation='softmax'))"
   ]
  },
  {
   "cell_type": "code",
   "execution_count": 69,
   "metadata": {},
   "outputs": [],
   "source": [
    "smaller_model.compile(optimizer=optimizers.RMSprop(lr=0.001),\n",
    "              loss=losses.categorical_crossentropy,\n",
    "              metrics=[metrics.categorical_accuracy])"
   ]
  },
  {
   "cell_type": "code",
   "execution_count": 70,
   "metadata": {},
   "outputs": [
    {
     "name": "stdout",
     "output_type": "stream",
     "text": [
      "Train on 9072 samples, validate on 2268 samples\n",
      "Epoch 1/20\n",
      "9072/9072 [==============================] - 0s 16us/step - loss: 1.3996 - categorical_accuracy: 0.3233 - val_loss: 1.3745 - val_categorical_accuracy: 0.3695\n",
      "Epoch 2/20\n",
      "9072/9072 [==============================] - 0s 6us/step - loss: 1.3827 - categorical_accuracy: 0.3795 - val_loss: 1.3623 - val_categorical_accuracy: 0.4083\n",
      "Epoch 3/20\n",
      "9072/9072 [==============================] - 0s 5us/step - loss: 1.3707 - categorical_accuracy: 0.3770 - val_loss: 1.3509 - val_categorical_accuracy: 0.3920\n",
      "Epoch 4/20\n",
      "9072/9072 [==============================] - 0s 5us/step - loss: 1.3592 - categorical_accuracy: 0.3790 - val_loss: 1.3375 - val_categorical_accuracy: 0.4008\n",
      "Epoch 5/20\n",
      "9072/9072 [==============================] - 0s 5us/step - loss: 1.3471 - categorical_accuracy: 0.3819 - val_loss: 1.3239 - val_categorical_accuracy: 0.4021\n",
      "Epoch 6/20\n",
      "9072/9072 [==============================] - 0s 5us/step - loss: 1.3342 - categorical_accuracy: 0.3866 - val_loss: 1.3098 - val_categorical_accuracy: 0.3937\n",
      "Epoch 7/20\n",
      "9072/9072 [==============================] - 0s 6us/step - loss: 1.3208 - categorical_accuracy: 0.3890 - val_loss: 1.2953 - val_categorical_accuracy: 0.3968\n",
      "Epoch 8/20\n",
      "9072/9072 [==============================] - 0s 6us/step - loss: 1.3073 - categorical_accuracy: 0.3901 - val_loss: 1.2830 - val_categorical_accuracy: 0.3981\n",
      "Epoch 9/20\n",
      "9072/9072 [==============================] - 0s 5us/step - loss: 1.2943 - categorical_accuracy: 0.3981 - val_loss: 1.2706 - val_categorical_accuracy: 0.3924\n",
      "Epoch 10/20\n",
      "9072/9072 [==============================] - 0s 5us/step - loss: 1.2818 - categorical_accuracy: 0.3981 - val_loss: 1.2601 - val_categorical_accuracy: 0.3995\n",
      "Epoch 11/20\n",
      "9072/9072 [==============================] - 0s 5us/step - loss: 1.2702 - categorical_accuracy: 0.4105 - val_loss: 1.2508 - val_categorical_accuracy: 0.4008\n",
      "Epoch 12/20\n",
      "9072/9072 [==============================] - 0s 6us/step - loss: 1.2594 - categorical_accuracy: 0.4245 - val_loss: 1.2436 - val_categorical_accuracy: 0.4118\n",
      "Epoch 13/20\n",
      "9072/9072 [==============================] - 0s 6us/step - loss: 1.2498 - categorical_accuracy: 0.4310 - val_loss: 1.2377 - val_categorical_accuracy: 0.4136\n",
      "Epoch 14/20\n",
      "9072/9072 [==============================] - 0s 5us/step - loss: 1.2410 - categorical_accuracy: 0.4330 - val_loss: 1.2325 - val_categorical_accuracy: 0.4189\n",
      "Epoch 15/20\n",
      "9072/9072 [==============================] - 0s 5us/step - loss: 1.2331 - categorical_accuracy: 0.4326 - val_loss: 1.2285 - val_categorical_accuracy: 0.4264\n",
      "Epoch 16/20\n",
      "9072/9072 [==============================] - 0s 5us/step - loss: 1.2258 - categorical_accuracy: 0.4350 - val_loss: 1.2247 - val_categorical_accuracy: 0.4325\n",
      "Epoch 17/20\n",
      "9072/9072 [==============================] - 0s 6us/step - loss: 1.2193 - categorical_accuracy: 0.4369 - val_loss: 1.2221 - val_categorical_accuracy: 0.4665\n",
      "Epoch 18/20\n",
      "9072/9072 [==============================] - 0s 5us/step - loss: 1.2132 - categorical_accuracy: 0.4424 - val_loss: 1.2193 - val_categorical_accuracy: 0.4696\n",
      "Epoch 19/20\n",
      "9072/9072 [==============================] - 0s 5us/step - loss: 1.2078 - categorical_accuracy: 0.4449 - val_loss: 1.2172 - val_categorical_accuracy: 0.4687\n",
      "Epoch 20/20\n",
      "9072/9072 [==============================] - 0s 5us/step - loss: 1.2025 - categorical_accuracy: 0.4462 - val_loss: 1.2152 - val_categorical_accuracy: 0.4674\n"
     ]
    }
   ],
   "source": [
    "smaller_model_hist = smaller_model.fit(train_data,\n",
    "                    train_targets,\n",
    "                    epochs=20,\n",
    "                    batch_size=512,\n",
    "                    validation_data=(test_data, test_targets))"
   ]
  },
  {
   "cell_type": "code",
   "execution_count": 71,
   "metadata": {},
   "outputs": [],
   "source": [
    "epochs = range(1, 21)\n",
    "original_val_loss = history.history['val_loss']\n",
    "smaller_model_val_loss = smaller_model_hist.history['val_loss']"
   ]
  },
  {
   "cell_type": "code",
   "execution_count": 72,
   "metadata": {},
   "outputs": [
    {
     "data": {
      "image/png": "[encoded data removed]",
      "text/plain": [
       "<Figure size 432x288 with 1 Axes>"
      ]
     },
     "metadata": {
      "needs_background": "light"
     },
     "output_type": "display_data"
    }
   ],
   "source": [
    "# b+ is for \"blue cross\"\n",
    "plt.plot(epochs, original_val_loss, 'b+', label='Original model')\n",
    "# \"bo\" is for \"blue dot\"\n",
    "plt.plot(epochs, smaller_model_val_loss, 'bo', label='Smaller model')\n",
    "plt.xlabel('Epochs')\n",
    "plt.ylabel('Validation loss')\n",
    "plt.legend()\n",
    "\n",
    "plt.show()"
   ]
  },
  {
   "cell_type": "markdown",
   "metadata": {},
   "source": [
    "#### bigger model"
   ]
  },
  {
   "cell_type": "code",
   "execution_count": 73,
   "metadata": {},
   "outputs": [],
   "source": [
    "bigger_model = models.Sequential()\n",
    "bigger_model.add(layers.Dense(512, activation='relu', input_shape=(128,)))\n",
    "bigger_model.add(layers.Dense(512, activation='relu'))\n",
    "bigger_model.add(layers.Dense(4, activation='softmax'))"
   ]
  },
  {
   "cell_type": "code",
   "execution_count": 74,
   "metadata": {},
   "outputs": [],
   "source": [
    "bigger_model.compile(optimizer=optimizers.RMSprop(lr=0.001),\n",
    "              loss=losses.categorical_crossentropy,\n",
    "              metrics=[metrics.categorical_accuracy])"
   ]
  },
  {
   "cell_type": "code",
   "execution_count": 75,
   "metadata": {},
   "outputs": [
    {
     "name": "stdout",
     "output_type": "stream",
     "text": [
      "Train on 9072 samples, validate on 2268 samples\n",
      "Epoch 1/20\n",
      "9072/9072 [==============================] - 0s 37us/step - loss: 1.2915 - categorical_accuracy: 0.4472 - val_loss: 1.1929 - val_categorical_accuracy: 0.4947\n",
      "Epoch 2/20\n",
      "9072/9072 [==============================] - 0s 29us/step - loss: 1.1427 - categorical_accuracy: 0.4932 - val_loss: 1.2629 - val_categorical_accuracy: 0.4683\n",
      "Epoch 3/20\n",
      "9072/9072 [==============================] - 0s 28us/step - loss: 1.1375 - categorical_accuracy: 0.4889 - val_loss: 1.2275 - val_categorical_accuracy: 0.4832\n",
      "Epoch 4/20\n",
      "9072/9072 [==============================] - 0s 29us/step - loss: 1.1234 - categorical_accuracy: 0.4972 - val_loss: 1.2241 - val_categorical_accuracy: 0.4788\n",
      "Epoch 5/20\n",
      "9072/9072 [==============================] - 0s 30us/step - loss: 1.1154 - categorical_accuracy: 0.5021 - val_loss: 1.2314 - val_categorical_accuracy: 0.4740\n",
      "Epoch 6/20\n",
      "9072/9072 [==============================] - 0s 30us/step - loss: 1.1147 - categorical_accuracy: 0.5003 - val_loss: 1.2109 - val_categorical_accuracy: 0.4846\n",
      "Epoch 7/20\n",
      "9072/9072 [==============================] - 0s 28us/step - loss: 1.1079 - categorical_accuracy: 0.5036 - val_loss: 1.2430 - val_categorical_accuracy: 0.4841\n",
      "Epoch 8/20\n",
      "9072/9072 [==============================] - 0s 28us/step - loss: 1.1005 - categorical_accuracy: 0.5072 - val_loss: 1.2177 - val_categorical_accuracy: 0.4749\n",
      "Epoch 9/20\n",
      "9072/9072 [==============================] - 0s 29us/step - loss: 1.0971 - categorical_accuracy: 0.5063 - val_loss: 1.2182 - val_categorical_accuracy: 0.4735\n",
      "Epoch 10/20\n",
      "9072/9072 [==============================] - 0s 28us/step - loss: 1.0958 - categorical_accuracy: 0.5057 - val_loss: 1.2537 - val_categorical_accuracy: 0.4828\n",
      "Epoch 11/20\n",
      "9072/9072 [==============================] - 0s 29us/step - loss: 1.0895 - categorical_accuracy: 0.5132 - val_loss: 1.2305 - val_categorical_accuracy: 0.4810\n",
      "Epoch 12/20\n",
      "9072/9072 [==============================] - 0s 31us/step - loss: 1.0896 - categorical_accuracy: 0.5136 - val_loss: 1.2198 - val_categorical_accuracy: 0.4859\n",
      "Epoch 13/20\n",
      "9072/9072 [==============================] - 1s 58us/step - loss: 1.0834 - categorical_accuracy: 0.5166 - val_loss: 1.2175 - val_categorical_accuracy: 0.4956\n",
      "Epoch 14/20\n",
      "9072/9072 [==============================] - 0s 50us/step - loss: 1.0815 - categorical_accuracy: 0.5155 - val_loss: 1.2175 - val_categorical_accuracy: 0.4846\n",
      "Epoch 15/20\n",
      "9072/9072 [==============================] - 0s 45us/step - loss: 1.0804 - categorical_accuracy: 0.5157 - val_loss: 1.2288 - val_categorical_accuracy: 0.4877\n",
      "Epoch 16/20\n",
      "9072/9072 [==============================] - 0s 54us/step - loss: 1.0776 - categorical_accuracy: 0.5192 - val_loss: 1.2130 - val_categorical_accuracy: 0.4841\n",
      "Epoch 17/20\n",
      "9072/9072 [==============================] - 0s 50us/step - loss: 1.0780 - categorical_accuracy: 0.5179 - val_loss: 1.2341 - val_categorical_accuracy: 0.4894\n",
      "Epoch 18/20\n",
      "9072/9072 [==============================] - 0s 53us/step - loss: 1.0740 - categorical_accuracy: 0.5181 - val_loss: 1.2236 - val_categorical_accuracy: 0.4824\n",
      "Epoch 19/20\n",
      "9072/9072 [==============================] - 0s 46us/step - loss: 1.0718 - categorical_accuracy: 0.5240 - val_loss: 1.2310 - val_categorical_accuracy: 0.4863\n",
      "Epoch 20/20\n",
      "9072/9072 [==============================] - 0s 40us/step - loss: 1.0680 - categorical_accuracy: 0.5236 - val_loss: 1.2420 - val_categorical_accuracy: 0.4824\n"
     ]
    }
   ],
   "source": [
    "bigger_model_hist = bigger_model.fit(train_data,\n",
    "                    train_targets,\n",
    "                    epochs=20,\n",
    "                    batch_size=512,\n",
    "                    validation_data=(test_data, test_targets))"
   ]
  },
  {
   "cell_type": "code",
   "execution_count": 76,
   "metadata": {},
   "outputs": [],
   "source": [
    "bigger_model_val_loss = bigger_model_hist.history['val_loss']"
   ]
  },
  {
   "cell_type": "code",
   "execution_count": 77,
   "metadata": {},
   "outputs": [
    {
     "data": {
      "image/png": "[encoded data removed]",
      "text/plain": [
       "<Figure size 432x288 with 1 Axes>"
      ]
     },
     "metadata": {
      "needs_background": "light"
     },
     "output_type": "display_data"
    }
   ],
   "source": [
    "plt.plot(epochs, original_val_loss, 'b+', label='Original model')\n",
    "plt.plot(epochs, bigger_model_val_loss, 'bo', label='Bigger model')\n",
    "plt.xlabel('Epochs')\n",
    "plt.ylabel('Validation loss')\n",
    "plt.legend()\n",
    "\n",
    "plt.show()"
   ]
  },
  {
   "cell_type": "markdown",
   "metadata": {},
   "source": [
    " #### regularized model"
   ]
  },
  {
   "cell_type": "code",
   "execution_count": 78,
   "metadata": {},
   "outputs": [],
   "source": [
    "from keras import regularizers"
   ]
  },
  {
   "cell_type": "code",
   "execution_count": 79,
   "metadata": {},
   "outputs": [],
   "source": [
    "l2_model = models.Sequential()\n",
    "l2_model.add(layers.Dense(16, kernel_regularizer=regularizers.l2(0.001),\n",
    "                          activation='relu', input_shape=(128,)))\n",
    "l2_model.add(layers.Dense(16, kernel_regularizer=regularizers.l2(0.001),\n",
    "                          activation='relu'))\n",
    "l2_model.add(layers.Dense(4, activation='softmax'))"
   ]
  },
  {
   "cell_type": "code",
   "execution_count": 80,
   "metadata": {},
   "outputs": [],
   "source": [
    "l2_model.compile(optimizer=optimizers.RMSprop(lr=0.001),\n",
    "              loss=losses.categorical_crossentropy,\n",
    "              metrics=[metrics.categorical_accuracy])"
   ]
  },
  {
   "cell_type": "code",
   "execution_count": 81,
   "metadata": {},
   "outputs": [
    {
     "name": "stdout",
     "output_type": "stream",
     "text": [
      "Train on 9072 samples, validate on 2268 samples\n",
      "Epoch 1/20\n",
      "9072/9072 [==============================] - 0s 17us/step - loss: 1.4930 - categorical_accuracy: 0.3348 - val_loss: 1.3908 - val_categorical_accuracy: 0.4162\n",
      "Epoch 2/20\n",
      "9072/9072 [==============================] - 0s 6us/step - loss: 1.3680 - categorical_accuracy: 0.4162 - val_loss: 1.3323 - val_categorical_accuracy: 0.4453\n",
      "Epoch 3/20\n",
      "9072/9072 [==============================] - 0s 6us/step - loss: 1.3048 - categorical_accuracy: 0.4513 - val_loss: 1.2899 - val_categorical_accuracy: 0.4524\n",
      "Epoch 4/20\n",
      "9072/9072 [==============================] - 0s 6us/step - loss: 1.2563 - categorical_accuracy: 0.4715 - val_loss: 1.2608 - val_categorical_accuracy: 0.4616\n",
      "Epoch 5/20\n",
      "9072/9072 [==============================] - 0s 7us/step - loss: 1.2225 - categorical_accuracy: 0.4791 - val_loss: 1.2460 - val_categorical_accuracy: 0.4643\n",
      "Epoch 6/20\n",
      "9072/9072 [==============================] - 0s 8us/step - loss: 1.1996 - categorical_accuracy: 0.4862 - val_loss: 1.2362 - val_categorical_accuracy: 0.4674\n",
      "Epoch 7/20\n",
      "9072/9072 [==============================] - 0s 8us/step - loss: 1.1850 - categorical_accuracy: 0.4916 - val_loss: 1.2325 - val_categorical_accuracy: 0.4696\n",
      "Epoch 8/20\n",
      "9072/9072 [==============================] - 0s 7us/step - loss: 1.1742 - categorical_accuracy: 0.4945 - val_loss: 1.2324 - val_categorical_accuracy: 0.4744\n",
      "Epoch 9/20\n",
      "9072/9072 [==============================] - 0s 7us/step - loss: 1.1653 - categorical_accuracy: 0.5019 - val_loss: 1.2339 - val_categorical_accuracy: 0.4762\n",
      "Epoch 10/20\n",
      "9072/9072 [==============================] - 0s 7us/step - loss: 1.1585 - categorical_accuracy: 0.4989 - val_loss: 1.2372 - val_categorical_accuracy: 0.4753\n",
      "Epoch 11/20\n",
      "9072/9072 [==============================] - 0s 5us/step - loss: 1.1540 - categorical_accuracy: 0.4989 - val_loss: 1.2387 - val_categorical_accuracy: 0.4762\n",
      "Epoch 12/20\n",
      "9072/9072 [==============================] - 0s 6us/step - loss: 1.1509 - categorical_accuracy: 0.4993 - val_loss: 1.2390 - val_categorical_accuracy: 0.4735\n",
      "Epoch 13/20\n",
      "9072/9072 [==============================] - 0s 5us/step - loss: 1.1478 - categorical_accuracy: 0.5004 - val_loss: 1.2386 - val_categorical_accuracy: 0.4749\n",
      "Epoch 14/20\n",
      "9072/9072 [==============================] - 0s 5us/step - loss: 1.1457 - categorical_accuracy: 0.5032 - val_loss: 1.2378 - val_categorical_accuracy: 0.4766\n",
      "Epoch 15/20\n",
      "9072/9072 [==============================] - 0s 5us/step - loss: 1.1435 - categorical_accuracy: 0.5028 - val_loss: 1.2403 - val_categorical_accuracy: 0.4802\n",
      "Epoch 16/20\n",
      "9072/9072 [==============================] - 0s 6us/step - loss: 1.1424 - categorical_accuracy: 0.5035 - val_loss: 1.2425 - val_categorical_accuracy: 0.4749\n",
      "Epoch 17/20\n",
      "9072/9072 [==============================] - 0s 9us/step - loss: 1.1408 - categorical_accuracy: 0.5040 - val_loss: 1.2427 - val_categorical_accuracy: 0.4797\n",
      "Epoch 18/20\n",
      "9072/9072 [==============================] - 0s 10us/step - loss: 1.1391 - categorical_accuracy: 0.5042 - val_loss: 1.2422 - val_categorical_accuracy: 0.4788\n",
      "Epoch 19/20\n",
      "9072/9072 [==============================] - 0s 6us/step - loss: 1.1378 - categorical_accuracy: 0.5062 - val_loss: 1.2411 - val_categorical_accuracy: 0.4806\n",
      "Epoch 20/20\n",
      "9072/9072 [==============================] - 0s 6us/step - loss: 1.1366 - categorical_accuracy: 0.5041 - val_loss: 1.2426 - val_categorical_accuracy: 0.4797\n"
     ]
    }
   ],
   "source": [
    "l2_model_hist = l2_model.fit(train_data,\n",
    "                    train_targets,\n",
    "                    epochs=20,\n",
    "                    batch_size=512,\n",
    "                    validation_data=(test_data, test_targets))"
   ]
  },
  {
   "cell_type": "code",
   "execution_count": 82,
   "metadata": {},
   "outputs": [],
   "source": [
    "l2_model_val_loss = l2_model_hist.history['val_loss']"
   ]
  },
  {
   "cell_type": "code",
   "execution_count": 83,
   "metadata": {},
   "outputs": [
    {
     "data": {
      "image/png": "[encoded data removed]",
      "text/plain": [
       "<Figure size 432x288 with 1 Axes>"
      ]
     },
     "metadata": {
      "needs_background": "light"
     },
     "output_type": "display_data"
    }
   ],
   "source": [
    "plt.plot(epochs, original_val_loss, 'b+', label='Original model')\n",
    "plt.plot(epochs, l2_model_val_loss, 'bo', label='L2-regularized model')\n",
    "plt.xlabel('Epochs')\n",
    "plt.ylabel('Validation loss')\n",
    "plt.legend()\n",
    "\n",
    "plt.show()"
   ]
  },
  {
   "cell_type": "markdown",
   "metadata": {},
   "source": [
    "#### model with dropout"
   ]
  },
  {
   "cell_type": "code",
   "execution_count": 84,
   "metadata": {},
   "outputs": [],
   "source": [
    "dpt_model = models.Sequential()\n",
    "dpt_model.add(layers.Dense(16, activation='relu', input_shape=(128,)))\n",
    "dpt_model.add(layers.Dropout(0.5))\n",
    "dpt_model.add(layers.Dense(16, activation='relu'))\n",
    "dpt_model.add(layers.Dropout(0.5))\n",
    "dpt_model.add(layers.Dense(4, activation='softmax'))"
   ]
  },
  {
   "cell_type": "code",
   "execution_count": 85,
   "metadata": {},
   "outputs": [],
   "source": [
    "dpt_model.compile(optimizer=optimizers.RMSprop(lr=0.001),\n",
    "              loss=losses.categorical_crossentropy,\n",
    "              metrics=[metrics.categorical_accuracy])"
   ]
  },
  {
   "cell_type": "code",
   "execution_count": 86,
   "metadata": {},
   "outputs": [
    {
     "name": "stdout",
     "output_type": "stream",
     "text": [
      "Train on 9072 samples, validate on 2268 samples\n",
      "Epoch 1/20\n",
      "9072/9072 [==============================] - 0s 24us/step - loss: 1.7783 - categorical_accuracy: 0.2834 - val_loss: 1.4172 - val_categorical_accuracy: 0.3108\n",
      "Epoch 2/20\n",
      "9072/9072 [==============================] - 0s 6us/step - loss: 1.6424 - categorical_accuracy: 0.2814 - val_loss: 1.3792 - val_categorical_accuracy: 0.3417\n",
      "Epoch 3/20\n",
      "9072/9072 [==============================] - 0s 6us/step - loss: 1.5394 - categorical_accuracy: 0.3026 - val_loss: 1.3586 - val_categorical_accuracy: 0.3360\n",
      "Epoch 4/20\n",
      "9072/9072 [==============================] - 0s 7us/step - loss: 1.4764 - categorical_accuracy: 0.3157 - val_loss: 1.3433 - val_categorical_accuracy: 0.3739\n",
      "Epoch 5/20\n",
      "9072/9072 [==============================] - 0s 7us/step - loss: 1.4474 - categorical_accuracy: 0.3223 - val_loss: 1.3304 - val_categorical_accuracy: 0.3889\n",
      "Epoch 6/20\n",
      "9072/9072 [==============================] - 0s 7us/step - loss: 1.4033 - categorical_accuracy: 0.3305 - val_loss: 1.3181 - val_categorical_accuracy: 0.4105\n",
      "Epoch 7/20\n",
      "9072/9072 [==============================] - 0s 7us/step - loss: 1.3858 - categorical_accuracy: 0.3363 - val_loss: 1.3062 - val_categorical_accuracy: 0.4250\n",
      "Epoch 8/20\n",
      "9072/9072 [==============================] - 0s 7us/step - loss: 1.3627 - categorical_accuracy: 0.3401 - val_loss: 1.2994 - val_categorical_accuracy: 0.4246\n",
      "Epoch 9/20\n",
      "9072/9072 [==============================] - 0s 7us/step - loss: 1.3428 - categorical_accuracy: 0.3404 - val_loss: 1.2904 - val_categorical_accuracy: 0.4189\n",
      "Epoch 10/20\n",
      "9072/9072 [==============================] - 0s 7us/step - loss: 1.3287 - categorical_accuracy: 0.3506 - val_loss: 1.2847 - val_categorical_accuracy: 0.4250\n",
      "Epoch 11/20\n",
      "9072/9072 [==============================] - 0s 6us/step - loss: 1.3172 - categorical_accuracy: 0.3638 - val_loss: 1.2750 - val_categorical_accuracy: 0.4458\n",
      "Epoch 12/20\n",
      "9072/9072 [==============================] - 0s 6us/step - loss: 1.3097 - categorical_accuracy: 0.3662 - val_loss: 1.2708 - val_categorical_accuracy: 0.4625\n",
      "Epoch 13/20\n",
      "9072/9072 [==============================] - 0s 7us/step - loss: 1.2938 - categorical_accuracy: 0.3729 - val_loss: 1.2626 - val_categorical_accuracy: 0.4722\n",
      "Epoch 14/20\n",
      "9072/9072 [==============================] - 0s 6us/step - loss: 1.2884 - categorical_accuracy: 0.3801 - val_loss: 1.2558 - val_categorical_accuracy: 0.4696\n",
      "Epoch 15/20\n",
      "9072/9072 [==============================] - 0s 6us/step - loss: 1.2846 - categorical_accuracy: 0.3834 - val_loss: 1.2514 - val_categorical_accuracy: 0.4740\n",
      "Epoch 16/20\n",
      "9072/9072 [==============================] - 0s 6us/step - loss: 1.2787 - categorical_accuracy: 0.3973 - val_loss: 1.2472 - val_categorical_accuracy: 0.4731\n",
      "Epoch 17/20\n",
      "9072/9072 [==============================] - 0s 7us/step - loss: 1.2723 - categorical_accuracy: 0.3933 - val_loss: 1.2447 - val_categorical_accuracy: 0.4727\n",
      "Epoch 18/20\n",
      "9072/9072 [==============================] - 0s 6us/step - loss: 1.2716 - categorical_accuracy: 0.3999 - val_loss: 1.2414 - val_categorical_accuracy: 0.4744\n",
      "Epoch 19/20\n",
      "9072/9072 [==============================] - 0s 6us/step - loss: 1.2625 - categorical_accuracy: 0.4020 - val_loss: 1.2375 - val_categorical_accuracy: 0.4665\n",
      "Epoch 20/20\n",
      "9072/9072 [==============================] - 0s 6us/step - loss: 1.2520 - categorical_accuracy: 0.4080 - val_loss: 1.2350 - val_categorical_accuracy: 0.4788\n"
     ]
    }
   ],
   "source": [
    "dpt_model_hist = dpt_model.fit(train_data,\n",
    "                    train_targets,\n",
    "                    epochs=20,\n",
    "                    batch_size=512,\n",
    "                    validation_data=(test_data, test_targets))"
   ]
  },
  {
   "cell_type": "code",
   "execution_count": 87,
   "metadata": {},
   "outputs": [],
   "source": [
    "dpt_model_val_loss = dpt_model_hist.history['val_loss']"
   ]
  },
  {
   "cell_type": "code",
   "execution_count": 88,
   "metadata": {},
   "outputs": [
    {
     "data": {
      "image/png": "[encoded data removed]",
      "text/plain": [
       "<Figure size 432x288 with 1 Axes>"
      ]
     },
     "metadata": {
      "needs_background": "light"
     },
     "output_type": "display_data"
    }
   ],
   "source": [
    "plt.plot(epochs, original_val_loss, 'b+', label='Original model')\n",
    "plt.plot(epochs, dpt_model_val_loss, 'bo', label='Dropout-regularized model')\n",
    "plt.xlabel('Epochs')\n",
    "plt.ylabel('Validation loss')\n",
    "plt.legend()\n",
    "\n",
    "plt.show()"
   ]
  },
  {
   "cell_type": "markdown",
   "metadata": {},
   "source": [
    " ### Classification based on numerical data with  astrological view"
   ]
  },
  {
   "cell_type": "code",
   "execution_count": 89,
   "metadata": {},
   "outputs": [],
   "source": [
    "oh_birthyear = to_one_hot(round(pantheondf['birthyear'] % 12,0))"
   ]
  },
  {
   "cell_type": "code",
   "execution_count": 90,
   "metadata": {},
   "outputs": [
    {
     "data": {
      "text/plain": [
       "(11340, 12)"
      ]
     },
     "execution_count": 90,
     "metadata": {},
     "output_type": "execute_result"
    }
   ],
   "source": [
    "oh_birthyear.shape"
   ]
  },
  {
   "cell_type": "code",
   "execution_count": 91,
   "metadata": {},
   "outputs": [],
   "source": [
    "data_rawA = pd.DataFrame(np.concatenate((matrix_LAT, matrix_LAT,\n",
    "                                         oh_birthyear, oh_gender, oh_occupation,\n",
    "                        oh_industry, oh_domain), axis=1 ))"
   ]
  },
  {
   "cell_type": "code",
   "execution_count": 92,
   "metadata": {},
   "outputs": [],
   "source": [
    "data_scaledA = preprocessing.scale(data_rawA)"
   ]
  },
  {
   "cell_type": "code",
   "execution_count": 93,
   "metadata": {},
   "outputs": [],
   "source": [
    "train_dataA = data_scaledA[:train_range, :]"
   ]
  },
  {
   "cell_type": "code",
   "execution_count": 94,
   "metadata": {},
   "outputs": [],
   "source": [
    "test_dataA = data_scaledA[train_range:, :]"
   ]
  },
  {
   "cell_type": "code",
   "execution_count": 95,
   "metadata": {},
   "outputs": [
    {
     "data": {
      "text/plain": [
       "(9072, 139)"
      ]
     },
     "execution_count": 95,
     "metadata": {},
     "output_type": "execute_result"
    }
   ],
   "source": [
    "train_dataA.shape"
   ]
  },
  {
   "cell_type": "code",
   "execution_count": 96,
   "metadata": {},
   "outputs": [],
   "source": [
    "modelA = models.Sequential()\n",
    "modelA.add(layers.Dense(16, activation='relu', input_shape=(139,)))\n",
    "modelA.add(layers.Dense(16, activation='relu'))\n",
    "modelA.add(layers.Dense(4, activation='softmax'))"
   ]
  },
  {
   "cell_type": "code",
   "execution_count": 97,
   "metadata": {},
   "outputs": [],
   "source": [
    "modelA.compile(optimizer=optimizers.RMSprop(lr=0.001),\n",
    "              loss=losses.categorical_crossentropy,\n",
    "              metrics=[metrics.categorical_accuracy])"
   ]
  },
  {
   "cell_type": "code",
   "execution_count": 98,
   "metadata": {},
   "outputs": [
    {
     "name": "stdout",
     "output_type": "stream",
     "text": [
      "Train on 9072 samples, validate on 2268 samples\n",
      "Epoch 1/20\n",
      "9072/9072 [==============================] - 0s 29us/step - loss: 1.4716 - categorical_accuracy: 0.3309 - val_loss: 1.3962 - val_categorical_accuracy: 0.3682\n",
      "Epoch 2/20\n",
      "9072/9072 [==============================] - 0s 10us/step - loss: 1.3318 - categorical_accuracy: 0.4148 - val_loss: 1.3121 - val_categorical_accuracy: 0.4361\n",
      "Epoch 3/20\n",
      "9072/9072 [==============================] - 0s 11us/step - loss: 1.2605 - categorical_accuracy: 0.4480 - val_loss: 1.2654 - val_categorical_accuracy: 0.4497\n",
      "Epoch 4/20\n",
      "9072/9072 [==============================] - 0s 11us/step - loss: 1.2110 - categorical_accuracy: 0.4672 - val_loss: 1.2409 - val_categorical_accuracy: 0.4731\n",
      "Epoch 5/20\n",
      "9072/9072 [==============================] - 0s 10us/step - loss: 1.1797 - categorical_accuracy: 0.4787 - val_loss: 1.2284 - val_categorical_accuracy: 0.4815\n",
      "Epoch 6/20\n",
      "9072/9072 [==============================] - 0s 9us/step - loss: 1.1610 - categorical_accuracy: 0.4825 - val_loss: 1.2241 - val_categorical_accuracy: 0.4859\n",
      "Epoch 7/20\n",
      "9072/9072 [==============================] - 0s 9us/step - loss: 1.1494 - categorical_accuracy: 0.4862 - val_loss: 1.2209 - val_categorical_accuracy: 0.4890\n",
      "Epoch 8/20\n",
      "9072/9072 [==============================] - 0s 10us/step - loss: 1.1412 - categorical_accuracy: 0.4881 - val_loss: 1.2199 - val_categorical_accuracy: 0.4850\n",
      "Epoch 9/20\n",
      "9072/9072 [==============================] - 0s 11us/step - loss: 1.1357 - categorical_accuracy: 0.4877 - val_loss: 1.2173 - val_categorical_accuracy: 0.4854\n",
      "Epoch 10/20\n",
      "9072/9072 [==============================] - 0s 10us/step - loss: 1.1313 - categorical_accuracy: 0.4932 - val_loss: 1.2202 - val_categorical_accuracy: 0.4872\n",
      "Epoch 11/20\n",
      "9072/9072 [==============================] - 0s 12us/step - loss: 1.1280 - categorical_accuracy: 0.4943 - val_loss: 1.2172 - val_categorical_accuracy: 0.4907\n",
      "Epoch 12/20\n",
      "9072/9072 [==============================] - 0s 11us/step - loss: 1.1250 - categorical_accuracy: 0.4950 - val_loss: 1.2155 - val_categorical_accuracy: 0.4868\n",
      "Epoch 13/20\n",
      "9072/9072 [==============================] - 0s 10us/step - loss: 1.1232 - categorical_accuracy: 0.4964 - val_loss: 1.2155 - val_categorical_accuracy: 0.4912\n",
      "Epoch 14/20\n",
      "9072/9072 [==============================] - 0s 9us/step - loss: 1.1215 - categorical_accuracy: 0.4970 - val_loss: 1.2162 - val_categorical_accuracy: 0.4881\n",
      "Epoch 15/20\n",
      "9072/9072 [==============================] - 0s 9us/step - loss: 1.1195 - categorical_accuracy: 0.4987 - val_loss: 1.2156 - val_categorical_accuracy: 0.4881\n",
      "Epoch 16/20\n",
      "9072/9072 [==============================] - 0s 11us/step - loss: 1.1178 - categorical_accuracy: 0.5010 - val_loss: 1.2131 - val_categorical_accuracy: 0.4929\n",
      "Epoch 17/20\n",
      "9072/9072 [==============================] - 0s 11us/step - loss: 1.1168 - categorical_accuracy: 0.4982 - val_loss: 1.2141 - val_categorical_accuracy: 0.4903\n",
      "Epoch 18/20\n",
      "9072/9072 [==============================] - 0s 9us/step - loss: 1.1157 - categorical_accuracy: 0.5003 - val_loss: 1.2137 - val_categorical_accuracy: 0.4916\n",
      "Epoch 19/20\n",
      "9072/9072 [==============================] - 0s 10us/step - loss: 1.1146 - categorical_accuracy: 0.5013 - val_loss: 1.2147 - val_categorical_accuracy: 0.4881\n",
      "Epoch 20/20\n",
      "9072/9072 [==============================] - 0s 10us/step - loss: 1.1132 - categorical_accuracy: 0.5020 - val_loss: 1.2131 - val_categorical_accuracy: 0.4929\n"
     ]
    }
   ],
   "source": [
    "historyA = modelA.fit(train_dataA,\n",
    "                    train_targets,\n",
    "                    epochs=20,\n",
    "                    batch_size=512,\n",
    "                    validation_data=(test_dataA, test_targets))"
   ]
  },
  {
   "cell_type": "code",
   "execution_count": 99,
   "metadata": {},
   "outputs": [],
   "source": [
    "astro_model_val_loss = historyA.history['val_loss']"
   ]
  },
  {
   "cell_type": "code",
   "execution_count": 100,
   "metadata": {},
   "outputs": [
    {
     "data": {
      "image/png": "[encoded data removed]",
      "text/plain": [
       "<Figure size 432x288 with 1 Axes>"
      ]
     },
     "metadata": {
      "needs_background": "light"
     },
     "output_type": "display_data"
    }
   ],
   "source": [
    "plt.plot(epochs, original_val_loss, 'b+', label='Original model')\n",
    "plt.plot(epochs, astro_model_val_loss, 'bo', label='Astro model')\n",
    "plt.xlabel('Epochs')\n",
    "plt.ylabel('Validation loss')\n",
    "plt.legend()\n",
    "\n",
    "plt.show()"
   ]
  },
  {
   "cell_type": "code",
   "execution_count": 101,
   "metadata": {},
   "outputs": [],
   "source": [
    "original_val_acc = history.history['val_categorical_accuracy']"
   ]
  },
  {
   "cell_type": "code",
   "execution_count": 102,
   "metadata": {},
   "outputs": [],
   "source": [
    "astro_val_acc = historyA.history['val_categorical_accuracy']"
   ]
  },
  {
   "cell_type": "code",
   "execution_count": 103,
   "metadata": {},
   "outputs": [
    {
     "data": {
      "image/png": "[encoded data removed]",
      "text/plain": [
       "<Figure size 432x288 with 1 Axes>"
      ]
     },
     "metadata": {
      "needs_background": "light"
     },
     "output_type": "display_data"
    }
   ],
   "source": [
    "plt.plot(epochs, original_val_acc, 'b+', label='Original model')\n",
    "plt.plot(epochs, astro_val_acc, 'bo', label='Astro model')\n",
    "plt.xlabel('Epochs')\n",
    "plt.ylabel('Validation accuracy')\n",
    "plt.legend()\n",
    "\n",
    "plt.show()"
   ]
  },
  {
   "cell_type": "code",
   "execution_count": 104,
   "metadata": {},
   "outputs": [],
   "source": [
    "from keras.models import load_model"
   ]
  },
  {
   "cell_type": "code",
   "execution_count": 105,
   "metadata": {},
   "outputs": [],
   "source": [
    "model.save('numerical_model.h5')"
   ]
  },
  {
   "cell_type": "code",
   "execution_count": 106,
   "metadata": {},
   "outputs": [],
   "source": [
    "modelA.save('astro_model.h5')"
   ]
  },
  {
   "cell_type": "code",
   "execution_count": 107,
   "metadata": {},
   "outputs": [],
   "source": [
    "np.savetxt('train_data.csv', train_data, delimiter=',')"
   ]
  },
  {
   "cell_type": "code",
   "execution_count": 108,
   "metadata": {},
   "outputs": [],
   "source": [
    "np.savetxt('test_data.csv', test_data, delimiter=',')"
   ]
  },
  {
   "cell_type": "code",
   "execution_count": 109,
   "metadata": {},
   "outputs": [],
   "source": [
    "np.savetxt('train_targets.csv', train_targets, delimiter=',')"
   ]
  },
  {
   "cell_type": "code",
   "execution_count": 110,
   "metadata": {},
   "outputs": [],
   "source": [
    "np.savetxt('test_targets.csv', test_targets, delimiter=',')"
   ]
  },
  {
   "cell_type": "code",
   "execution_count": 111,
   "metadata": {},
   "outputs": [],
   "source": [
    "np.savetxt('train_dataA.csv', train_dataA, delimiter=',')"
   ]
  },
  {
   "cell_type": "code",
   "execution_count": 112,
   "metadata": {},
   "outputs": [],
   "source": [
    "np.savetxt('test_dataA.csv', test_dataA, delimiter=',')"
   ]
  },
  {
   "cell_type": "code",
   "execution_count": 113,
   "metadata": {},
   "outputs": [],
   "source": [
    "counterA = collections.Counter(round(pantheondf['birthyear'] % 12,0))"
   ]
  },
  {
   "cell_type": "code",
   "execution_count": 114,
   "metadata": {},
   "outputs": [
    {
     "name": "stdout",
     "output_type": "stream",
     "text": [
      "Counter({8: 1073, 4: 1034, 0: 1028, 10: 973, 6: 947, 5: 924, 2: 922, 9: 909, 1: 897, 11: 892, 3: 887, 7: 854})\n"
     ]
    }
   ],
   "source": [
    "print(counterA)"
   ]
  },
  {
   "cell_type": "code",
   "execution_count": 115,
   "metadata": {},
   "outputs": [],
   "source": [
    "pantheondf['astro'] = round(pantheondf['birthyear'] % 12,0)"
   ]
  },
  {
   "cell_type": "code",
   "execution_count": 116,
   "metadata": {},
   "outputs": [
    {
     "data": {
      "text/html": [
       "<div>\n",
       "<style scoped>\n",
       "    .dataframe tbody tr th:only-of-type {\n",
       "        vertical-align: middle;\n",
       "    }\n",
       "\n",
       "    .dataframe tbody tr th {\n",
       "        vertical-align: top;\n",
       "    }\n",
       "\n",
       "    .dataframe thead th {\n",
       "        text-align: right;\n",
       "    }\n",
       "</style>\n",
       "<table border=\"1\" class=\"dataframe\">\n",
       "  <thead>\n",
       "    <tr style=\"text-align: right;\">\n",
       "      <th></th>\n",
       "      <th>LAT</th>\n",
       "      <th>LON</th>\n",
       "      <th>birthyear</th>\n",
       "      <th>gender</th>\n",
       "      <th>occupation</th>\n",
       "      <th>industry</th>\n",
       "      <th>domain</th>\n",
       "      <th>class</th>\n",
       "      <th>astro</th>\n",
       "    </tr>\n",
       "  </thead>\n",
       "  <tbody>\n",
       "    <tr>\n",
       "      <th>0</th>\n",
       "      <td>37.571111</td>\n",
       "      <td>-85.738611</td>\n",
       "      <td>1809</td>\n",
       "      <td>Male</td>\n",
       "      <td>POLITICIAN</td>\n",
       "      <td>GOVERNMENT</td>\n",
       "      <td>INSTITUTIONS</td>\n",
       "      <td>4.0</td>\n",
       "      <td>9</td>\n",
       "    </tr>\n",
       "    <tr>\n",
       "      <th>1</th>\n",
       "      <td>40.333333</td>\n",
       "      <td>23.500000</td>\n",
       "      <td>384</td>\n",
       "      <td>Male</td>\n",
       "      <td>PHILOSOPHER</td>\n",
       "      <td>PHILOSOPHY</td>\n",
       "      <td>HUMANITIES</td>\n",
       "      <td>4.0</td>\n",
       "      <td>0</td>\n",
       "    </tr>\n",
       "    <tr>\n",
       "      <th>2</th>\n",
       "      <td>59.950000</td>\n",
       "      <td>30.300000</td>\n",
       "      <td>1905</td>\n",
       "      <td>Female</td>\n",
       "      <td>WRITER</td>\n",
       "      <td>LANGUAGE</td>\n",
       "      <td>HUMANITIES</td>\n",
       "      <td>4.0</td>\n",
       "      <td>9</td>\n",
       "    </tr>\n",
       "    <tr>\n",
       "      <th>3</th>\n",
       "      <td>36.121514</td>\n",
       "      <td>-115.173851</td>\n",
       "      <td>1970</td>\n",
       "      <td>Male</td>\n",
       "      <td>TENNIS PLAYER</td>\n",
       "      <td>INDIVIDUAL SPORTS</td>\n",
       "      <td>SPORTS</td>\n",
       "      <td>4.0</td>\n",
       "      <td>2</td>\n",
       "    </tr>\n",
       "    <tr>\n",
       "      <th>4</th>\n",
       "      <td>51.185000</td>\n",
       "      <td>-0.610000</td>\n",
       "      <td>1894</td>\n",
       "      <td>Male</td>\n",
       "      <td>WRITER</td>\n",
       "      <td>LANGUAGE</td>\n",
       "      <td>HUMANITIES</td>\n",
       "      <td>4.0</td>\n",
       "      <td>10</td>\n",
       "    </tr>\n",
       "  </tbody>\n",
       "</table>\n",
       "</div>"
      ],
      "text/plain": [
       "         LAT         LON  birthyear  gender     occupation           industry  \\\n",
       "0  37.571111  -85.738611       1809    Male     POLITICIAN         GOVERNMENT   \n",
       "1  40.333333   23.500000        384    Male    PHILOSOPHER         PHILOSOPHY   \n",
       "2  59.950000   30.300000       1905  Female         WRITER           LANGUAGE   \n",
       "3  36.121514 -115.173851       1970    Male  TENNIS PLAYER  INDIVIDUAL SPORTS   \n",
       "4  51.185000   -0.610000       1894    Male         WRITER           LANGUAGE   \n",
       "\n",
       "         domain  class  astro  \n",
       "0  INSTITUTIONS    4.0      9  \n",
       "1    HUMANITIES    4.0      0  \n",
       "2    HUMANITIES    4.0      9  \n",
       "3        SPORTS    4.0      2  \n",
       "4    HUMANITIES    4.0     10  "
      ]
     },
     "execution_count": 116,
     "metadata": {},
     "output_type": "execute_result"
    }
   ],
   "source": [
    "pantheondf.head(5)"
   ]
  },
  {
   "cell_type": "code",
   "execution_count": 117,
   "metadata": {},
   "outputs": [
    {
     "data": {
      "text/plain": [
       "<matplotlib.axes._subplots.AxesSubplot at 0x138388978>"
      ]
     },
     "execution_count": 117,
     "metadata": {},
     "output_type": "execute_result"
    },
    {
     "data": {
      "image/png": "[encoded data removed]",
      "text/plain": [
       "<Figure size 720x720 with 1 Axes>"
      ]
     },
     "metadata": {},
     "output_type": "display_data"
    }
   ],
   "source": [
    "pantheondf.groupby(['astro']).size().plot.pie(figsize=(10, 10))"
   ]
  },
  {
   "cell_type": "markdown",
   "metadata": {},
   "source": [
    "### preparing image data"
   ]
  },
  {
   "cell_type": "code",
   "execution_count": 118,
   "metadata": {},
   "outputs": [],
   "source": [
    "import os, shutil"
   ]
  },
  {
   "cell_type": "code",
   "execution_count": 119,
   "metadata": {},
   "outputs": [],
   "source": [
    "original_dataset_dir = './img'"
   ]
  },
  {
   "cell_type": "code",
   "execution_count": 120,
   "metadata": {},
   "outputs": [],
   "source": [
    "base_dir = './img/processed'"
   ]
  },
  {
   "cell_type": "code",
   "execution_count": 121,
   "metadata": {},
   "outputs": [],
   "source": [
    "train_dir = './img/processed/train'"
   ]
  },
  {
   "cell_type": "code",
   "execution_count": 122,
   "metadata": {},
   "outputs": [],
   "source": [
    "test_dir = './img/processed/test'"
   ]
  },
  {
   "cell_type": "code",
   "execution_count": 123,
   "metadata": {},
   "outputs": [],
   "source": [
    "train_1_dir = './img/processed/train/1'"
   ]
  },
  {
   "cell_type": "code",
   "execution_count": 124,
   "metadata": {},
   "outputs": [],
   "source": [
    "train_2_dir = './img/processed/train/2'"
   ]
  },
  {
   "cell_type": "code",
   "execution_count": 125,
   "metadata": {},
   "outputs": [],
   "source": [
    "train_3_dir = './img/processed/train/3'"
   ]
  },
  {
   "cell_type": "code",
   "execution_count": 126,
   "metadata": {},
   "outputs": [],
   "source": [
    "train_4_dir = './img/processed/train/4'"
   ]
  },
  {
   "cell_type": "code",
   "execution_count": 127,
   "metadata": {},
   "outputs": [],
   "source": [
    "test_1_dir = './img/processed/test/1'"
   ]
  },
  {
   "cell_type": "code",
   "execution_count": 128,
   "metadata": {},
   "outputs": [],
   "source": [
    "test_2_dir = './img/processed/test/2'"
   ]
  },
  {
   "cell_type": "code",
   "execution_count": 129,
   "metadata": {},
   "outputs": [],
   "source": [
    "test_3_dir = './img/processed/test/3'"
   ]
  },
  {
   "cell_type": "code",
   "execution_count": 130,
   "metadata": {},
   "outputs": [],
   "source": [
    "test_4_dir = './img/processed/test/4'"
   ]
  },
  {
   "cell_type": "code",
   "execution_count": 131,
   "metadata": {},
   "outputs": [
    {
     "name": "stdout",
     "output_type": "stream",
     "text": [
      "total test 4 images: 11\n"
     ]
    }
   ],
   "source": [
    "print('total test 4 images:', len(os.listdir(test_4_dir)))"
   ]
  },
  {
   "cell_type": "code",
   "execution_count": 132,
   "metadata": {},
   "outputs": [],
   "source": [
    "from keras.preprocessing.image import ImageDataGenerator"
   ]
  },
  {
   "cell_type": "code",
   "execution_count": 133,
   "metadata": {},
   "outputs": [],
   "source": [
    "# all images will be rescaled by 1./255\n",
    "train_datagen = ImageDataGenerator(rescale=1./255)\n",
    "test_datagen = ImageDataGenerator(rescale=1./255)"
   ]
  },
  {
   "cell_type": "code",
   "execution_count": 134,
   "metadata": {},
   "outputs": [
    {
     "name": "stdout",
     "output_type": "stream",
     "text": [
      "Found 181 images belonging to 4 classes.\n"
     ]
    }
   ],
   "source": [
    "train_generator = train_datagen.flow_from_directory(\n",
    "        # This is the target directory\n",
    "        train_dir,\n",
    "        # All images will be resized to 150x150\n",
    "        target_size=(150, 150),\n",
    "        batch_size=20,\n",
    "        # Since we use categorical\n",
    "        class_mode='categorical')"
   ]
  },
  {
   "cell_type": "code",
   "execution_count": 135,
   "metadata": {},
   "outputs": [
    {
     "name": "stdout",
     "output_type": "stream",
     "text": [
      "Found 20 images belonging to 4 classes.\n"
     ]
    }
   ],
   "source": [
    "validation_generator = test_datagen.flow_from_directory(\n",
    "        test_dir,\n",
    "        target_size=(150, 150),\n",
    "        batch_size=20,\n",
    "        class_mode='categorical')"
   ]
  },
  {
   "cell_type": "markdown",
   "metadata": {},
   "source": [
    "### Image classification"
   ]
  },
  {
   "cell_type": "code",
   "execution_count": 136,
   "metadata": {},
   "outputs": [],
   "source": [
    "model = models.Sequential()\n",
    "model.add(layers.Conv2D(32, (3, 3), activation='relu',\n",
    "                        input_shape=(150, 150, 3)))\n",
    "model.add(layers.MaxPooling2D((2, 2)))\n",
    "model.add(layers.Conv2D(64, (3, 3), activation='relu'))\n",
    "model.add(layers.MaxPooling2D((2, 2)))\n",
    "model.add(layers.Conv2D(128, (3, 3), activation='relu'))\n",
    "model.add(layers.MaxPooling2D((2, 2)))\n",
    "model.add(layers.Conv2D(128, (3, 3), activation='relu'))\n",
    "model.add(layers.MaxPooling2D((2, 2)))\n",
    "model.add(layers.Flatten())\n",
    "model.add(layers.Dense(512, activation='relu'))\n",
    "model.add(layers.Dense(4, activation='softmax'))"
   ]
  },
  {
   "cell_type": "code",
   "execution_count": 137,
   "metadata": {},
   "outputs": [
    {
     "name": "stdout",
     "output_type": "stream",
     "text": [
      "Model: \"sequential_7\"\n",
      "_________________________________________________________________\n",
      "Layer (type)                 Output Shape              Param #   \n",
      "=================================================================\n",
      "conv2d_1 (Conv2D)            (None, 148, 148, 32)      896       \n",
      "_________________________________________________________________\n",
      "max_pooling2d_1 (MaxPooling2 (None, 74, 74, 32)        0         \n",
      "_________________________________________________________________\n",
      "conv2d_2 (Conv2D)            (None, 72, 72, 64)        18496     \n",
      "_________________________________________________________________\n",
      "max_pooling2d_2 (MaxPooling2 (None, 36, 36, 64)        0         \n",
      "_________________________________________________________________\n",
      "conv2d_3 (Conv2D)            (None, 34, 34, 128)       73856     \n",
      "_________________________________________________________________\n",
      "max_pooling2d_3 (MaxPooling2 (None, 17, 17, 128)       0         \n",
      "_________________________________________________________________\n",
      "conv2d_4 (Conv2D)            (None, 15, 15, 128)       147584    \n",
      "_________________________________________________________________\n",
      "max_pooling2d_4 (MaxPooling2 (None, 7, 7, 128)         0         \n",
      "_________________________________________________________________\n",
      "flatten_1 (Flatten)          (None, 6272)              0         \n",
      "_________________________________________________________________\n",
      "dense_19 (Dense)             (None, 512)               3211776   \n",
      "_________________________________________________________________\n",
      "dense_20 (Dense)             (None, 4)                 2052      \n",
      "=================================================================\n",
      "Total params: 3,454,660\n",
      "Trainable params: 3,454,660\n",
      "Non-trainable params: 0\n",
      "_________________________________________________________________\n"
     ]
    }
   ],
   "source": [
    "model.summary()"
   ]
  },
  {
   "cell_type": "code",
   "execution_count": 138,
   "metadata": {},
   "outputs": [],
   "source": [
    "model.compile(optimizer=optimizers.RMSprop(lr=1e-4),\n",
    "              loss=losses.categorical_crossentropy,\n",
    "              metrics=[metrics.categorical_accuracy])"
   ]
  },
  {
   "cell_type": "code",
   "execution_count": 139,
   "metadata": {},
   "outputs": [
    {
     "name": "stdout",
     "output_type": "stream",
     "text": [
      "Epoch 1/30\n",
      "100/100 [==============================] - 194s 2s/step - loss: 1.3117 - categorical_accuracy: 0.3895 - val_loss: 1.6402 - val_categorical_accuracy: 0.0000e+00\n",
      "Epoch 2/30\n",
      "100/100 [==============================] - 161s 2s/step - loss: 1.0081 - categorical_accuracy: 0.6044 - val_loss: 1.2899 - val_categorical_accuracy: 0.4500\n",
      "Epoch 3/30\n",
      "100/100 [==============================] - 163s 2s/step - loss: 0.6541 - categorical_accuracy: 0.7873 - val_loss: 1.1956 - val_categorical_accuracy: 0.4000\n",
      "Epoch 4/30\n",
      "100/100 [==============================] - 164s 2s/step - loss: 0.3442 - categorical_accuracy: 0.9193 - val_loss: 2.3795 - val_categorical_accuracy: 0.3000\n",
      "Epoch 5/30\n",
      "100/100 [==============================] - 176s 2s/step - loss: 0.1433 - categorical_accuracy: 0.9680 - val_loss: 1.7261 - val_categorical_accuracy: 0.5000\n",
      "Epoch 6/30\n",
      "100/100 [==============================] - 169s 2s/step - loss: 0.0482 - categorical_accuracy: 0.9928 - val_loss: 1.9368 - val_categorical_accuracy: 0.4500\n",
      "Epoch 7/30\n",
      "100/100 [==============================] - 172s 2s/step - loss: 0.0261 - categorical_accuracy: 0.9939 - val_loss: 2.6774 - val_categorical_accuracy: 0.4500\n",
      "Epoch 8/30\n",
      "100/100 [==============================] - 172s 2s/step - loss: 0.0324 - categorical_accuracy: 0.9934 - val_loss: 2.8206 - val_categorical_accuracy: 0.4500\n",
      "Epoch 9/30\n",
      "100/100 [==============================] - 170s 2s/step - loss: 0.0219 - categorical_accuracy: 0.9967 - val_loss: 2.8353 - val_categorical_accuracy: 0.5000\n",
      "Epoch 10/30\n",
      "100/100 [==============================] - 194s 2s/step - loss: 0.0182 - categorical_accuracy: 0.9961 - val_loss: 3.6948 - val_categorical_accuracy: 0.5000\n",
      "Epoch 11/30\n",
      "100/100 [==============================] - 183s 2s/step - loss: 2.9603e-04 - categorical_accuracy: 1.0000 - val_loss: 3.9581 - val_categorical_accuracy: 0.4500\n",
      "Epoch 12/30\n",
      "100/100 [==============================] - 167s 2s/step - loss: 0.0125 - categorical_accuracy: 0.9967 - val_loss: 3.6716 - val_categorical_accuracy: 0.4500\n",
      "Epoch 13/30\n",
      "100/100 [==============================] - 165s 2s/step - loss: 0.0233 - categorical_accuracy: 0.9956 - val_loss: 4.4897 - val_categorical_accuracy: 0.4500\n",
      "Epoch 14/30\n",
      "100/100 [==============================] - 171s 2s/step - loss: 0.0047 - categorical_accuracy: 0.9972 - val_loss: 5.2212 - val_categorical_accuracy: 0.4500\n",
      "Epoch 15/30\n",
      "100/100 [==============================] - 168s 2s/step - loss: 3.0787e-05 - categorical_accuracy: 1.0000 - val_loss: 5.0354 - val_categorical_accuracy: 0.4500\n",
      "Epoch 16/30\n",
      "100/100 [==============================] - 195s 2s/step - loss: 0.0235 - categorical_accuracy: 0.9978 - val_loss: 4.2972 - val_categorical_accuracy: 0.4500\n",
      "Epoch 17/30\n",
      "100/100 [==============================] - 202s 2s/step - loss: 9.5890e-06 - categorical_accuracy: 1.0000 - val_loss: 5.1540 - val_categorical_accuracy: 0.4500\n",
      "Epoch 18/30\n",
      "100/100 [==============================] - 185s 2s/step - loss: 0.0056 - categorical_accuracy: 0.9972 - val_loss: 6.3359 - val_categorical_accuracy: 0.4500\n",
      "Epoch 19/30\n",
      "100/100 [==============================] - 184s 2s/step - loss: 8.6981e-06 - categorical_accuracy: 1.0000 - val_loss: 5.8469 - val_categorical_accuracy: 0.4500\n",
      "Epoch 20/30\n",
      "100/100 [==============================] - 172s 2s/step - loss: 3.1558e-07 - categorical_accuracy: 1.0000 - val_loss: 7.7538 - val_categorical_accuracy: 0.4500\n",
      "Epoch 21/30\n",
      "100/100 [==============================] - 174s 2s/step - loss: 5.1433e-08 - categorical_accuracy: 1.0000 - val_loss: 6.9328 - val_categorical_accuracy: 0.4500\n",
      "Epoch 22/30\n",
      "100/100 [==============================] - 174s 2s/step - loss: 4.2960e-09 - categorical_accuracy: 1.0000 - val_loss: 7.1220 - val_categorical_accuracy: 0.4500\n",
      "Epoch 23/30\n",
      "100/100 [==============================] - 177s 2s/step - loss: 2.2077e-09 - categorical_accuracy: 1.0000 - val_loss: 7.2300 - val_categorical_accuracy: 0.4500\n",
      "Epoch 24/30\n",
      "100/100 [==============================] - 175s 2s/step - loss: 3.1499e-09 - categorical_accuracy: 1.0000 - val_loss: 7.6044 - val_categorical_accuracy: 0.4500\n",
      "Epoch 25/30\n",
      "100/100 [==============================] - 174s 2s/step - loss: 2.3867e-09 - categorical_accuracy: 1.0000 - val_loss: 7.6386 - val_categorical_accuracy: 0.4500\n",
      "Epoch 26/30\n",
      "100/100 [==============================] - 189s 2s/step - loss: 2.5657e-09 - categorical_accuracy: 1.0000 - val_loss: 8.0199 - val_categorical_accuracy: 0.4500\n",
      "Epoch 27/30\n",
      "100/100 [==============================] - 193s 2s/step - loss: 0.0948 - categorical_accuracy: 0.9945 - val_loss: 5.8484 - val_categorical_accuracy: 0.4500\n",
      "Epoch 28/30\n",
      "100/100 [==============================] - 194s 2s/step - loss: 4.2188e-06 - categorical_accuracy: 1.0000 - val_loss: 6.8774 - val_categorical_accuracy: 0.4500\n",
      "Epoch 29/30\n",
      "100/100 [==============================] - 188s 2s/step - loss: 9.1639e-08 - categorical_accuracy: 1.0000 - val_loss: 7.7189 - val_categorical_accuracy: 0.4500\n",
      "Epoch 30/30\n",
      "100/100 [==============================] - 172s 2s/step - loss: 2.8043e-09 - categorical_accuracy: 1.0000 - val_loss: 8.1250 - val_categorical_accuracy: 0.4500\n"
     ]
    }
   ],
   "source": [
    "history = model.fit_generator(\n",
    "      train_generator,\n",
    "      steps_per_epoch=100,\n",
    "        #30\n",
    "      epochs=30,\n",
    "      validation_data=validation_generator,\n",
    "      validation_steps=50)"
   ]
  },
  {
   "cell_type": "code",
   "execution_count": 140,
   "metadata": {},
   "outputs": [],
   "source": [
    "model.save('img_model.h5')"
   ]
  },
  {
   "cell_type": "code",
   "execution_count": 141,
   "metadata": {},
   "outputs": [],
   "source": [
    "acc = history.history['categorical_accuracy']\n",
    "val_acc = history.history['val_categorical_accuracy']\n",
    "loss = history.history['loss']\n",
    "val_loss = history.history['val_loss']\n",
    "\n",
    "epochs = range(len(acc))"
   ]
  },
  {
   "cell_type": "code",
   "execution_count": 142,
   "metadata": {},
   "outputs": [
    {
     "data": {
      "image/png": "[encoded data removed]",
      "text/plain": [
       "<Figure size 432x288 with 1 Axes>"
      ]
     },
     "metadata": {
      "needs_background": "light"
     },
     "output_type": "display_data"
    },
    {
     "data": {
      "image/png": "[encoded data removed]",
      "text/plain": [
       "<Figure size 432x288 with 1 Axes>"
      ]
     },
     "metadata": {
      "needs_background": "light"
     },
     "output_type": "display_data"
    }
   ],
   "source": [
    "plt.plot(epochs, acc, 'bo', label='Training acc')\n",
    "plt.plot(epochs, val_acc, 'b', label='Validation acc')\n",
    "plt.title('Training and validation accuracy')\n",
    "plt.legend()\n",
    "\n",
    "plt.figure()\n",
    "\n",
    "plt.plot(epochs, loss, 'bo', label='Training loss')\n",
    "plt.plot(epochs, val_loss, 'b', label='Validation loss')\n",
    "plt.title('Training and validation loss')\n",
    "plt.legend()\n",
    "\n",
    "plt.show()"
   ]
  },
  {
   "cell_type": "code",
   "execution_count": 143,
   "metadata": {},
   "outputs": [],
   "source": [
    "datagen = ImageDataGenerator(\n",
    "      rotation_range=40,\n",
    "      width_shift_range=0.2,\n",
    "      height_shift_range=0.2,\n",
    "      shear_range=0.2,\n",
    "      zoom_range=0.2,\n",
    "      horizontal_flip=True,\n",
    "      fill_mode='nearest')"
   ]
  },
  {
   "cell_type": "markdown",
   "metadata": {},
   "source": [
    "#### augmentation and dropout"
   ]
  },
  {
   "cell_type": "code",
   "execution_count": 144,
   "metadata": {},
   "outputs": [],
   "source": [
    "# this is module with image preprocessing utilities\n",
    "from keras.preprocessing import image"
   ]
  },
  {
   "cell_type": "code",
   "execution_count": 145,
   "metadata": {},
   "outputs": [],
   "source": [
    "model = models.Sequential()\n",
    "model.add(layers.Conv2D(32, (3, 3), activation='relu',\n",
    "                        input_shape=(150, 150, 3)))\n",
    "model.add(layers.MaxPooling2D((2, 2)))\n",
    "model.add(layers.Conv2D(64, (3, 3), activation='relu'))\n",
    "model.add(layers.MaxPooling2D((2, 2)))\n",
    "model.add(layers.Conv2D(128, (3, 3), activation='relu'))\n",
    "model.add(layers.MaxPooling2D((2, 2)))\n",
    "model.add(layers.Conv2D(128, (3, 3), activation='relu'))\n",
    "model.add(layers.MaxPooling2D((2, 2)))\n",
    "model.add(layers.Flatten())\n",
    "model.add(layers.Dropout(0.5))\n",
    "model.add(layers.Dense(512, activation='relu'))\n",
    "model.add(layers.Dense(4, activation='softmax'))"
   ]
  },
  {
   "cell_type": "code",
   "execution_count": 146,
   "metadata": {},
   "outputs": [],
   "source": [
    "model.compile(optimizer=optimizers.RMSprop(lr=1e-4),\n",
    "              loss=losses.categorical_crossentropy,\n",
    "              metrics=[metrics.categorical_accuracy])"
   ]
  },
  {
   "cell_type": "code",
   "execution_count": 147,
   "metadata": {},
   "outputs": [],
   "source": [
    "train_datagen = ImageDataGenerator(\n",
    "    rescale=1./255,\n",
    "    rotation_range=40,\n",
    "    width_shift_range=0.2,\n",
    "    height_shift_range=0.2,\n",
    "    shear_range=0.2,\n",
    "    zoom_range=0.2,\n",
    "    horizontal_flip=True,)"
   ]
  },
  {
   "cell_type": "code",
   "execution_count": 148,
   "metadata": {},
   "outputs": [],
   "source": [
    "# note that the validation data should not be augmented!\n",
    "test_datagen = ImageDataGenerator(rescale=1./255)"
   ]
  },
  {
   "cell_type": "code",
   "execution_count": 149,
   "metadata": {},
   "outputs": [
    {
     "name": "stdout",
     "output_type": "stream",
     "text": [
      "Found 181 images belonging to 4 classes.\n"
     ]
    }
   ],
   "source": [
    "train_generator = train_datagen.flow_from_directory(\n",
    "        # This is the target directory\n",
    "        train_dir,\n",
    "        # All images will be resized to 150x150\n",
    "        target_size=(150, 150),\n",
    "        batch_size=32,\n",
    "        # Since we use categorical\n",
    "        class_mode='categorical')"
   ]
  },
  {
   "cell_type": "code",
   "execution_count": 150,
   "metadata": {},
   "outputs": [
    {
     "name": "stdout",
     "output_type": "stream",
     "text": [
      "Found 20 images belonging to 4 classes.\n"
     ]
    }
   ],
   "source": [
    "validation_generator = test_datagen.flow_from_directory(\n",
    "        test_dir,\n",
    "        target_size=(150, 150),\n",
    "        batch_size=32,\n",
    "        class_mode='categorical')"
   ]
  },
  {
   "cell_type": "code",
   "execution_count": 151,
   "metadata": {},
   "outputs": [
    {
     "name": "stdout",
     "output_type": "stream",
     "text": [
      "Epoch 1/100\n",
      "100/100 [==============================] - 297s 3s/step - loss: 1.3811 - categorical_accuracy: 0.2831 - val_loss: 1.3728 - val_categorical_accuracy: 0.4000\n",
      "Epoch 2/100\n",
      "100/100 [==============================] - 285s 3s/step - loss: 1.3488 - categorical_accuracy: 0.3354 - val_loss: 1.6261 - val_categorical_accuracy: 0.2000\n",
      "Epoch 3/100\n",
      "100/100 [==============================] - 260s 3s/step - loss: 1.3148 - categorical_accuracy: 0.3664 - val_loss: 1.3472 - val_categorical_accuracy: 0.4500\n",
      "Epoch 4/100\n",
      "100/100 [==============================] - 243s 2s/step - loss: 1.2876 - categorical_accuracy: 0.3767 - val_loss: 1.5112 - val_categorical_accuracy: 0.3000\n",
      "Epoch 5/100\n",
      "100/100 [==============================] - 250s 2s/step - loss: 1.2590 - categorical_accuracy: 0.4038 - val_loss: 1.3265 - val_categorical_accuracy: 0.5000\n",
      "Epoch 6/100\n",
      "100/100 [==============================] - 249s 2s/step - loss: 1.2434 - categorical_accuracy: 0.4189 - val_loss: 1.9587 - val_categorical_accuracy: 0.2000\n",
      "Epoch 7/100\n",
      "100/100 [==============================] - 242s 2s/step - loss: 1.1981 - categorical_accuracy: 0.4477 - val_loss: 1.4052 - val_categorical_accuracy: 0.3500\n",
      "Epoch 8/100\n",
      "100/100 [==============================] - 248s 2s/step - loss: 1.1709 - categorical_accuracy: 0.4782 - val_loss: 1.6020 - val_categorical_accuracy: 0.3500\n",
      "Epoch 9/100\n",
      "100/100 [==============================] - 265s 3s/step - loss: 1.1364 - categorical_accuracy: 0.4866 - val_loss: 1.8785 - val_categorical_accuracy: 0.2500\n",
      "Epoch 10/100\n",
      "100/100 [==============================] - 245s 2s/step - loss: 1.1140 - categorical_accuracy: 0.4935 - val_loss: 1.7413 - val_categorical_accuracy: 0.3000\n",
      "Epoch 11/100\n",
      "100/100 [==============================] - 250s 2s/step - loss: 1.0870 - categorical_accuracy: 0.5222 - val_loss: 2.0333 - val_categorical_accuracy: 0.2000\n",
      "Epoch 12/100\n",
      "100/100 [==============================] - 251s 3s/step - loss: 1.0658 - categorical_accuracy: 0.5267 - val_loss: 1.5721 - val_categorical_accuracy: 0.2500\n",
      "Epoch 13/100\n",
      "100/100 [==============================] - 247s 2s/step - loss: 1.0257 - categorical_accuracy: 0.5572 - val_loss: 2.3504 - val_categorical_accuracy: 0.2000\n",
      "Epoch 14/100\n",
      "100/100 [==============================] - 253s 3s/step - loss: 1.0086 - categorical_accuracy: 0.5596 - val_loss: 2.2746 - val_categorical_accuracy: 0.2500\n",
      "Epoch 15/100\n",
      "100/100 [==============================] - 271s 3s/step - loss: 0.9627 - categorical_accuracy: 0.5815 - val_loss: 2.3120 - val_categorical_accuracy: 0.2000\n",
      "Epoch 16/100\n",
      "100/100 [==============================] - 248s 2s/step - loss: 0.9414 - categorical_accuracy: 0.5987 - val_loss: 2.4903 - val_categorical_accuracy: 0.2000\n",
      "Epoch 17/100\n",
      "100/100 [==============================] - 251s 3s/step - loss: 0.9285 - categorical_accuracy: 0.6097 - val_loss: 2.4411 - val_categorical_accuracy: 0.2000\n",
      "Epoch 18/100\n",
      "100/100 [==============================] - 250s 2s/step - loss: 0.8860 - categorical_accuracy: 0.6260 - val_loss: 2.6971 - val_categorical_accuracy: 0.1500\n",
      "Epoch 19/100\n",
      "100/100 [==============================] - 245s 2s/step - loss: 0.8620 - categorical_accuracy: 0.6336 - val_loss: 2.0194 - val_categorical_accuracy: 0.2500\n",
      "Epoch 20/100\n",
      "100/100 [==============================] - 251s 3s/step - loss: 0.8420 - categorical_accuracy: 0.6588 - val_loss: 2.3084 - val_categorical_accuracy: 0.2000\n",
      "Epoch 21/100\n",
      "100/100 [==============================] - 247s 2s/step - loss: 0.8159 - categorical_accuracy: 0.6620 - val_loss: 2.6036 - val_categorical_accuracy: 0.1500\n",
      "Epoch 22/100\n",
      "100/100 [==============================] - 244s 2s/step - loss: 0.7780 - categorical_accuracy: 0.6774 - val_loss: 3.0616 - val_categorical_accuracy: 0.1500\n",
      "Epoch 23/100\n",
      "100/100 [==============================] - 249s 2s/step - loss: 0.7608 - categorical_accuracy: 0.6884 - val_loss: 2.9774 - val_categorical_accuracy: 0.1500\n",
      "Epoch 24/100\n",
      "100/100 [==============================] - 250s 3s/step - loss: 0.7300 - categorical_accuracy: 0.6961 - val_loss: 2.7119 - val_categorical_accuracy: 0.1500\n",
      "Epoch 25/100\n",
      "100/100 [==============================] - 246s 2s/step - loss: 0.7123 - categorical_accuracy: 0.7073 - val_loss: 3.0128 - val_categorical_accuracy: 0.2000\n",
      "Epoch 26/100\n",
      "100/100 [==============================] - 259s 3s/step - loss: 0.7051 - categorical_accuracy: 0.7159 - val_loss: 3.2105 - val_categorical_accuracy: 0.2000\n",
      "Epoch 27/100\n",
      "100/100 [==============================] - 249s 2s/step - loss: 0.6719 - categorical_accuracy: 0.7262 - val_loss: 2.9826 - val_categorical_accuracy: 0.2000\n",
      "Epoch 28/100\n",
      "100/100 [==============================] - 246s 2s/step - loss: 0.6463 - categorical_accuracy: 0.7338 - val_loss: 3.3248 - val_categorical_accuracy: 0.2000\n",
      "Epoch 29/100\n",
      "100/100 [==============================] - 250s 3s/step - loss: 0.6327 - categorical_accuracy: 0.7534 - val_loss: 4.4114 - val_categorical_accuracy: 0.1500\n",
      "Epoch 30/100\n",
      "100/100 [==============================] - 246s 2s/step - loss: 0.6182 - categorical_accuracy: 0.7647 - val_loss: 3.2570 - val_categorical_accuracy: 0.1500\n",
      "Epoch 31/100\n",
      "100/100 [==============================] - 241s 2s/step - loss: 0.5686 - categorical_accuracy: 0.7816 - val_loss: 4.9883 - val_categorical_accuracy: 0.1500\n",
      "Epoch 32/100\n",
      "100/100 [==============================] - 248s 2s/step - loss: 0.5638 - categorical_accuracy: 0.7760 - val_loss: 3.4103 - val_categorical_accuracy: 0.2500\n",
      "Epoch 33/100\n",
      "100/100 [==============================] - 247s 2s/step - loss: 0.5661 - categorical_accuracy: 0.7774 - val_loss: 3.5844 - val_categorical_accuracy: 0.2500\n",
      "Epoch 34/100\n",
      "100/100 [==============================] - 257s 3s/step - loss: 0.5373 - categorical_accuracy: 0.7899 - val_loss: 3.9786 - val_categorical_accuracy: 0.2000\n",
      "Epoch 35/100\n",
      "100/100 [==============================] - 255s 3s/step - loss: 0.5148 - categorical_accuracy: 0.8049 - val_loss: 3.8376 - val_categorical_accuracy: 0.2000\n",
      "Epoch 36/100\n",
      "100/100 [==============================] - 251s 3s/step - loss: 0.5105 - categorical_accuracy: 0.8029 - val_loss: 3.4647 - val_categorical_accuracy: 0.2000\n",
      "Epoch 37/100\n",
      "100/100 [==============================] - 244s 2s/step - loss: 0.4888 - categorical_accuracy: 0.8072 - val_loss: 4.4527 - val_categorical_accuracy: 0.2000\n",
      "Epoch 38/100\n",
      "100/100 [==============================] - 253s 3s/step - loss: 0.4832 - categorical_accuracy: 0.8224 - val_loss: 4.3151 - val_categorical_accuracy: 0.2000\n",
      "Epoch 39/100\n",
      "100/100 [==============================] - 248s 2s/step - loss: 0.4367 - categorical_accuracy: 0.8366 - val_loss: 3.5389 - val_categorical_accuracy: 0.2500\n",
      "Epoch 40/100\n",
      "100/100 [==============================] - 244s 2s/step - loss: 0.4496 - categorical_accuracy: 0.8376 - val_loss: 4.3618 - val_categorical_accuracy: 0.1500\n",
      "Epoch 41/100\n",
      "100/100 [==============================] - 250s 3s/step - loss: 0.4254 - categorical_accuracy: 0.8347 - val_loss: 5.7719 - val_categorical_accuracy: 0.1500\n",
      "Epoch 42/100\n",
      "100/100 [==============================] - 245s 2s/step - loss: 0.4373 - categorical_accuracy: 0.8397 - val_loss: 3.8112 - val_categorical_accuracy: 0.1500\n",
      "Epoch 43/100\n",
      "100/100 [==============================] - 242s 2s/step - loss: 0.3962 - categorical_accuracy: 0.8483 - val_loss: 4.6872 - val_categorical_accuracy: 0.1000\n",
      "Epoch 44/100\n",
      "100/100 [==============================] - 250s 3s/step - loss: 0.4067 - categorical_accuracy: 0.8482 - val_loss: 4.8603 - val_categorical_accuracy: 0.1500\n",
      "Epoch 45/100\n",
      "100/100 [==============================] - 245s 2s/step - loss: 0.3619 - categorical_accuracy: 0.8649 - val_loss: 5.4947 - val_categorical_accuracy: 0.1500\n",
      "Epoch 46/100\n",
      "100/100 [==============================] - 241s 2s/step - loss: 0.3489 - categorical_accuracy: 0.8724 - val_loss: 5.4944 - val_categorical_accuracy: 0.1500\n",
      "Epoch 47/100\n",
      "100/100 [==============================] - 248s 2s/step - loss: 0.3581 - categorical_accuracy: 0.8659 - val_loss: 4.7329 - val_categorical_accuracy: 0.1500\n",
      "Epoch 48/100\n",
      "100/100 [==============================] - 265s 3s/step - loss: 0.3586 - categorical_accuracy: 0.8716 - val_loss: 4.4878 - val_categorical_accuracy: 0.2000\n",
      "Epoch 49/100\n"
     ]
    },
    {
     "name": "stdout",
     "output_type": "stream",
     "text": [
      "100/100 [==============================] - 275s 3s/step - loss: 0.3431 - categorical_accuracy: 0.8714 - val_loss: 5.1605 - val_categorical_accuracy: 0.2000\n",
      "Epoch 50/100\n",
      "100/100 [==============================] - 250s 2s/step - loss: 0.3181 - categorical_accuracy: 0.8771 - val_loss: 4.8761 - val_categorical_accuracy: 0.1500\n",
      "Epoch 51/100\n",
      "100/100 [==============================] - 251s 3s/step - loss: 0.3276 - categorical_accuracy: 0.8859 - val_loss: 4.7157 - val_categorical_accuracy: 0.2000\n",
      "Epoch 52/100\n",
      "100/100 [==============================] - 244s 2s/step - loss: 0.3029 - categorical_accuracy: 0.8905 - val_loss: 5.2636 - val_categorical_accuracy: 0.1000\n",
      "Epoch 53/100\n",
      "100/100 [==============================] - 246s 2s/step - loss: 0.2848 - categorical_accuracy: 0.8928 - val_loss: 6.3241 - val_categorical_accuracy: 0.1000\n",
      "Epoch 54/100\n",
      "100/100 [==============================] - 251s 3s/step - loss: 0.2969 - categorical_accuracy: 0.8866 - val_loss: 5.2786 - val_categorical_accuracy: 0.2500\n",
      "Epoch 55/100\n",
      "100/100 [==============================] - 246s 2s/step - loss: 0.2858 - categorical_accuracy: 0.8925 - val_loss: 5.0284 - val_categorical_accuracy: 0.1500\n",
      "Epoch 56/100\n",
      "100/100 [==============================] - 249s 2s/step - loss: 0.2828 - categorical_accuracy: 0.8922 - val_loss: 6.5744 - val_categorical_accuracy: 0.1500\n",
      "Epoch 57/100\n",
      "100/100 [==============================] - 246s 2s/step - loss: 0.2646 - categorical_accuracy: 0.8984 - val_loss: 6.6321 - val_categorical_accuracy: 0.0500\n",
      "Epoch 58/100\n",
      "100/100 [==============================] - 243s 2s/step - loss: 0.2471 - categorical_accuracy: 0.9127 - val_loss: 4.6044 - val_categorical_accuracy: 0.1500\n",
      "Epoch 59/100\n",
      "100/100 [==============================] - 246s 2s/step - loss: 0.2470 - categorical_accuracy: 0.9117 - val_loss: 6.4241 - val_categorical_accuracy: 0.1500\n",
      "Epoch 60/100\n",
      "100/100 [==============================] - 244s 2s/step - loss: 0.2464 - categorical_accuracy: 0.9134 - val_loss: 4.9149 - val_categorical_accuracy: 0.2000\n",
      "Epoch 61/100\n",
      "100/100 [==============================] - 241s 2s/step - loss: 0.2347 - categorical_accuracy: 0.9240 - val_loss: 6.9922 - val_categorical_accuracy: 0.0500\n",
      "Epoch 62/100\n",
      "100/100 [==============================] - 247s 2s/step - loss: 0.2414 - categorical_accuracy: 0.9137 - val_loss: 6.1000 - val_categorical_accuracy: 0.1500\n",
      "Epoch 63/100\n",
      "100/100 [==============================] - 244s 2s/step - loss: 0.2322 - categorical_accuracy: 0.9124 - val_loss: 5.6203 - val_categorical_accuracy: 0.1000\n",
      "Epoch 64/100\n",
      "100/100 [==============================] - 241s 2s/step - loss: 0.2220 - categorical_accuracy: 0.9144 - val_loss: 6.0800 - val_categorical_accuracy: 0.1500\n",
      "Epoch 65/100\n",
      "100/100 [==============================] - 246s 2s/step - loss: 0.2328 - categorical_accuracy: 0.9167 - val_loss: 6.1600 - val_categorical_accuracy: 0.1500\n",
      "Epoch 66/100\n",
      "100/100 [==============================] - 243s 2s/step - loss: 0.2269 - categorical_accuracy: 0.9197 - val_loss: 6.6241 - val_categorical_accuracy: 0.2000\n",
      "Epoch 67/100\n",
      "100/100 [==============================] - 240s 2s/step - loss: 0.2165 - categorical_accuracy: 0.9207 - val_loss: 6.2794 - val_categorical_accuracy: 0.1500\n",
      "Epoch 68/100\n",
      "100/100 [==============================] - 246s 2s/step - loss: 0.2070 - categorical_accuracy: 0.9302 - val_loss: 6.1683 - val_categorical_accuracy: 0.2000\n",
      "Epoch 69/100\n",
      "100/100 [==============================] - 243s 2s/step - loss: 0.1970 - categorical_accuracy: 0.9316 - val_loss: 5.9482 - val_categorical_accuracy: 0.1500\n",
      "Epoch 70/100\n",
      "100/100 [==============================] - 242s 2s/step - loss: 0.1852 - categorical_accuracy: 0.9342 - val_loss: 5.7758 - val_categorical_accuracy: 0.2000\n",
      "Epoch 71/100\n",
      "100/100 [==============================] - 247s 2s/step - loss: 0.1753 - categorical_accuracy: 0.9389 - val_loss: 6.7506 - val_categorical_accuracy: 0.1500\n",
      "Epoch 72/100\n",
      "100/100 [==============================] - 243s 2s/step - loss: 0.1883 - categorical_accuracy: 0.9306 - val_loss: 6.0193 - val_categorical_accuracy: 0.2500\n",
      "Epoch 73/100\n",
      "100/100 [==============================] - 239s 2s/step - loss: 0.1675 - categorical_accuracy: 0.9418 - val_loss: 6.9653 - val_categorical_accuracy: 0.1500\n",
      "Epoch 74/100\n",
      "100/100 [==============================] - 251s 3s/step - loss: 0.1788 - categorical_accuracy: 0.9400 - val_loss: 7.4260 - val_categorical_accuracy: 0.0500\n",
      "Epoch 75/100\n",
      "100/100 [==============================] - 246s 2s/step - loss: 0.1837 - categorical_accuracy: 0.9329 - val_loss: 6.7534 - val_categorical_accuracy: 0.2000\n",
      "Epoch 76/100\n",
      "100/100 [==============================] - 243s 2s/step - loss: 0.1741 - categorical_accuracy: 0.9363 - val_loss: 7.4932 - val_categorical_accuracy: 0.1500\n",
      "Epoch 77/100\n",
      "100/100 [==============================] - 249s 2s/step - loss: 0.1642 - categorical_accuracy: 0.9388 - val_loss: 7.3068 - val_categorical_accuracy: 0.1500\n",
      "Epoch 78/100\n",
      "100/100 [==============================] - 245s 2s/step - loss: 0.1450 - categorical_accuracy: 0.9462 - val_loss: 7.1766 - val_categorical_accuracy: 0.1500\n",
      "Epoch 79/100\n",
      "100/100 [==============================] - 240s 2s/step - loss: 0.1478 - categorical_accuracy: 0.9479 - val_loss: 6.0745 - val_categorical_accuracy: 0.2000\n",
      "Epoch 80/100\n",
      "100/100 [==============================] - 246s 2s/step - loss: 0.1605 - categorical_accuracy: 0.9458 - val_loss: 7.1476 - val_categorical_accuracy: 0.1500\n",
      "Epoch 81/100\n",
      "100/100 [==============================] - 244s 2s/step - loss: 0.1543 - categorical_accuracy: 0.9466 - val_loss: 8.1442 - val_categorical_accuracy: 0.1500\n",
      "Epoch 82/100\n",
      "100/100 [==============================] - 238s 2s/step - loss: 0.1750 - categorical_accuracy: 0.9416 - val_loss: 7.1378 - val_categorical_accuracy: 0.1000\n",
      "Epoch 83/100\n",
      "100/100 [==============================] - 245s 2s/step - loss: 0.1484 - categorical_accuracy: 0.9456 - val_loss: 7.4771 - val_categorical_accuracy: 0.1500\n",
      "Epoch 84/100\n",
      "100/100 [==============================] - 243s 2s/step - loss: 0.1493 - categorical_accuracy: 0.9504 - val_loss: 7.6829 - val_categorical_accuracy: 0.2500\n",
      "Epoch 85/100\n",
      "100/100 [==============================] - 240s 2s/step - loss: 0.1495 - categorical_accuracy: 0.9482 - val_loss: 6.9763 - val_categorical_accuracy: 0.1500\n",
      "Epoch 86/100\n",
      "100/100 [==============================] - 246s 2s/step - loss: 0.1393 - categorical_accuracy: 0.9484 - val_loss: 7.8155 - val_categorical_accuracy: 0.2000\n",
      "Epoch 87/100\n",
      "100/100 [==============================] - 242s 2s/step - loss: 0.1321 - categorical_accuracy: 0.9565 - val_loss: 6.9799 - val_categorical_accuracy: 0.2000\n",
      "Epoch 88/100\n",
      "100/100 [==============================] - 240s 2s/step - loss: 0.1254 - categorical_accuracy: 0.9567 - val_loss: 7.5443 - val_categorical_accuracy: 0.2000\n",
      "Epoch 89/100\n",
      "100/100 [==============================] - 245s 2s/step - loss: 0.1446 - categorical_accuracy: 0.9525 - val_loss: 8.3042 - val_categorical_accuracy: 0.2000\n",
      "Epoch 90/100\n",
      "100/100 [==============================] - 242s 2s/step - loss: 0.1215 - categorical_accuracy: 0.9569 - val_loss: 7.5158 - val_categorical_accuracy: 0.1000\n",
      "Epoch 91/100\n",
      "100/100 [==============================] - 238s 2s/step - loss: 0.1314 - categorical_accuracy: 0.9539 - val_loss: 7.9336 - val_categorical_accuracy: 0.1500\n",
      "Epoch 92/100\n",
      "100/100 [==============================] - 244s 2s/step - loss: 0.1470 - categorical_accuracy: 0.9502 - val_loss: 7.4992 - val_categorical_accuracy: 0.1500\n",
      "Epoch 93/100\n",
      "100/100 [==============================] - 243s 2s/step - loss: 0.1097 - categorical_accuracy: 0.9606 - val_loss: 8.1787 - val_categorical_accuracy: 0.1500\n",
      "Epoch 94/100\n",
      "100/100 [==============================] - 239s 2s/step - loss: 0.1249 - categorical_accuracy: 0.9602 - val_loss: 7.8021 - val_categorical_accuracy: 0.1500\n",
      "Epoch 95/100\n",
      "100/100 [==============================] - 246s 2s/step - loss: 0.1145 - categorical_accuracy: 0.9570 - val_loss: 8.4022 - val_categorical_accuracy: 0.1500\n",
      "Epoch 96/100\n",
      "100/100 [==============================] - 243s 2s/step - loss: 0.1127 - categorical_accuracy: 0.9612 - val_loss: 9.0109 - val_categorical_accuracy: 0.2000\n",
      "Epoch 97/100\n"
     ]
    },
    {
     "name": "stdout",
     "output_type": "stream",
     "text": [
      "100/100 [==============================] - 240s 2s/step - loss: 0.1108 - categorical_accuracy: 0.9638 - val_loss: 8.4881 - val_categorical_accuracy: 0.2000\n",
      "Epoch 98/100\n",
      "100/100 [==============================] - 244s 2s/step - loss: 0.1246 - categorical_accuracy: 0.9560 - val_loss: 8.1581 - val_categorical_accuracy: 0.1500\n",
      "Epoch 99/100\n",
      "100/100 [==============================] - 242s 2s/step - loss: 0.1035 - categorical_accuracy: 0.9642 - val_loss: 9.5985 - val_categorical_accuracy: 0.0500\n",
      "Epoch 100/100\n",
      "100/100 [==============================] - 240s 2s/step - loss: 0.1226 - categorical_accuracy: 0.9575 - val_loss: 7.9746 - val_categorical_accuracy: 0.1500\n"
     ]
    }
   ],
   "source": [
    "history = model.fit_generator(\n",
    "      train_generator,\n",
    "      steps_per_epoch=100,\n",
    "      #100\n",
    "      epochs=100,\n",
    "      validation_data=validation_generator,\n",
    "      validation_steps=50)"
   ]
  },
  {
   "cell_type": "code",
   "execution_count": 152,
   "metadata": {},
   "outputs": [],
   "source": [
    "acc = history.history['categorical_accuracy']\n",
    "val_acc = history.history['val_categorical_accuracy']\n",
    "loss = history.history['loss']\n",
    "val_loss = history.history['val_loss']\n",
    "\n",
    "epochs = range(len(acc))"
   ]
  },
  {
   "cell_type": "code",
   "execution_count": 153,
   "metadata": {},
   "outputs": [
    {
     "data": {
      "image/png": "[encoded data removed]",
      "text/plain": [
       "<Figure size 432x288 with 1 Axes>"
      ]
     },
     "metadata": {
      "needs_background": "light"
     },
     "output_type": "display_data"
    },
    {
     "data": {
      "image/png": "[encoded data removed]",
      "text/plain": [
       "<Figure size 432x288 with 1 Axes>"
      ]
     },
     "metadata": {
      "needs_background": "light"
     },
     "output_type": "display_data"
    }
   ],
   "source": [
    "plt.plot(epochs, acc, 'bo', label='Training acc')\n",
    "plt.plot(epochs, val_acc, 'b', label='Validation acc')\n",
    "plt.title('Training and validation accuracy')\n",
    "plt.legend()\n",
    "\n",
    "plt.figure()\n",
    "\n",
    "plt.plot(epochs, loss, 'bo', label='Training loss')\n",
    "plt.plot(epochs, val_loss, 'b', label='Validation loss')\n",
    "plt.title('Training and validation loss')\n",
    "plt.legend()\n",
    "\n",
    "plt.show()"
   ]
  },
  {
   "cell_type": "code",
   "execution_count": 154,
   "metadata": {},
   "outputs": [],
   "source": [
    "model.save('imgAug_model.h5')"
   ]
  },
  {
   "cell_type": "markdown",
   "metadata": {},
   "source": [
    "### Merge models"
   ]
  },
  {
   "cell_type": "code",
   "execution_count": 155,
   "metadata": {},
   "outputs": [],
   "source": [
    "from keras.models import load_model"
   ]
  },
  {
   "cell_type": "code",
   "execution_count": 156,
   "metadata": {},
   "outputs": [],
   "source": [
    "astro_model = load_model('astro_model.h5')"
   ]
  },
  {
   "cell_type": "code",
   "execution_count": 157,
   "metadata": {},
   "outputs": [],
   "source": [
    "img_model = load_model('img_model.h5')"
   ]
  },
  {
   "cell_type": "code",
   "execution_count": 158,
   "metadata": {},
   "outputs": [
    {
     "data": {
      "text/plain": [
       "(9072, 139)"
      ]
     },
     "execution_count": 158,
     "metadata": {},
     "output_type": "execute_result"
    }
   ],
   "source": [
    "train_dataA.shape"
   ]
  },
  {
   "cell_type": "code",
   "execution_count": 159,
   "metadata": {},
   "outputs": [],
   "source": [
    "small_dataA = train_dataA[:201, :]"
   ]
  },
  {
   "cell_type": "code",
   "execution_count": 160,
   "metadata": {},
   "outputs": [
    {
     "data": {
      "text/plain": [
       "(201, 139)"
      ]
     },
     "execution_count": 160,
     "metadata": {},
     "output_type": "execute_result"
    }
   ],
   "source": [
    "small_dataA.shape"
   ]
  },
  {
   "cell_type": "code",
   "execution_count": 161,
   "metadata": {},
   "outputs": [
    {
     "data": {
      "text/plain": [
       "(11340, 4)"
      ]
     },
     "execution_count": 161,
     "metadata": {},
     "output_type": "execute_result"
    }
   ],
   "source": [
    "targets.shape"
   ]
  },
  {
   "cell_type": "code",
   "execution_count": 162,
   "metadata": {},
   "outputs": [],
   "source": [
    "small_targets = targets[:201, :]"
   ]
  },
  {
   "cell_type": "code",
   "execution_count": 163,
   "metadata": {},
   "outputs": [
    {
     "data": {
      "text/plain": [
       "(201, 4)"
      ]
     },
     "execution_count": 163,
     "metadata": {},
     "output_type": "execute_result"
    }
   ],
   "source": [
    "small_targets.shape"
   ]
  },
  {
   "cell_type": "code",
   "execution_count": 164,
   "metadata": {},
   "outputs": [],
   "source": [
    "train_small_dataA = small_dataA[:181, :]"
   ]
  },
  {
   "cell_type": "code",
   "execution_count": 165,
   "metadata": {},
   "outputs": [
    {
     "data": {
      "text/plain": [
       "(181, 139)"
      ]
     },
     "execution_count": 165,
     "metadata": {},
     "output_type": "execute_result"
    }
   ],
   "source": [
    "train_small_dataA.shape"
   ]
  },
  {
   "cell_type": "code",
   "execution_count": 166,
   "metadata": {},
   "outputs": [],
   "source": [
    "test_small_dataA = small_dataA[181:,:]"
   ]
  },
  {
   "cell_type": "code",
   "execution_count": 167,
   "metadata": {},
   "outputs": [
    {
     "data": {
      "text/plain": [
       "(20, 139)"
      ]
     },
     "execution_count": 167,
     "metadata": {},
     "output_type": "execute_result"
    }
   ],
   "source": [
    "test_small_dataA.shape"
   ]
  },
  {
   "cell_type": "code",
   "execution_count": 168,
   "metadata": {},
   "outputs": [],
   "source": [
    "train_small_targets = small_targets[:181,:]"
   ]
  },
  {
   "cell_type": "code",
   "execution_count": 169,
   "metadata": {},
   "outputs": [
    {
     "data": {
      "text/plain": [
       "(181, 4)"
      ]
     },
     "execution_count": 169,
     "metadata": {},
     "output_type": "execute_result"
    }
   ],
   "source": [
    "train_small_targets.shape"
   ]
  },
  {
   "cell_type": "code",
   "execution_count": 170,
   "metadata": {},
   "outputs": [],
   "source": [
    "test_small_targets = small_targets[181:,:]"
   ]
  },
  {
   "cell_type": "code",
   "execution_count": 171,
   "metadata": {},
   "outputs": [
    {
     "data": {
      "text/plain": [
       "(20, 4)"
      ]
     },
     "execution_count": 171,
     "metadata": {},
     "output_type": "execute_result"
    }
   ],
   "source": [
    "test_small_targets.shape"
   ]
  },
  {
   "cell_type": "code",
   "execution_count": 173,
   "metadata": {},
   "outputs": [
    {
     "data": {
      "text/plain": [
       "numpy.ndarray"
      ]
     },
     "execution_count": 173,
     "metadata": {},
     "output_type": "execute_result"
    }
   ],
   "source": [
    "type (test_small_dataA)"
   ]
  },
  {
   "cell_type": "code",
   "execution_count": 174,
   "metadata": {},
   "outputs": [],
   "source": [
    "from keras.layers import Input, Embedding, LSTM, Dense\n",
    "from keras.models import Model"
   ]
  },
  {
   "cell_type": "markdown",
   "metadata": {},
   "source": [
    "#### merged model"
   ]
  },
  {
   "cell_type": "code",
   "execution_count": 175,
   "metadata": {},
   "outputs": [],
   "source": [
    "num_input = Input(shape=(139,))"
   ]
  },
  {
   "cell_type": "code",
   "execution_count": 176,
   "metadata": {},
   "outputs": [],
   "source": [
    "num_output = astro_model(num_input)"
   ]
  },
  {
   "cell_type": "code",
   "execution_count": 177,
   "metadata": {},
   "outputs": [],
   "source": [
    "img_input = Input(shape=(150, 150, 3))"
   ]
  },
  {
   "cell_type": "code",
   "execution_count": 178,
   "metadata": {},
   "outputs": [],
   "source": [
    "img_output = img_model(img_input)"
   ]
  },
  {
   "cell_type": "code",
   "execution_count": 179,
   "metadata": {},
   "outputs": [],
   "source": [
    "x = keras.layers.concatenate([num_output, img_output])"
   ]
  },
  {
   "cell_type": "code",
   "execution_count": 180,
   "metadata": {},
   "outputs": [],
   "source": [
    "x = Dense(64, activation='relu')(x)\n",
    "x = Dense(64, activation='relu')(x)\n",
    "x = Dense(64, activation='relu')(x)"
   ]
  },
  {
   "cell_type": "code",
   "execution_count": 181,
   "metadata": {},
   "outputs": [],
   "source": [
    "main_output = Dense(4, activation='softmax', name='main_output')(x)"
   ]
  },
  {
   "cell_type": "code",
   "execution_count": 182,
   "metadata": {},
   "outputs": [],
   "source": [
    "model = Model(inputs=[num_input, img_input], outputs=[main_output])"
   ]
  },
  {
   "cell_type": "code",
   "execution_count": 183,
   "metadata": {},
   "outputs": [],
   "source": [
    "model.compile(optimizer='rmsprop', loss='categorical_crossentropy', metrics=['categorical_accuracy'])"
   ]
  },
  {
   "cell_type": "markdown",
   "metadata": {},
   "source": [
    "### prepare image data"
   ]
  },
  {
   "cell_type": "code",
   "execution_count": 184,
   "metadata": {},
   "outputs": [],
   "source": [
    "train_datagen = ImageDataGenerator(rescale=1./255)"
   ]
  },
  {
   "cell_type": "code",
   "execution_count": 185,
   "metadata": {},
   "outputs": [
    {
     "name": "stdout",
     "output_type": "stream",
     "text": [
      "Found 181 images belonging to 4 classes.\n"
     ]
    }
   ],
   "source": [
    "itr = train_generator = train_datagen.flow_from_directory(\n",
    "        # This is the target directory\n",
    "        train_dir,\n",
    "        # All images will be resized to 150x150\n",
    "        target_size=(150, 150),\n",
    "        batch_size=181,\n",
    "        # Since we use categorical\n",
    "        class_mode='categorical')"
   ]
  },
  {
   "cell_type": "code",
   "execution_count": 186,
   "metadata": {},
   "outputs": [],
   "source": [
    "img_array, img_targets = itr.next()"
   ]
  },
  {
   "cell_type": "code",
   "execution_count": 187,
   "metadata": {},
   "outputs": [
    {
     "data": {
      "text/plain": [
       "(181, 150, 150, 3)"
      ]
     },
     "execution_count": 187,
     "metadata": {},
     "output_type": "execute_result"
    }
   ],
   "source": [
    "img_array.shape"
   ]
  },
  {
   "cell_type": "code",
   "execution_count": 188,
   "metadata": {},
   "outputs": [
    {
     "data": {
      "text/plain": [
       "(181, 4)"
      ]
     },
     "execution_count": 188,
     "metadata": {},
     "output_type": "execute_result"
    }
   ],
   "source": [
    "img_targets.shape"
   ]
  },
  {
   "cell_type": "code",
   "execution_count": 189,
   "metadata": {},
   "outputs": [
    {
     "name": "stdout",
     "output_type": "stream",
     "text": [
      "Train on 144 samples, validate on 37 samples\n",
      "Epoch 1/30\n",
      "144/144 [==============================] - 4s 30ms/step - loss: 1.3911 - categorical_accuracy: 0.2431 - val_loss: 1.3726 - val_categorical_accuracy: 0.3784\n",
      "Epoch 2/30\n",
      "144/144 [==============================] - 4s 28ms/step - loss: 1.3709 - categorical_accuracy: 0.3194 - val_loss: 1.3597 - val_categorical_accuracy: 0.3784\n",
      "Epoch 3/30\n",
      "144/144 [==============================] - 5s 32ms/step - loss: 1.3560 - categorical_accuracy: 0.3750 - val_loss: 1.3500 - val_categorical_accuracy: 0.4324\n",
      "Epoch 4/30\n",
      "144/144 [==============================] - 4s 26ms/step - loss: 1.3383 - categorical_accuracy: 0.3819 - val_loss: 1.3312 - val_categorical_accuracy: 0.4324\n",
      "Epoch 5/30\n",
      "144/144 [==============================] - 4s 25ms/step - loss: 1.3204 - categorical_accuracy: 0.3958 - val_loss: 1.3174 - val_categorical_accuracy: 0.4324\n",
      "Epoch 6/30\n",
      "144/144 [==============================] - 4s 25ms/step - loss: 1.2985 - categorical_accuracy: 0.4167 - val_loss: 1.3119 - val_categorical_accuracy: 0.3514\n",
      "Epoch 7/30\n",
      "144/144 [==============================] - 4s 31ms/step - loss: 1.2790 - categorical_accuracy: 0.4097 - val_loss: 1.3168 - val_categorical_accuracy: 0.3514\n",
      "Epoch 8/30\n",
      "144/144 [==============================] - 6s 45ms/step - loss: 1.2476 - categorical_accuracy: 0.4167 - val_loss: 1.2794 - val_categorical_accuracy: 0.4054\n",
      "Epoch 9/30\n",
      "144/144 [==============================] - 7s 45ms/step - loss: 1.2198 - categorical_accuracy: 0.4583 - val_loss: 1.3329 - val_categorical_accuracy: 0.3514\n",
      "Epoch 10/30\n",
      "144/144 [==============================] - 8s 52ms/step - loss: 1.2000 - categorical_accuracy: 0.4306 - val_loss: 1.3496 - val_categorical_accuracy: 0.3514\n",
      "Epoch 11/30\n",
      "144/144 [==============================] - 6s 42ms/step - loss: 1.1744 - categorical_accuracy: 0.5000 - val_loss: 1.2880 - val_categorical_accuracy: 0.3784\n",
      "Epoch 12/30\n",
      "144/144 [==============================] - 4s 29ms/step - loss: 1.1474 - categorical_accuracy: 0.4722 - val_loss: 1.3159 - val_categorical_accuracy: 0.3514\n",
      "Epoch 13/30\n",
      "144/144 [==============================] - 4s 29ms/step - loss: 1.1272 - categorical_accuracy: 0.4444 - val_loss: 1.3035 - val_categorical_accuracy: 0.3514\n",
      "Epoch 14/30\n",
      "144/144 [==============================] - 4s 31ms/step - loss: 1.1017 - categorical_accuracy: 0.4861 - val_loss: 1.3993 - val_categorical_accuracy: 0.3784\n",
      "Epoch 15/30\n",
      "144/144 [==============================] - 4s 29ms/step - loss: 1.0924 - categorical_accuracy: 0.4514 - val_loss: 1.2778 - val_categorical_accuracy: 0.3514\n",
      "Epoch 16/30\n",
      "144/144 [==============================] - 4s 29ms/step - loss: 1.0656 - categorical_accuracy: 0.5208 - val_loss: 1.3553 - val_categorical_accuracy: 0.4054\n",
      "Epoch 17/30\n",
      "144/144 [==============================] - 4s 28ms/step - loss: 1.0545 - categorical_accuracy: 0.5000 - val_loss: 1.2787 - val_categorical_accuracy: 0.4054\n",
      "Epoch 18/30\n",
      "144/144 [==============================] - 4s 30ms/step - loss: 1.0591 - categorical_accuracy: 0.5000 - val_loss: 1.3708 - val_categorical_accuracy: 0.3784\n",
      "Epoch 19/30\n",
      "144/144 [==============================] - 4s 29ms/step - loss: 1.0396 - categorical_accuracy: 0.5000 - val_loss: 1.3297 - val_categorical_accuracy: 0.3784\n",
      "Epoch 20/30\n",
      "144/144 [==============================] - 4s 29ms/step - loss: 1.0309 - categorical_accuracy: 0.5486 - val_loss: 1.4415 - val_categorical_accuracy: 0.3784\n",
      "Epoch 21/30\n",
      "144/144 [==============================] - 4s 28ms/step - loss: 1.0129 - categorical_accuracy: 0.5069 - val_loss: 1.4232 - val_categorical_accuracy: 0.3784\n",
      "Epoch 22/30\n",
      "144/144 [==============================] - 4s 29ms/step - loss: 0.9982 - categorical_accuracy: 0.5486 - val_loss: 1.4520 - val_categorical_accuracy: 0.3514\n",
      "Epoch 23/30\n",
      "144/144 [==============================] - 4s 29ms/step - loss: 0.9956 - categorical_accuracy: 0.5486 - val_loss: 1.4353 - val_categorical_accuracy: 0.4324\n",
      "Epoch 24/30\n",
      "144/144 [==============================] - 4s 31ms/step - loss: 0.9700 - categorical_accuracy: 0.5833 - val_loss: 1.4206 - val_categorical_accuracy: 0.4324\n",
      "Epoch 25/30\n",
      "144/144 [==============================] - 4s 30ms/step - loss: 0.9569 - categorical_accuracy: 0.5903 - val_loss: 1.4644 - val_categorical_accuracy: 0.4054\n",
      "Epoch 26/30\n",
      "144/144 [==============================] - 4s 30ms/step - loss: 0.9579 - categorical_accuracy: 0.5833 - val_loss: 1.6947 - val_categorical_accuracy: 0.3514\n",
      "Epoch 27/30\n",
      "144/144 [==============================] - 4s 29ms/step - loss: 0.9652 - categorical_accuracy: 0.5625 - val_loss: 1.5498 - val_categorical_accuracy: 0.3784\n",
      "Epoch 28/30\n",
      "144/144 [==============================] - 4s 30ms/step - loss: 0.9371 - categorical_accuracy: 0.6250 - val_loss: 1.5942 - val_categorical_accuracy: 0.4054\n",
      "Epoch 29/30\n",
      "144/144 [==============================] - 4s 29ms/step - loss: 0.9264 - categorical_accuracy: 0.6319 - val_loss: 1.5611 - val_categorical_accuracy: 0.4324\n",
      "Epoch 30/30\n",
      "144/144 [==============================] - 4s 28ms/step - loss: 0.9085 - categorical_accuracy: 0.6250 - val_loss: 1.6471 - val_categorical_accuracy: 0.3514\n"
     ]
    }
   ],
   "source": [
    "history = model.fit([train_small_dataA, img_array], [train_small_targets],\n",
    "          epochs=30, validation_split=0.2, batch_size=20)"
   ]
  },
  {
   "cell_type": "code",
   "execution_count": 190,
   "metadata": {},
   "outputs": [],
   "source": [
    "acc = history.history['categorical_accuracy']\n",
    "val_acc = history.history['val_categorical_accuracy']\n",
    "loss = history.history['loss']\n",
    "val_loss = history.history['val_loss']\n",
    "\n",
    "epochs = range(len(acc))"
   ]
  },
  {
   "cell_type": "code",
   "execution_count": 191,
   "metadata": {},
   "outputs": [
    {
     "data": {
      "image/png": "[encoded data removed]",
      "text/plain": [
       "<Figure size 432x288 with 1 Axes>"
      ]
     },
     "metadata": {
      "needs_background": "light"
     },
     "output_type": "display_data"
    },
    {
     "data": {
      "image/png": "[encoded data removed]",
      "text/plain": [
       "<Figure size 432x288 with 1 Axes>"
      ]
     },
     "metadata": {
      "needs_background": "light"
     },
     "output_type": "display_data"
    }
   ],
   "source": [
    "plt.plot(epochs, acc, 'bo', label='Training acc')\n",
    "plt.plot(epochs, val_acc, 'b', label='Validation acc')\n",
    "plt.title('Training and validation accuracy')\n",
    "plt.legend()\n",
    "\n",
    "plt.figure()\n",
    "\n",
    "plt.plot(epochs, loss, 'bo', label='Training loss')\n",
    "plt.plot(epochs, val_loss, 'b', label='Validation loss')\n",
    "plt.title('Training and validation loss')\n",
    "plt.legend()\n",
    "\n",
    "plt.show()"
   ]
  }
 ],
 "metadata": {
  "kernelspec": {
   "display_name": "Python 3",
   "language": "python",
   "name": "python3"
  },
  "language_info": {
   "codemirror_mode": {
    "name": "ipython",
    "version": 3
   },
   "file_extension": ".py",
   "mimetype": "text/x-python",
   "name": "python",
   "nbconvert_exporter": "python",
   "pygments_lexer": "ipython3",
   "version": "3.7.1"
  }
 },
 "nbformat": 4,
 "nbformat_minor": 2
}
