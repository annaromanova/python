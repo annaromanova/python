{
 "metadata": {
  "name": "",
  "signature": "sha256:39e6acea162488086cc75e2b75f3cdd4452fbeef564169e6001a9d9b1b0ea8cb"
 },
 "nbformat": 3,
 "nbformat_minor": 0,
 "worksheets": [
  {
   "cells": [
    {
     "cell_type": "code",
     "collapsed": false,
     "input": [
      "#parts of source code are from:\n",
      "#Mining the Social Web, 2nd Edition\n",
      "#By Matthew A. Russell\n",
      "#Publisher: O'Reilly Media\n",
      "#Final Release Date: October 2013"
     ],
     "language": "python",
     "metadata": {},
     "outputs": [],
     "prompt_number": 1
    },
    {
     "cell_type": "code",
     "collapsed": false,
     "input": [
      "import twitter\n",
      "import json\n",
      "from flask import Flask, request\n",
      "import multiprocessing\n",
      "from threading import Timer\n",
      "from IPython.display import IFrame\n",
      "from IPython.display import display\n",
      "from IPython.display import Javascript as JS\n",
      "import pandas as pd\n",
      "\n",
      "from twitter.oauth_dance import parse_oauth_tokens\n",
      "from twitter.oauth import read_token_file, write_token_file"
     ],
     "language": "python",
     "metadata": {},
     "outputs": [],
     "prompt_number": 2
    },
    {
     "cell_type": "code",
     "collapsed": false,
     "input": [
      "%matplotlib inline\n",
      "\n",
      "\n",
      "\n",
      "import requests\n",
      "import pandas as pd\n",
      "import numpy as np\n",
      "import matplotlib.pyplot as plt\n",
      "\n",
      "pd.set_option('display.width', 500)\n",
      "pd.set_option('display.max_columns', 30)\n",
      "\n",
      "# set some nicer defaults for matplotlib\n",
      "from matplotlib import rcParams\n",
      "\n",
      "#these colors come from colorbrewer2.org. Each is an RGB triplet\n",
      "dark2_colors = [(0.10588235294117647, 0.6196078431372549, 0.4666666666666667),\n",
      "                (0.8509803921568627, 0.37254901960784315, 0.00784313725490196),\n",
      "                (0.4588235294117647, 0.4392156862745098, 0.7019607843137254),\n",
      "                (0.9058823529411765, 0.1607843137254902, 0.5411764705882353),\n",
      "                (0.4, 0.6509803921568628, 0.11764705882352941),\n",
      "                (0.9019607843137255, 0.6705882352941176, 0.00784313725490196),\n",
      "                (0.6509803921568628, 0.4627450980392157, 0.11372549019607843),\n",
      "                (0.4, 0.4, 0.4)]\n",
      "\n",
      "rcParams['figure.figsize'] = (10, 6)\n",
      "rcParams['figure.dpi'] = 150\n",
      "rcParams['axes.color_cycle'] = dark2_colors\n",
      "rcParams['lines.linewidth'] = 2\n",
      "rcParams['axes.grid'] = False\n",
      "rcParams['axes.facecolor'] = 'white'\n",
      "rcParams['font.size'] = 14\n",
      "rcParams['patch.edgecolor'] = 'none'\n",
      "\n",
      "\n",
      "def remove_border(axes=None, top=False, right=False, left=True, bottom=True):\n",
      "    \"\"\"\n",
      "    Minimize chartjunk by stripping out unnecesary plot borders and axis ticks\n",
      "    \n",
      "    The top/right/left/bottom keywords toggle whether the corresponding plot border is drawn\n",
      "    \"\"\"\n",
      "    ax = axes or plt.gca()\n",
      "    ax.spines['top'].set_visible(top)\n",
      "    ax.spines['right'].set_visible(right)\n",
      "    ax.spines['left'].set_visible(left)\n",
      "    ax.spines['bottom'].set_visible(bottom)\n",
      "    \n",
      "    #turn off all ticks\n",
      "    ax.yaxis.set_ticks_position('none')\n",
      "    ax.xaxis.set_ticks_position('none')\n",
      "    \n",
      "    #now re-enable visibles\n",
      "    if top:\n",
      "        ax.xaxis.tick_top()\n",
      "    if bottom:\n",
      "        ax.xaxis.tick_bottom()\n",
      "    if left:\n",
      "        ax.yaxis.tick_left()\n",
      "    if right:\n",
      "        ax.yaxis.tick_right()"
     ],
     "language": "python",
     "metadata": {},
     "outputs": [],
     "prompt_number": 3
    },
    {
     "cell_type": "code",
     "collapsed": false,
     "input": [
      "CONSUMER_KEY = '3f1uA6up4MVpYararb8kBLKfE'\n",
      "CONSUMER_SECRET = 'HNb9pmcmf8ZwYF7P0JJ4bCjm2VviIIpResMHds0dsHDEvRLfWp'\n",
      "OAUTH_TOKEN = '1472365974-fjJQYQ1xvyKyIEL6nR4oNKdL8Q9Zf5o898meE7E'\n",
      "OAUTH_TOKEN_SECRET = 'LkPNPxutbGas9yQzBoR5AxhmpQBtGD3uCOvETiJsvlEa6'"
     ],
     "language": "python",
     "metadata": {},
     "outputs": [],
     "prompt_number": 4
    },
    {
     "cell_type": "code",
     "collapsed": false,
     "input": [
      "def oauth_login():\n",
      "    auth = twitter.oauth.OAuth(OAUTH_TOKEN, OAUTH_TOKEN_SECRET, CONSUMER_KEY, CONSUMER_SECRET)\n",
      "    twitter_api = twitter.Twitter(auth=auth)\n",
      "    return twitter_api\n",
      "\n",
      "twitter_api = oauth_login()"
     ],
     "language": "python",
     "metadata": {},
     "outputs": [],
     "prompt_number": 5
    },
    {
     "cell_type": "code",
     "collapsed": false,
     "input": [
      "import sys\n",
      "import time\n",
      "from urllib2 import URLError\n",
      "import json\n",
      "import twitter\n",
      "\n",
      "def make_twitter_request(twitter_api_func, max_errors=3, *args, **kw): \n",
      "    \n",
      "    # A nested helper function that handles common HTTPErrors. Return an updated value \n",
      "    # for wait_period if the problem is a 503 error. Block until the rate limit is reset if\n",
      "    # a rate limiting issue\n",
      "    def handle_twitter_http_error(e, wait_period=2, sleep_when_rate_limited=True):\n",
      "    \n",
      "        if wait_period > 3600: # Seconds\n",
      "            print >> sys.stderr, 'Too many retries. Quitting.'\n",
      "            raise e\n",
      "    \n",
      "        # See https://dev.twitter.com/docs/error-codes-responses for common codes\n",
      "    \n",
      "        if e.e.code == 401:\n",
      "            print >> sys.stderr, 'Encountered 401 Error (Not Authorized)'\n",
      "            return None\n",
      "        elif e.e.code == 429: \n",
      "            print >> sys.stderr, 'Encountered 429 Error (Rate Limit Exceeded)'\n",
      "            if sleep_when_rate_limited:\n",
      "                print >> sys.stderr, \"Sleeping for 15 minutes, and then I'll try again...ZzZ...\"\n",
      "                sys.stderr.flush()\n",
      "                time.sleep(60*15 + 5)\n",
      "                print >> sys.stderr, '...ZzZ...Awake now and trying again.'\n",
      "                return 2\n",
      "            else:\n",
      "                raise e # Allow user to handle the rate limiting issue however they'd like \n",
      "        elif e.e.code in (502, 503):\n",
      "            print >> sys.stderr, 'Encountered %i Error. Will retry in %i seconds' % (e.e.code,\n",
      "                    wait_period)\n",
      "            time.sleep(wait_period)\n",
      "            wait_period *= 1.5\n",
      "            return wait_period\n",
      "        else:\n",
      "            raise e\n",
      "\n",
      "    # End of nested helper function\n",
      "    \n",
      "    \n",
      "    wait_period = 2 \n",
      "    error_count = 0 \n",
      "\n",
      "    while True:\n",
      "        try:\n",
      "            return twitter_api_func(*args, **kw)\n",
      "        except twitter.api.TwitterHTTPError, e:\n",
      "            error_count = 0 \n",
      "            wait_period = handle_twitter_http_error(e, wait_period)\n",
      "            if wait_period is None:\n",
      "                return\n",
      "        except URLError, e:\n",
      "            error_count += 1\n",
      "            print >> sys.stderr, \"URLError encountered. Continuing.\"\n",
      "            if error_count > max_errors:\n",
      "                print >> sys.stderr, \"Too many consecutive errors...bailing out.\"\n",
      "                raise\n"
     ],
     "language": "python",
     "metadata": {},
     "outputs": [],
     "prompt_number": 6
    },
    {
     "cell_type": "code",
     "collapsed": false,
     "input": [
      "#Step 1: Analysis of the current FIVB strategy, which is to create separate twitter account for any separate sport event"
     ],
     "language": "python",
     "metadata": {},
     "outputs": [],
     "prompt_number": 7
    },
    {
     "cell_type": "code",
     "collapsed": false,
     "input": [
      "from functools import partial\n",
      "from sys import maxint\n",
      "\n",
      "def get_followers_ids(twitter_api, screen_name=None, user_id=None, followers_limit=maxint):\n",
      "    \n",
      "    # Must have either screen_name or user_id (logical xor)\n",
      "    assert (screen_name != None) != (user_id != None), \"Must have screen_name or user_id, but not both\"\n",
      "    \n",
      "    # See https://dev.twitter.com/docs/api/1.1/get/friends/ids  and\n",
      "    # See https://dev.twitter.com/docs/api/1.1/get/followers/ids for details on API parameters\n",
      "    \n",
      "    \n",
      "    get_followers_ids = partial(make_twitter_request, twitter_api.followers.ids, count=5000)\n",
      "\n",
      "    followers_ids = []\n",
      "    \n",
      "    for twitter_api_func, limit, ids, label in [ \n",
      "                                 [get_followers_ids, followers_limit, followers_ids, \"followers\"]\n",
      "                             ]:\n",
      "        \n",
      "        cursor = -1\n",
      "        while cursor != 0:\n",
      "        \n",
      "            # Use make_twitter_request via the partially bound callable...\n",
      "            if screen_name: \n",
      "                response = twitter_api_func(screen_name=screen_name, cursor=cursor)\n",
      "            else: # user_id\n",
      "                response = twitter_api_func(user_id=user_id, cursor=cursor)\n",
      "\n",
      "            ids += response['ids']\n",
      "            cursor = response['next_cursor']\n",
      "        \n",
      "            print >> sys.stderr, 'Fetched {0} total {1} ids for {2}'.format(len(ids), label, (user_id or screen_name))\n",
      "        \n",
      "            # Consider storing the ids to disk during each iteration to provide an \n",
      "            # an additional layer of protection from exceptional circumstances\n",
      "        \n",
      "            if len(ids) >= limit:\n",
      "                break\n",
      "\n",
      "    # Do something useful with the ids like store them to disk...\n",
      "    return followers_ids[:followers_limit]"
     ],
     "language": "python",
     "metadata": {},
     "outputs": [],
     "prompt_number": 8
    },
    {
     "cell_type": "code",
     "collapsed": false,
     "input": [
      "import io, json\n",
      "\n",
      "def save_json(filename, data):\n",
      "    with io.open('/Users/annaromanova/{0}.json'.format(filename), 'w', encoding='utf-8') as f:\n",
      "        f.write(unicode(json.dumps(data, ensure_ascii=False)))"
     ],
     "language": "python",
     "metadata": {},
     "outputs": [],
     "prompt_number": 9
    },
    {
     "cell_type": "code",
     "collapsed": false,
     "input": [
      "#save_json(\"FIVBVolleyball\", get_followers_ids(twitter_api, screen_name=\"FIVBVolleyball\", followers_limit=100000))"
     ],
     "language": "python",
     "metadata": {},
     "outputs": [],
     "prompt_number": 10
    },
    {
     "cell_type": "code",
     "collapsed": false,
     "input": [
      "#save_json(\"FIVBMensWCH\", get_followers_ids(twitter_api, screen_name=\"FIVBMensWCH\", followers_limit=100000))"
     ],
     "language": "python",
     "metadata": {},
     "outputs": [],
     "prompt_number": 11
    },
    {
     "cell_type": "code",
     "collapsed": false,
     "input": [
      "#save_json(\"FIVBWorldTour\", get_followers_ids(twitter_api, screen_name=\"FIVBWorldTour\", followers_limit=100000))    "
     ],
     "language": "python",
     "metadata": {},
     "outputs": [],
     "prompt_number": 12
    },
    {
     "cell_type": "code",
     "collapsed": false,
     "input": [
      "#save_json(\"FIVBWorldLeague\", get_followers_ids(twitter_api, screen_name=\"FIVBWorldLeague\", followers_limit=100000))    "
     ],
     "language": "python",
     "metadata": {},
     "outputs": [],
     "prompt_number": 13
    },
    {
     "cell_type": "code",
     "collapsed": false,
     "input": [
      "#save_json(\"FIVBWomensWCH\", get_followers_ids(twitter_api, screen_name=\"FIVBWomensWCH\", followers_limit=100000))"
     ],
     "language": "python",
     "metadata": {},
     "outputs": [],
     "prompt_number": 14
    },
    {
     "cell_type": "code",
     "collapsed": false,
     "input": [
      "#save_json(\"FIVBWomensCWC\", get_followers_ids(twitter_api, screen_name=\"FIVBWomensCWC\", followers_limit=100000))"
     ],
     "language": "python",
     "metadata": {},
     "outputs": [],
     "prompt_number": 15
    },
    {
     "cell_type": "code",
     "collapsed": false,
     "input": [
      "#save_json(\"FIVBGrandPrix\", get_followers_ids(twitter_api, screen_name=\"FIVBGrandPrix\", followers_limit=100000)) "
     ],
     "language": "python",
     "metadata": {},
     "outputs": [],
     "prompt_number": 16
    },
    {
     "cell_type": "code",
     "collapsed": false,
     "input": [
      "#save_json(\"FIVBMensCWC\", get_followers_ids(twitter_api, screen_name=\"FIVBMensCWC\", followers_limit=100000))   "
     ],
     "language": "python",
     "metadata": {},
     "outputs": [],
     "prompt_number": 17
    },
    {
     "cell_type": "code",
     "collapsed": false,
     "input": [
      "#save_json(\"FIVBMensGCC\", get_followers_ids(twitter_api, screen_name=\"FIVBMensGCC\", followers_limit=100000))     "
     ],
     "language": "python",
     "metadata": {},
     "outputs": [],
     "prompt_number": 18
    },
    {
     "cell_type": "code",
     "collapsed": false,
     "input": [
      "#save_json(\"FIVBWomensGCC\", get_followers_ids(twitter_api, screen_name=\"FIVBWomensGCC\", followers_limit=100000)) "
     ],
     "language": "python",
     "metadata": {},
     "outputs": [],
     "prompt_number": 19
    },
    {
     "cell_type": "code",
     "collapsed": false,
     "input": [
      "#save_json(\"FIVBMensU23\", get_followers_ids(twitter_api, screen_name=\"FIVBMensU23\", followers_limit=100000)) "
     ],
     "language": "python",
     "metadata": {},
     "outputs": [],
     "prompt_number": 20
    },
    {
     "cell_type": "code",
     "collapsed": false,
     "input": [
      "#save_json(\"FIVBWomensU23\", get_followers_ids(twitter_api, screen_name=\"FIVBWomensU23\", followers_limit=100000))"
     ],
     "language": "python",
     "metadata": {},
     "outputs": [],
     "prompt_number": 21
    },
    {
     "cell_type": "code",
     "collapsed": false,
     "input": [
      "#save_json(\"FIVBMensU21\", get_followers_ids(twitter_api, screen_name=\"FIVBMensU21\", followers_limit=100000))"
     ],
     "language": "python",
     "metadata": {},
     "outputs": [],
     "prompt_number": 22
    },
    {
     "cell_type": "code",
     "collapsed": false,
     "input": [
      "#save_json(\"FIVBWomensU20\", get_followers_ids(twitter_api, screen_name=\"FIVBWomensU20\", followers_limit=100000))"
     ],
     "language": "python",
     "metadata": {},
     "outputs": [],
     "prompt_number": 23
    },
    {
     "cell_type": "code",
     "collapsed": false,
     "input": [
      "#save_json(\"FIVBBoysU19\", get_followers_ids(twitter_api, screen_name=\"FIVBBoysU19\", followers_limit=100000))    "
     ],
     "language": "python",
     "metadata": {},
     "outputs": [],
     "prompt_number": 24
    },
    {
     "cell_type": "code",
     "collapsed": false,
     "input": [
      "#save_json(\"FIVBGirlsU18\", get_followers_ids(twitter_api, screen_name=\"FIVBGirlsU18\", followers_limit=100000)) "
     ],
     "language": "python",
     "metadata": {},
     "outputs": [],
     "prompt_number": 25
    },
    {
     "cell_type": "code",
     "collapsed": false,
     "input": [
      "#save_json(\"FIVBWorldChamps\", get_followers_ids(twitter_api, screen_name=\"FIVBWorldChamps\", followers_limit=100000))    "
     ],
     "language": "python",
     "metadata": {},
     "outputs": [],
     "prompt_number": 26
    },
    {
     "cell_type": "code",
     "collapsed": false,
     "input": [
      "#save_json(\"FIVBBVBU23\", get_followers_ids(twitter_api, screen_name=\"FIVBBVBU23\", followers_limit=100000))    "
     ],
     "language": "python",
     "metadata": {},
     "outputs": [],
     "prompt_number": 27
    },
    {
     "cell_type": "code",
     "collapsed": false,
     "input": [
      "#save_json(\"FIVBBVBU21\", get_followers_ids(twitter_api, screen_name=\"FIVBBVBU21\", followers_limit=100000))  "
     ],
     "language": "python",
     "metadata": {},
     "outputs": [],
     "prompt_number": 28
    },
    {
     "cell_type": "code",
     "collapsed": false,
     "input": [
      "#save_json(\"FIVBBVBU19\", get_followers_ids(twitter_api, screen_name=\"FIVBBVBU19\", followers_limit=100000))    "
     ],
     "language": "python",
     "metadata": {},
     "outputs": [],
     "prompt_number": 29
    },
    {
     "cell_type": "code",
     "collapsed": false,
     "input": [
      "#save_json(\"FIVBBVBU17\", get_followers_ids(twitter_api, screen_name=\"FIVBBVBU17\", followers_limit=100000)) "
     ],
     "language": "python",
     "metadata": {},
     "outputs": [],
     "prompt_number": 30
    },
    {
     "cell_type": "code",
     "collapsed": false,
     "input": [
      "#save_json(\"FIVBHeroes\", get_followers_ids(twitter_api, screen_name=\"FIVBHeroes\", followers_limit=100000))    "
     ],
     "language": "python",
     "metadata": {},
     "outputs": [],
     "prompt_number": 31
    },
    {
     "cell_type": "code",
     "collapsed": false,
     "input": [
      "FIVBTwitter = []"
     ],
     "language": "python",
     "metadata": {},
     "outputs": [],
     "prompt_number": 32
    },
    {
     "cell_type": "code",
     "collapsed": false,
     "input": [
      "FIVBTwitter.append('FIVBVolleyball')"
     ],
     "language": "python",
     "metadata": {},
     "outputs": [],
     "prompt_number": 33
    },
    {
     "cell_type": "code",
     "collapsed": false,
     "input": [
      "FIVBTwitter.append('FIVBMensWCH')"
     ],
     "language": "python",
     "metadata": {},
     "outputs": [],
     "prompt_number": 34
    },
    {
     "cell_type": "code",
     "collapsed": false,
     "input": [
      "FIVBTwitter.append('FIVBWomensWCH')"
     ],
     "language": "python",
     "metadata": {},
     "outputs": [],
     "prompt_number": 35
    },
    {
     "cell_type": "code",
     "collapsed": false,
     "input": [
      "FIVBTwitter.append('FIVBGrandPrix')"
     ],
     "language": "python",
     "metadata": {},
     "outputs": [],
     "prompt_number": 36
    },
    {
     "cell_type": "code",
     "collapsed": false,
     "input": [
      "FIVBTwitter.append('FIVBHeroes')"
     ],
     "language": "python",
     "metadata": {},
     "outputs": [],
     "prompt_number": 37
    },
    {
     "cell_type": "code",
     "collapsed": false,
     "input": [
      "FIVBTwitter.append('FIVBWorldTour')"
     ],
     "language": "python",
     "metadata": {},
     "outputs": [],
     "prompt_number": 38
    },
    {
     "cell_type": "code",
     "collapsed": false,
     "input": [
      "FIVBTwitter.append('FIVBWomensCWC')"
     ],
     "language": "python",
     "metadata": {},
     "outputs": [],
     "prompt_number": 39
    },
    {
     "cell_type": "code",
     "collapsed": false,
     "input": [
      "FIVBTwitter.append('FIVBWorldLeague')"
     ],
     "language": "python",
     "metadata": {},
     "outputs": [],
     "prompt_number": 40
    },
    {
     "cell_type": "code",
     "collapsed": false,
     "input": [
      "FIVBTwitter.append('FIVBWomensU20')"
     ],
     "language": "python",
     "metadata": {},
     "outputs": [],
     "prompt_number": 41
    },
    {
     "cell_type": "code",
     "collapsed": false,
     "input": [
      "FIVBTwitter.append('FIVBGirlsU18')"
     ],
     "language": "python",
     "metadata": {},
     "outputs": [],
     "prompt_number": 42
    },
    {
     "cell_type": "code",
     "collapsed": false,
     "input": [
      "FIVBTwitter.append('FIVBWorldChamps')"
     ],
     "language": "python",
     "metadata": {},
     "outputs": [],
     "prompt_number": 43
    },
    {
     "cell_type": "code",
     "collapsed": false,
     "input": [
      "FIVBTwitter.append('FIVBMensGCC')"
     ],
     "language": "python",
     "metadata": {},
     "outputs": [],
     "prompt_number": 44
    },
    {
     "cell_type": "code",
     "collapsed": false,
     "input": [
      "FIVBTwitter.append('FIVBWomensU23')"
     ],
     "language": "python",
     "metadata": {},
     "outputs": [],
     "prompt_number": 45
    },
    {
     "cell_type": "code",
     "collapsed": false,
     "input": [
      "FIVBTwitter.append('FIVBMensU23')"
     ],
     "language": "python",
     "metadata": {},
     "outputs": [],
     "prompt_number": 46
    },
    {
     "cell_type": "code",
     "collapsed": false,
     "input": [
      "FIVBTwitter.append('FIVBMensCWC')"
     ],
     "language": "python",
     "metadata": {},
     "outputs": [],
     "prompt_number": 47
    },
    {
     "cell_type": "code",
     "collapsed": false,
     "input": [
      "FIVBTwitter.append('FIVBMensU21')"
     ],
     "language": "python",
     "metadata": {},
     "outputs": [],
     "prompt_number": 48
    },
    {
     "cell_type": "code",
     "collapsed": false,
     "input": [
      "FIVBTwitter.append('FIVBBoysU19')"
     ],
     "language": "python",
     "metadata": {},
     "outputs": [],
     "prompt_number": 49
    },
    {
     "cell_type": "code",
     "collapsed": false,
     "input": [
      "FIVBTwitter.append('FIVBBVBU23')"
     ],
     "language": "python",
     "metadata": {},
     "outputs": [],
     "prompt_number": 50
    },
    {
     "cell_type": "code",
     "collapsed": false,
     "input": [
      "FIVBTwitter.append('FIVBWomensGCC')"
     ],
     "language": "python",
     "metadata": {},
     "outputs": [],
     "prompt_number": 51
    },
    {
     "cell_type": "code",
     "collapsed": false,
     "input": [
      "FIVBTwitter.append('FIVBBVBU21')"
     ],
     "language": "python",
     "metadata": {},
     "outputs": [],
     "prompt_number": 52
    },
    {
     "cell_type": "code",
     "collapsed": false,
     "input": [
      "FIVBTwitter.append('FIVBBVBU17')"
     ],
     "language": "python",
     "metadata": {},
     "outputs": [],
     "prompt_number": 53
    },
    {
     "cell_type": "code",
     "collapsed": false,
     "input": [
      "FIVBTwitter.append('FIVBBVBU19')"
     ],
     "language": "python",
     "metadata": {},
     "outputs": [],
     "prompt_number": 54
    },
    {
     "cell_type": "code",
     "collapsed": false,
     "input": [
      "FIVBTwitter"
     ],
     "language": "python",
     "metadata": {},
     "outputs": [
      {
       "metadata": {},
       "output_type": "pyout",
       "prompt_number": 55,
       "text": [
        "['FIVBVolleyball',\n",
        " 'FIVBMensWCH',\n",
        " 'FIVBWomensWCH',\n",
        " 'FIVBGrandPrix',\n",
        " 'FIVBHeroes',\n",
        " 'FIVBWorldTour',\n",
        " 'FIVBWomensCWC',\n",
        " 'FIVBWorldLeague',\n",
        " 'FIVBWomensU20',\n",
        " 'FIVBGirlsU18',\n",
        " 'FIVBWorldChamps',\n",
        " 'FIVBMensGCC',\n",
        " 'FIVBWomensU23',\n",
        " 'FIVBMensU23',\n",
        " 'FIVBMensCWC',\n",
        " 'FIVBMensU21',\n",
        " 'FIVBBoysU19',\n",
        " 'FIVBBVBU23',\n",
        " 'FIVBWomensGCC',\n",
        " 'FIVBBVBU21',\n",
        " 'FIVBBVBU17',\n",
        " 'FIVBBVBU19']"
       ]
      }
     ],
     "prompt_number": 55
    },
    {
     "cell_type": "code",
     "collapsed": false,
     "input": [
      "FIVBFollowers = pd.DataFrame(index = FIVBTwitter, columns = FIVBTwitter)\n",
      "FIVBFollowers.head()"
     ],
     "language": "python",
     "metadata": {},
     "outputs": [
      {
       "html": [
        "<div style=\"max-height:1000px;max-width:1500px;overflow:auto;\">\n",
        "<table border=\"1\" class=\"dataframe\">\n",
        "  <thead>\n",
        "    <tr style=\"text-align: right;\">\n",
        "      <th></th>\n",
        "      <th>FIVBVolleyball</th>\n",
        "      <th>FIVBMensWCH</th>\n",
        "      <th>FIVBWomensWCH</th>\n",
        "      <th>FIVBGrandPrix</th>\n",
        "      <th>FIVBHeroes</th>\n",
        "      <th>FIVBWorldTour</th>\n",
        "      <th>FIVBWomensCWC</th>\n",
        "      <th>FIVBWorldLeague</th>\n",
        "      <th>FIVBWomensU20</th>\n",
        "      <th>FIVBGirlsU18</th>\n",
        "      <th>FIVBWorldChamps</th>\n",
        "      <th>FIVBMensGCC</th>\n",
        "      <th>FIVBWomensU23</th>\n",
        "      <th>FIVBMensU23</th>\n",
        "      <th>FIVBMensCWC</th>\n",
        "      <th>FIVBMensU21</th>\n",
        "      <th>FIVBBoysU19</th>\n",
        "      <th>FIVBBVBU23</th>\n",
        "      <th>FIVBWomensGCC</th>\n",
        "      <th>FIVBBVBU21</th>\n",
        "      <th>FIVBBVBU17</th>\n",
        "      <th>FIVBBVBU19</th>\n",
        "    </tr>\n",
        "  </thead>\n",
        "  <tbody>\n",
        "    <tr>\n",
        "      <th>FIVBVolleyball</th>\n",
        "      <td> NaN</td>\n",
        "      <td> NaN</td>\n",
        "      <td> NaN</td>\n",
        "      <td> NaN</td>\n",
        "      <td> NaN</td>\n",
        "      <td> NaN</td>\n",
        "      <td> NaN</td>\n",
        "      <td> NaN</td>\n",
        "      <td> NaN</td>\n",
        "      <td> NaN</td>\n",
        "      <td> NaN</td>\n",
        "      <td> NaN</td>\n",
        "      <td> NaN</td>\n",
        "      <td> NaN</td>\n",
        "      <td> NaN</td>\n",
        "      <td> NaN</td>\n",
        "      <td> NaN</td>\n",
        "      <td> NaN</td>\n",
        "      <td> NaN</td>\n",
        "      <td> NaN</td>\n",
        "      <td> NaN</td>\n",
        "      <td> NaN</td>\n",
        "    </tr>\n",
        "    <tr>\n",
        "      <th>FIVBMensWCH</th>\n",
        "      <td> NaN</td>\n",
        "      <td> NaN</td>\n",
        "      <td> NaN</td>\n",
        "      <td> NaN</td>\n",
        "      <td> NaN</td>\n",
        "      <td> NaN</td>\n",
        "      <td> NaN</td>\n",
        "      <td> NaN</td>\n",
        "      <td> NaN</td>\n",
        "      <td> NaN</td>\n",
        "      <td> NaN</td>\n",
        "      <td> NaN</td>\n",
        "      <td> NaN</td>\n",
        "      <td> NaN</td>\n",
        "      <td> NaN</td>\n",
        "      <td> NaN</td>\n",
        "      <td> NaN</td>\n",
        "      <td> NaN</td>\n",
        "      <td> NaN</td>\n",
        "      <td> NaN</td>\n",
        "      <td> NaN</td>\n",
        "      <td> NaN</td>\n",
        "    </tr>\n",
        "    <tr>\n",
        "      <th>FIVBWomensWCH</th>\n",
        "      <td> NaN</td>\n",
        "      <td> NaN</td>\n",
        "      <td> NaN</td>\n",
        "      <td> NaN</td>\n",
        "      <td> NaN</td>\n",
        "      <td> NaN</td>\n",
        "      <td> NaN</td>\n",
        "      <td> NaN</td>\n",
        "      <td> NaN</td>\n",
        "      <td> NaN</td>\n",
        "      <td> NaN</td>\n",
        "      <td> NaN</td>\n",
        "      <td> NaN</td>\n",
        "      <td> NaN</td>\n",
        "      <td> NaN</td>\n",
        "      <td> NaN</td>\n",
        "      <td> NaN</td>\n",
        "      <td> NaN</td>\n",
        "      <td> NaN</td>\n",
        "      <td> NaN</td>\n",
        "      <td> NaN</td>\n",
        "      <td> NaN</td>\n",
        "    </tr>\n",
        "    <tr>\n",
        "      <th>FIVBGrandPrix</th>\n",
        "      <td> NaN</td>\n",
        "      <td> NaN</td>\n",
        "      <td> NaN</td>\n",
        "      <td> NaN</td>\n",
        "      <td> NaN</td>\n",
        "      <td> NaN</td>\n",
        "      <td> NaN</td>\n",
        "      <td> NaN</td>\n",
        "      <td> NaN</td>\n",
        "      <td> NaN</td>\n",
        "      <td> NaN</td>\n",
        "      <td> NaN</td>\n",
        "      <td> NaN</td>\n",
        "      <td> NaN</td>\n",
        "      <td> NaN</td>\n",
        "      <td> NaN</td>\n",
        "      <td> NaN</td>\n",
        "      <td> NaN</td>\n",
        "      <td> NaN</td>\n",
        "      <td> NaN</td>\n",
        "      <td> NaN</td>\n",
        "      <td> NaN</td>\n",
        "    </tr>\n",
        "    <tr>\n",
        "      <th>FIVBHeroes</th>\n",
        "      <td> NaN</td>\n",
        "      <td> NaN</td>\n",
        "      <td> NaN</td>\n",
        "      <td> NaN</td>\n",
        "      <td> NaN</td>\n",
        "      <td> NaN</td>\n",
        "      <td> NaN</td>\n",
        "      <td> NaN</td>\n",
        "      <td> NaN</td>\n",
        "      <td> NaN</td>\n",
        "      <td> NaN</td>\n",
        "      <td> NaN</td>\n",
        "      <td> NaN</td>\n",
        "      <td> NaN</td>\n",
        "      <td> NaN</td>\n",
        "      <td> NaN</td>\n",
        "      <td> NaN</td>\n",
        "      <td> NaN</td>\n",
        "      <td> NaN</td>\n",
        "      <td> NaN</td>\n",
        "      <td> NaN</td>\n",
        "      <td> NaN</td>\n",
        "    </tr>\n",
        "  </tbody>\n",
        "</table>\n",
        "<p>5 rows \u00d7 22 columns</p>\n",
        "</div>"
       ],
       "metadata": {},
       "output_type": "pyout",
       "prompt_number": 56,
       "text": [
        "               FIVBVolleyball FIVBMensWCH FIVBWomensWCH FIVBGrandPrix FIVBHeroes FIVBWorldTour FIVBWomensCWC FIVBWorldLeague FIVBWomensU20 FIVBGirlsU18 FIVBWorldChamps FIVBMensGCC FIVBWomensU23 FIVBMensU23 FIVBMensCWC FIVBMensU21 FIVBBoysU19 FIVBBVBU23 FIVBWomensGCC FIVBBVBU21 FIVBBVBU17 FIVBBVBU19\n",
        "FIVBVolleyball            NaN         NaN           NaN           NaN        NaN           NaN           NaN             NaN           NaN          NaN             NaN         NaN           NaN         NaN         NaN         NaN         NaN        NaN           NaN        NaN        NaN        NaN\n",
        "FIVBMensWCH               NaN         NaN           NaN           NaN        NaN           NaN           NaN             NaN           NaN          NaN             NaN         NaN           NaN         NaN         NaN         NaN         NaN        NaN           NaN        NaN        NaN        NaN\n",
        "FIVBWomensWCH             NaN         NaN           NaN           NaN        NaN           NaN           NaN             NaN           NaN          NaN             NaN         NaN           NaN         NaN         NaN         NaN         NaN        NaN           NaN        NaN        NaN        NaN\n",
        "FIVBGrandPrix             NaN         NaN           NaN           NaN        NaN           NaN           NaN             NaN           NaN          NaN             NaN         NaN           NaN         NaN         NaN         NaN         NaN        NaN           NaN        NaN        NaN        NaN\n",
        "FIVBHeroes                NaN         NaN           NaN           NaN        NaN           NaN           NaN             NaN           NaN          NaN             NaN         NaN           NaN         NaN         NaN         NaN         NaN        NaN           NaN        NaN        NaN        NaN\n",
        "\n",
        "[5 rows x 22 columns]"
       ]
      }
     ],
     "prompt_number": 56
    },
    {
     "cell_type": "code",
     "collapsed": false,
     "input": [
      "for item in FIVBFollowers.columns:\n",
      "    for index, row in FIVBFollowers.iterrows():\n",
      "        list1 = pd.io.json.read_json(str(item + '.json'))\n",
      "        list2 = pd.io.json.read_json(str(index + '.json'))\n",
      "        FIVBFollowers.loc[index, item] = (round((100. * len(set(list1[0]).intersection(list2[0])) / len(list2)), 2))"
     ],
     "language": "python",
     "metadata": {},
     "outputs": [],
     "prompt_number": 57
    },
    {
     "cell_type": "code",
     "collapsed": false,
     "input": [
      "FIVBFollowers.head(22)"
     ],
     "language": "python",
     "metadata": {},
     "outputs": [
      {
       "html": [
        "<div style=\"max-height:1000px;max-width:1500px;overflow:auto;\">\n",
        "<table border=\"1\" class=\"dataframe\">\n",
        "  <thead>\n",
        "    <tr style=\"text-align: right;\">\n",
        "      <th></th>\n",
        "      <th>FIVBVolleyball</th>\n",
        "      <th>FIVBMensWCH</th>\n",
        "      <th>FIVBWomensWCH</th>\n",
        "      <th>FIVBGrandPrix</th>\n",
        "      <th>FIVBHeroes</th>\n",
        "      <th>FIVBWorldTour</th>\n",
        "      <th>FIVBWomensCWC</th>\n",
        "      <th>FIVBWorldLeague</th>\n",
        "      <th>FIVBWomensU20</th>\n",
        "      <th>FIVBGirlsU18</th>\n",
        "      <th>FIVBWorldChamps</th>\n",
        "      <th>FIVBMensGCC</th>\n",
        "      <th>FIVBWomensU23</th>\n",
        "      <th>FIVBMensU23</th>\n",
        "      <th>FIVBMensCWC</th>\n",
        "      <th>FIVBMensU21</th>\n",
        "      <th>FIVBBoysU19</th>\n",
        "      <th>FIVBBVBU23</th>\n",
        "      <th>FIVBWomensGCC</th>\n",
        "      <th>FIVBBVBU21</th>\n",
        "      <th>FIVBBVBU17</th>\n",
        "      <th>FIVBBVBU19</th>\n",
        "    </tr>\n",
        "  </thead>\n",
        "  <tbody>\n",
        "    <tr>\n",
        "      <th>FIVBVolleyball</th>\n",
        "      <td>   100</td>\n",
        "      <td> 14.64</td>\n",
        "      <td> 11.17</td>\n",
        "      <td>  9.33</td>\n",
        "      <td> 10.44</td>\n",
        "      <td>  5.78</td>\n",
        "      <td>  2.53</td>\n",
        "      <td>   2.6</td>\n",
        "      <td>  1.45</td>\n",
        "      <td>  0.96</td>\n",
        "      <td>  1.22</td>\n",
        "      <td>  1.21</td>\n",
        "      <td>  1.22</td>\n",
        "      <td>   0.9</td>\n",
        "      <td>  0.75</td>\n",
        "      <td>  0.57</td>\n",
        "      <td>  0.48</td>\n",
        "      <td>  0.52</td>\n",
        "      <td>  0.53</td>\n",
        "      <td>  0.45</td>\n",
        "      <td>  0.33</td>\n",
        "      <td>  0.12</td>\n",
        "    </tr>\n",
        "    <tr>\n",
        "      <th>FIVBMensWCH</th>\n",
        "      <td> 48.31</td>\n",
        "      <td>   100</td>\n",
        "      <td> 24.68</td>\n",
        "      <td> 11.89</td>\n",
        "      <td>  8.32</td>\n",
        "      <td>  4.74</td>\n",
        "      <td>     5</td>\n",
        "      <td>  2.61</td>\n",
        "      <td>   1.4</td>\n",
        "      <td>  0.94</td>\n",
        "      <td>  1.44</td>\n",
        "      <td>  2.23</td>\n",
        "      <td>  2.38</td>\n",
        "      <td>     2</td>\n",
        "      <td>  1.58</td>\n",
        "      <td>  0.94</td>\n",
        "      <td>  0.65</td>\n",
        "      <td>  0.66</td>\n",
        "      <td>  0.68</td>\n",
        "      <td>   0.6</td>\n",
        "      <td>  0.49</td>\n",
        "      <td>  0.13</td>\n",
        "    </tr>\n",
        "    <tr>\n",
        "      <th>FIVBWomensWCH</th>\n",
        "      <td> 57.24</td>\n",
        "      <td> 38.32</td>\n",
        "      <td>   100</td>\n",
        "      <td>  25.3</td>\n",
        "      <td>  9.55</td>\n",
        "      <td>  6.17</td>\n",
        "      <td>  9.55</td>\n",
        "      <td>  2.57</td>\n",
        "      <td>   2.8</td>\n",
        "      <td>     2</td>\n",
        "      <td>  1.83</td>\n",
        "      <td>  2.59</td>\n",
        "      <td>  4.71</td>\n",
        "      <td>  2.84</td>\n",
        "      <td>  1.97</td>\n",
        "      <td>  1.35</td>\n",
        "      <td>  0.85</td>\n",
        "      <td>  0.91</td>\n",
        "      <td>  1.73</td>\n",
        "      <td>  0.79</td>\n",
        "      <td>   0.7</td>\n",
        "      <td>  0.16</td>\n",
        "    </tr>\n",
        "    <tr>\n",
        "      <th>FIVBGrandPrix</th>\n",
        "      <td> 66.82</td>\n",
        "      <td> 25.81</td>\n",
        "      <td> 35.38</td>\n",
        "      <td>   100</td>\n",
        "      <td> 14.34</td>\n",
        "      <td>  8.35</td>\n",
        "      <td>  11.2</td>\n",
        "      <td>  3.31</td>\n",
        "      <td>  5.01</td>\n",
        "      <td>  3.83</td>\n",
        "      <td>  2.84</td>\n",
        "      <td>  3.59</td>\n",
        "      <td>  5.04</td>\n",
        "      <td>  3.26</td>\n",
        "      <td>  2.16</td>\n",
        "      <td>  1.92</td>\n",
        "      <td>  1.23</td>\n",
        "      <td>  1.24</td>\n",
        "      <td>  2.92</td>\n",
        "      <td>  1.22</td>\n",
        "      <td>   0.8</td>\n",
        "      <td>   0.3</td>\n",
        "    </tr>\n",
        "    <tr>\n",
        "      <th>FIVBHeroes</th>\n",
        "      <td> 78.63</td>\n",
        "      <td>    19</td>\n",
        "      <td> 14.04</td>\n",
        "      <td> 15.08</td>\n",
        "      <td>   100</td>\n",
        "      <td> 10.62</td>\n",
        "      <td>   6.7</td>\n",
        "      <td> 11.75</td>\n",
        "      <td>  3.13</td>\n",
        "      <td>  2.16</td>\n",
        "      <td>   3.9</td>\n",
        "      <td>  3.76</td>\n",
        "      <td>  3.84</td>\n",
        "      <td>  2.41</td>\n",
        "      <td>  2.15</td>\n",
        "      <td>   1.7</td>\n",
        "      <td>  1.36</td>\n",
        "      <td>  1.42</td>\n",
        "      <td>  1.49</td>\n",
        "      <td>  1.27</td>\n",
        "      <td>   0.6</td>\n",
        "      <td>  0.37</td>\n",
        "    </tr>\n",
        "    <tr>\n",
        "      <th>FIVBWorldTour</th>\n",
        "      <td> 55.76</td>\n",
        "      <td> 13.85</td>\n",
        "      <td> 11.62</td>\n",
        "      <td> 11.24</td>\n",
        "      <td>  13.6</td>\n",
        "      <td>   100</td>\n",
        "      <td>   4.7</td>\n",
        "      <td>  2.99</td>\n",
        "      <td>  2.65</td>\n",
        "      <td>  1.84</td>\n",
        "      <td>  8.38</td>\n",
        "      <td>  2.42</td>\n",
        "      <td>  2.46</td>\n",
        "      <td>  2.05</td>\n",
        "      <td>  1.84</td>\n",
        "      <td>  1.46</td>\n",
        "      <td>  1.19</td>\n",
        "      <td>  3.17</td>\n",
        "      <td>  0.86</td>\n",
        "      <td>  2.54</td>\n",
        "      <td>  1.74</td>\n",
        "      <td>  0.94</td>\n",
        "    </tr>\n",
        "    <tr>\n",
        "      <th>FIVBWomensCWC</th>\n",
        "      <td> 75.45</td>\n",
        "      <td> 45.08</td>\n",
        "      <td> 55.47</td>\n",
        "      <td> 46.54</td>\n",
        "      <td> 26.46</td>\n",
        "      <td> 14.51</td>\n",
        "      <td>   100</td>\n",
        "      <td>  7.08</td>\n",
        "      <td> 10.79</td>\n",
        "      <td>  7.58</td>\n",
        "      <td>  7.88</td>\n",
        "      <td>    12</td>\n",
        "      <td> 22.44</td>\n",
        "      <td> 13.25</td>\n",
        "      <td>  9.69</td>\n",
        "      <td>  5.67</td>\n",
        "      <td>  3.61</td>\n",
        "      <td>  3.82</td>\n",
        "      <td>  8.73</td>\n",
        "      <td>  3.51</td>\n",
        "      <td>  2.56</td>\n",
        "      <td>  0.85</td>\n",
        "    </tr>\n",
        "    <tr>\n",
        "      <th>FIVBWorldLeague</th>\n",
        "      <td> 77.66</td>\n",
        "      <td> 23.65</td>\n",
        "      <td> 15.03</td>\n",
        "      <td> 13.82</td>\n",
        "      <td> 46.65</td>\n",
        "      <td>  9.28</td>\n",
        "      <td>  7.11</td>\n",
        "      <td>   100</td>\n",
        "      <td>  4.74</td>\n",
        "      <td>  2.72</td>\n",
        "      <td>  4.24</td>\n",
        "      <td>  5.24</td>\n",
        "      <td>  4.74</td>\n",
        "      <td>  3.28</td>\n",
        "      <td>  3.33</td>\n",
        "      <td>  2.77</td>\n",
        "      <td>  1.92</td>\n",
        "      <td>  1.66</td>\n",
        "      <td>  2.42</td>\n",
        "      <td>  1.87</td>\n",
        "      <td>  0.96</td>\n",
        "      <td>  0.55</td>\n",
        "    </tr>\n",
        "    <tr>\n",
        "      <th>FIVBWomensU20</th>\n",
        "      <td>  54.1</td>\n",
        "      <td> 15.91</td>\n",
        "      <td> 20.45</td>\n",
        "      <td>  26.2</td>\n",
        "      <td> 15.53</td>\n",
        "      <td> 10.29</td>\n",
        "      <td> 13.57</td>\n",
        "      <td>  5.93</td>\n",
        "      <td>   100</td>\n",
        "      <td> 20.83</td>\n",
        "      <td>  5.56</td>\n",
        "      <td>  5.81</td>\n",
        "      <td> 11.24</td>\n",
        "      <td>  6.76</td>\n",
        "      <td>  3.91</td>\n",
        "      <td>  6.69</td>\n",
        "      <td>  6.06</td>\n",
        "      <td>  3.47</td>\n",
        "      <td>  4.86</td>\n",
        "      <td>  3.85</td>\n",
        "      <td>  1.64</td>\n",
        "      <td>  1.14</td>\n",
        "    </tr>\n",
        "    <tr>\n",
        "      <th>FIVBGirlsU18</th>\n",
        "      <td> 38.62</td>\n",
        "      <td> 11.51</td>\n",
        "      <td>  15.8</td>\n",
        "      <td> 21.59</td>\n",
        "      <td> 11.58</td>\n",
        "      <td>   7.7</td>\n",
        "      <td> 10.29</td>\n",
        "      <td>  3.68</td>\n",
        "      <td> 22.48</td>\n",
        "      <td>   100</td>\n",
        "      <td>  4.36</td>\n",
        "      <td>  5.11</td>\n",
        "      <td>  9.74</td>\n",
        "      <td>  6.61</td>\n",
        "      <td>  4.22</td>\n",
        "      <td>  7.77</td>\n",
        "      <td>  6.34</td>\n",
        "      <td>  3.13</td>\n",
        "      <td>  5.04</td>\n",
        "      <td>  3.54</td>\n",
        "      <td>  1.91</td>\n",
        "      <td>  1.16</td>\n",
        "    </tr>\n",
        "    <tr>\n",
        "      <th>FIVBWorldChamps</th>\n",
        "      <td> 69.16</td>\n",
        "      <td> 24.71</td>\n",
        "      <td> 20.31</td>\n",
        "      <td> 22.51</td>\n",
        "      <td> 29.41</td>\n",
        "      <td> 49.33</td>\n",
        "      <td> 15.04</td>\n",
        "      <td>  8.05</td>\n",
        "      <td>  8.43</td>\n",
        "      <td>  6.13</td>\n",
        "      <td>   100</td>\n",
        "      <td>  7.76</td>\n",
        "      <td>  9.29</td>\n",
        "      <td>   9.1</td>\n",
        "      <td>  5.56</td>\n",
        "      <td>  6.13</td>\n",
        "      <td>  5.08</td>\n",
        "      <td> 13.22</td>\n",
        "      <td>  2.87</td>\n",
        "      <td> 13.03</td>\n",
        "      <td>  6.51</td>\n",
        "      <td>  5.46</td>\n",
        "    </tr>\n",
        "    <tr>\n",
        "      <th>FIVBMensGCC</th>\n",
        "      <td> 74.12</td>\n",
        "      <td> 41.24</td>\n",
        "      <td> 30.93</td>\n",
        "      <td> 30.62</td>\n",
        "      <td> 30.52</td>\n",
        "      <td> 15.36</td>\n",
        "      <td> 24.64</td>\n",
        "      <td> 10.72</td>\n",
        "      <td>  9.48</td>\n",
        "      <td>  7.73</td>\n",
        "      <td>  8.35</td>\n",
        "      <td>   100</td>\n",
        "      <td> 21.24</td>\n",
        "      <td> 13.71</td>\n",
        "      <td> 11.86</td>\n",
        "      <td> 10.72</td>\n",
        "      <td>   6.7</td>\n",
        "      <td>  4.02</td>\n",
        "      <td> 14.64</td>\n",
        "      <td>  4.43</td>\n",
        "      <td>   3.2</td>\n",
        "      <td>  0.93</td>\n",
        "    </tr>\n",
        "    <tr>\n",
        "      <th>FIVBWomensU23</th>\n",
        "      <td>  76.4</td>\n",
        "      <td> 45.19</td>\n",
        "      <td> 57.67</td>\n",
        "      <td> 44.13</td>\n",
        "      <td> 31.96</td>\n",
        "      <td> 15.98</td>\n",
        "      <td>  47.3</td>\n",
        "      <td>  9.95</td>\n",
        "      <td> 18.84</td>\n",
        "      <td> 15.13</td>\n",
        "      <td> 10.26</td>\n",
        "      <td>  21.8</td>\n",
        "      <td>   100</td>\n",
        "      <td> 24.97</td>\n",
        "      <td>  9.95</td>\n",
        "      <td> 11.85</td>\n",
        "      <td>  6.77</td>\n",
        "      <td>  4.97</td>\n",
        "      <td> 13.12</td>\n",
        "      <td>  5.61</td>\n",
        "      <td>  4.34</td>\n",
        "      <td>  1.06</td>\n",
        "    </tr>\n",
        "    <tr>\n",
        "      <th>FIVBMensU23</th>\n",
        "      <td> 79.76</td>\n",
        "      <td> 53.42</td>\n",
        "      <td> 48.96</td>\n",
        "      <td> 40.18</td>\n",
        "      <td> 28.27</td>\n",
        "      <td> 18.75</td>\n",
        "      <td> 39.29</td>\n",
        "      <td>  9.67</td>\n",
        "      <td> 15.92</td>\n",
        "      <td> 14.43</td>\n",
        "      <td> 14.14</td>\n",
        "      <td> 19.79</td>\n",
        "      <td> 35.12</td>\n",
        "      <td>   100</td>\n",
        "      <td> 16.82</td>\n",
        "      <td>  18.3</td>\n",
        "      <td> 10.27</td>\n",
        "      <td>  8.93</td>\n",
        "      <td>  7.44</td>\n",
        "      <td>  8.48</td>\n",
        "      <td>  5.36</td>\n",
        "      <td>  2.08</td>\n",
        "    </tr>\n",
        "    <tr>\n",
        "      <th>FIVBMensCWC</th>\n",
        "      <td> 72.86</td>\n",
        "      <td> 46.71</td>\n",
        "      <td>  37.5</td>\n",
        "      <td> 29.44</td>\n",
        "      <td>  27.8</td>\n",
        "      <td> 18.59</td>\n",
        "      <td> 31.74</td>\n",
        "      <td> 10.86</td>\n",
        "      <td>  10.2</td>\n",
        "      <td>  10.2</td>\n",
        "      <td>  9.54</td>\n",
        "      <td> 18.91</td>\n",
        "      <td> 15.46</td>\n",
        "      <td> 18.59</td>\n",
        "      <td>   100</td>\n",
        "      <td> 11.35</td>\n",
        "      <td>  8.88</td>\n",
        "      <td>  7.07</td>\n",
        "      <td>  5.92</td>\n",
        "      <td>  6.58</td>\n",
        "      <td>  5.26</td>\n",
        "      <td>  1.64</td>\n",
        "    </tr>\n",
        "    <tr>\n",
        "      <th>FIVBMensU21</th>\n",
        "      <td> 73.06</td>\n",
        "      <td> 36.21</td>\n",
        "      <td> 33.62</td>\n",
        "      <td> 34.27</td>\n",
        "      <td> 28.88</td>\n",
        "      <td>  19.4</td>\n",
        "      <td> 24.35</td>\n",
        "      <td> 11.85</td>\n",
        "      <td> 22.84</td>\n",
        "      <td> 24.57</td>\n",
        "      <td> 13.79</td>\n",
        "      <td> 22.41</td>\n",
        "      <td> 24.14</td>\n",
        "      <td> 26.51</td>\n",
        "      <td> 14.87</td>\n",
        "      <td>   100</td>\n",
        "      <td> 21.34</td>\n",
        "      <td> 10.13</td>\n",
        "      <td>  8.84</td>\n",
        "      <td> 11.64</td>\n",
        "      <td>   5.6</td>\n",
        "      <td>  3.88</td>\n",
        "    </tr>\n",
        "    <tr>\n",
        "      <th>FIVBBoysU19</th>\n",
        "      <td> 63.53</td>\n",
        "      <td> 25.95</td>\n",
        "      <td> 21.92</td>\n",
        "      <td> 22.82</td>\n",
        "      <td> 23.94</td>\n",
        "      <td> 16.33</td>\n",
        "      <td> 16.11</td>\n",
        "      <td>   8.5</td>\n",
        "      <td> 21.48</td>\n",
        "      <td> 20.81</td>\n",
        "      <td> 11.86</td>\n",
        "      <td> 14.54</td>\n",
        "      <td> 14.32</td>\n",
        "      <td> 15.44</td>\n",
        "      <td> 12.08</td>\n",
        "      <td> 22.15</td>\n",
        "      <td>   100</td>\n",
        "      <td>  8.72</td>\n",
        "      <td>  6.71</td>\n",
        "      <td> 10.96</td>\n",
        "      <td>  4.47</td>\n",
        "      <td>  4.25</td>\n",
        "    </tr>\n",
        "    <tr>\n",
        "      <th>FIVBBVBU23</th>\n",
        "      <td>  71.3</td>\n",
        "      <td> 27.55</td>\n",
        "      <td> 24.31</td>\n",
        "      <td> 23.84</td>\n",
        "      <td> 25.93</td>\n",
        "      <td> 45.14</td>\n",
        "      <td> 17.59</td>\n",
        "      <td>  7.64</td>\n",
        "      <td> 12.73</td>\n",
        "      <td> 10.65</td>\n",
        "      <td> 31.94</td>\n",
        "      <td>  9.03</td>\n",
        "      <td> 10.88</td>\n",
        "      <td> 13.89</td>\n",
        "      <td>  9.95</td>\n",
        "      <td> 10.88</td>\n",
        "      <td>  9.03</td>\n",
        "      <td>   100</td>\n",
        "      <td>  2.31</td>\n",
        "      <td> 31.25</td>\n",
        "      <td> 17.59</td>\n",
        "      <td>  12.5</td>\n",
        "    </tr>\n",
        "    <tr>\n",
        "      <th>FIVBWomensGCC</th>\n",
        "      <td> 74.88</td>\n",
        "      <td> 29.19</td>\n",
        "      <td> 47.85</td>\n",
        "      <td> 57.89</td>\n",
        "      <td> 27.99</td>\n",
        "      <td> 12.68</td>\n",
        "      <td> 41.63</td>\n",
        "      <td> 11.48</td>\n",
        "      <td> 18.42</td>\n",
        "      <td>  17.7</td>\n",
        "      <td>  7.18</td>\n",
        "      <td> 33.97</td>\n",
        "      <td> 29.67</td>\n",
        "      <td> 11.96</td>\n",
        "      <td>  8.61</td>\n",
        "      <td>  9.81</td>\n",
        "      <td>  7.18</td>\n",
        "      <td>  2.39</td>\n",
        "      <td>   100</td>\n",
        "      <td>  3.35</td>\n",
        "      <td>  2.39</td>\n",
        "      <td>   1.2</td>\n",
        "    </tr>\n",
        "    <tr>\n",
        "      <th>FIVBBVBU21</th>\n",
        "      <td> 74.31</td>\n",
        "      <td> 29.56</td>\n",
        "      <td> 25.14</td>\n",
        "      <td>  27.9</td>\n",
        "      <td> 27.62</td>\n",
        "      <td> 43.09</td>\n",
        "      <td> 19.34</td>\n",
        "      <td> 10.22</td>\n",
        "      <td> 16.85</td>\n",
        "      <td> 14.36</td>\n",
        "      <td> 37.57</td>\n",
        "      <td> 11.88</td>\n",
        "      <td> 14.64</td>\n",
        "      <td> 15.75</td>\n",
        "      <td> 11.05</td>\n",
        "      <td> 14.92</td>\n",
        "      <td> 13.54</td>\n",
        "      <td> 37.29</td>\n",
        "      <td>  3.87</td>\n",
        "      <td>   100</td>\n",
        "      <td> 17.96</td>\n",
        "      <td> 15.47</td>\n",
        "    </tr>\n",
        "    <tr>\n",
        "      <th>FIVBBVBU17</th>\n",
        "      <td>  66.1</td>\n",
        "      <td> 30.14</td>\n",
        "      <td> 27.74</td>\n",
        "      <td>  22.6</td>\n",
        "      <td>  16.1</td>\n",
        "      <td> 36.64</td>\n",
        "      <td> 17.47</td>\n",
        "      <td>  6.51</td>\n",
        "      <td>   8.9</td>\n",
        "      <td>  9.59</td>\n",
        "      <td> 23.29</td>\n",
        "      <td> 10.62</td>\n",
        "      <td> 14.04</td>\n",
        "      <td> 12.33</td>\n",
        "      <td> 10.96</td>\n",
        "      <td>   8.9</td>\n",
        "      <td>  6.85</td>\n",
        "      <td> 26.03</td>\n",
        "      <td>  3.42</td>\n",
        "      <td> 22.26</td>\n",
        "      <td>   100</td>\n",
        "      <td>  7.53</td>\n",
        "    </tr>\n",
        "    <tr>\n",
        "      <th>FIVBBVBU19</th>\n",
        "      <td> 79.78</td>\n",
        "      <td> 25.84</td>\n",
        "      <td> 21.35</td>\n",
        "      <td> 28.09</td>\n",
        "      <td> 32.58</td>\n",
        "      <td> 65.17</td>\n",
        "      <td>  19.1</td>\n",
        "      <td> 12.36</td>\n",
        "      <td> 20.22</td>\n",
        "      <td>  19.1</td>\n",
        "      <td> 64.04</td>\n",
        "      <td> 10.11</td>\n",
        "      <td> 11.24</td>\n",
        "      <td> 15.73</td>\n",
        "      <td> 11.24</td>\n",
        "      <td> 20.22</td>\n",
        "      <td> 21.35</td>\n",
        "      <td> 60.67</td>\n",
        "      <td>  5.62</td>\n",
        "      <td> 62.92</td>\n",
        "      <td> 24.72</td>\n",
        "      <td>   100</td>\n",
        "    </tr>\n",
        "  </tbody>\n",
        "</table>\n",
        "<p>22 rows \u00d7 22 columns</p>\n",
        "</div>"
       ],
       "metadata": {},
       "output_type": "pyout",
       "prompt_number": 58,
       "text": [
        "                FIVBVolleyball FIVBMensWCH FIVBWomensWCH FIVBGrandPrix FIVBHeroes FIVBWorldTour FIVBWomensCWC FIVBWorldLeague FIVBWomensU20 FIVBGirlsU18 FIVBWorldChamps FIVBMensGCC FIVBWomensU23 FIVBMensU23 FIVBMensCWC FIVBMensU21 FIVBBoysU19 FIVBBVBU23 FIVBWomensGCC FIVBBVBU21 FIVBBVBU17 FIVBBVBU19\n",
        "FIVBVolleyball             100       14.64         11.17          9.33      10.44          5.78          2.53             2.6          1.45         0.96            1.22        1.21          1.22         0.9        0.75        0.57        0.48       0.52          0.53       0.45       0.33       0.12\n",
        "FIVBMensWCH              48.31         100         24.68         11.89       8.32          4.74             5            2.61           1.4         0.94            1.44        2.23          2.38           2        1.58        0.94        0.65       0.66          0.68        0.6       0.49       0.13\n",
        "FIVBWomensWCH            57.24       38.32           100          25.3       9.55          6.17          9.55            2.57           2.8            2            1.83        2.59          4.71        2.84        1.97        1.35        0.85       0.91          1.73       0.79        0.7       0.16\n",
        "FIVBGrandPrix            66.82       25.81         35.38           100      14.34          8.35          11.2            3.31          5.01         3.83            2.84        3.59          5.04        3.26        2.16        1.92        1.23       1.24          2.92       1.22        0.8        0.3\n",
        "FIVBHeroes               78.63          19         14.04         15.08        100         10.62           6.7           11.75          3.13         2.16             3.9        3.76          3.84        2.41        2.15         1.7        1.36       1.42          1.49       1.27        0.6       0.37\n",
        "FIVBWorldTour            55.76       13.85         11.62         11.24       13.6           100           4.7            2.99          2.65         1.84            8.38        2.42          2.46        2.05        1.84        1.46        1.19       3.17          0.86       2.54       1.74       0.94\n",
        "FIVBWomensCWC            75.45       45.08         55.47         46.54      26.46         14.51           100            7.08         10.79         7.58            7.88          12         22.44       13.25        9.69        5.67        3.61       3.82          8.73       3.51       2.56       0.85\n",
        "FIVBWorldLeague          77.66       23.65         15.03         13.82      46.65          9.28          7.11             100          4.74         2.72            4.24        5.24          4.74        3.28        3.33        2.77        1.92       1.66          2.42       1.87       0.96       0.55\n",
        "FIVBWomensU20             54.1       15.91         20.45          26.2      15.53         10.29         13.57            5.93           100        20.83            5.56        5.81         11.24        6.76        3.91        6.69        6.06       3.47          4.86       3.85       1.64       1.14\n",
        "FIVBGirlsU18             38.62       11.51          15.8         21.59      11.58           7.7         10.29            3.68         22.48          100            4.36        5.11          9.74        6.61        4.22        7.77        6.34       3.13          5.04       3.54       1.91       1.16\n",
        "FIVBWorldChamps          69.16       24.71         20.31         22.51      29.41         49.33         15.04            8.05          8.43         6.13             100        7.76          9.29         9.1        5.56        6.13        5.08      13.22          2.87      13.03       6.51       5.46\n",
        "FIVBMensGCC              74.12       41.24         30.93         30.62      30.52         15.36         24.64           10.72          9.48         7.73            8.35         100         21.24       13.71       11.86       10.72         6.7       4.02         14.64       4.43        3.2       0.93\n",
        "FIVBWomensU23             76.4       45.19         57.67         44.13      31.96         15.98          47.3            9.95         18.84        15.13           10.26        21.8           100       24.97        9.95       11.85        6.77       4.97         13.12       5.61       4.34       1.06\n",
        "FIVBMensU23              79.76       53.42         48.96         40.18      28.27         18.75         39.29            9.67         15.92        14.43           14.14       19.79         35.12         100       16.82        18.3       10.27       8.93          7.44       8.48       5.36       2.08\n",
        "FIVBMensCWC              72.86       46.71          37.5         29.44       27.8         18.59         31.74           10.86          10.2         10.2            9.54       18.91         15.46       18.59         100       11.35        8.88       7.07          5.92       6.58       5.26       1.64\n",
        "FIVBMensU21              73.06       36.21         33.62         34.27      28.88          19.4         24.35           11.85         22.84        24.57           13.79       22.41         24.14       26.51       14.87         100       21.34      10.13          8.84      11.64        5.6       3.88\n",
        "FIVBBoysU19              63.53       25.95         21.92         22.82      23.94         16.33         16.11             8.5         21.48        20.81           11.86       14.54         14.32       15.44       12.08       22.15         100       8.72          6.71      10.96       4.47       4.25\n",
        "FIVBBVBU23                71.3       27.55         24.31         23.84      25.93         45.14         17.59            7.64         12.73        10.65           31.94        9.03         10.88       13.89        9.95       10.88        9.03        100          2.31      31.25      17.59       12.5\n",
        "FIVBWomensGCC            74.88       29.19         47.85         57.89      27.99         12.68         41.63           11.48         18.42         17.7            7.18       33.97         29.67       11.96        8.61        9.81        7.18       2.39           100       3.35       2.39        1.2\n",
        "FIVBBVBU21               74.31       29.56         25.14          27.9      27.62         43.09         19.34           10.22         16.85        14.36           37.57       11.88         14.64       15.75       11.05       14.92       13.54      37.29          3.87        100      17.96      15.47\n",
        "FIVBBVBU17                66.1       30.14         27.74          22.6       16.1         36.64         17.47            6.51           8.9         9.59           23.29       10.62         14.04       12.33       10.96         8.9        6.85      26.03          3.42      22.26        100       7.53\n",
        "FIVBBVBU19               79.78       25.84         21.35         28.09      32.58         65.17          19.1           12.36         20.22         19.1           64.04       10.11         11.24       15.73       11.24       20.22       21.35      60.67          5.62      62.92      24.72        100\n",
        "\n",
        "[22 rows x 22 columns]"
       ]
      }
     ],
     "prompt_number": 58
    },
    {
     "cell_type": "code",
     "collapsed": false,
     "input": [
      "writer = pd.ExcelWriter('FIVBFollowers.xlsx')\n",
      "FIVBFollowers.to_excel(writer,'Sheet1')\n",
      "writer.save()"
     ],
     "language": "python",
     "metadata": {},
     "outputs": [],
     "prompt_number": 59
    },
    {
     "cell_type": "code",
     "collapsed": false,
     "input": [
      "FIVBFollowersacc = pd.DataFrame(index = FIVBTwitter)\n",
      "FIVBFollowersacc['Followers'] = ''\n",
      "FIVBFollowersacc.head()"
     ],
     "language": "python",
     "metadata": {},
     "outputs": [
      {
       "html": [
        "<div style=\"max-height:1000px;max-width:1500px;overflow:auto;\">\n",
        "<table border=\"1\" class=\"dataframe\">\n",
        "  <thead>\n",
        "    <tr style=\"text-align: right;\">\n",
        "      <th></th>\n",
        "      <th>Followers</th>\n",
        "    </tr>\n",
        "  </thead>\n",
        "  <tbody>\n",
        "    <tr>\n",
        "      <th>FIVBVolleyball</th>\n",
        "      <td> </td>\n",
        "    </tr>\n",
        "    <tr>\n",
        "      <th>FIVBMensWCH</th>\n",
        "      <td> </td>\n",
        "    </tr>\n",
        "    <tr>\n",
        "      <th>FIVBWomensWCH</th>\n",
        "      <td> </td>\n",
        "    </tr>\n",
        "    <tr>\n",
        "      <th>FIVBGrandPrix</th>\n",
        "      <td> </td>\n",
        "    </tr>\n",
        "    <tr>\n",
        "      <th>FIVBHeroes</th>\n",
        "      <td> </td>\n",
        "    </tr>\n",
        "  </tbody>\n",
        "</table>\n",
        "<p>5 rows \u00d7 1 columns</p>\n",
        "</div>"
       ],
       "metadata": {},
       "output_type": "pyout",
       "prompt_number": 60,
       "text": [
        "               Followers\n",
        "FIVBVolleyball          \n",
        "FIVBMensWCH             \n",
        "FIVBWomensWCH           \n",
        "FIVBGrandPrix           \n",
        "FIVBHeroes              \n",
        "\n",
        "[5 rows x 1 columns]"
       ]
      }
     ],
     "prompt_number": 60
    },
    {
     "cell_type": "code",
     "collapsed": false,
     "input": [
      "for index, row in FIVBFollowersacc.iterrows():\n",
      "    list1 = pd.io.json.read_json(str(index + '.json'))\n",
      "    FIVBFollowersacc.loc[index, 'Followers'] = list1.shape[0]"
     ],
     "language": "python",
     "metadata": {},
     "outputs": [],
     "prompt_number": 61
    },
    {
     "cell_type": "code",
     "collapsed": false,
     "input": [
      "FIVBFollowersacc.head()"
     ],
     "language": "python",
     "metadata": {},
     "outputs": [
      {
       "html": [
        "<div style=\"max-height:1000px;max-width:1500px;overflow:auto;\">\n",
        "<table border=\"1\" class=\"dataframe\">\n",
        "  <thead>\n",
        "    <tr style=\"text-align: right;\">\n",
        "      <th></th>\n",
        "      <th>Followers</th>\n",
        "    </tr>\n",
        "  </thead>\n",
        "  <tbody>\n",
        "    <tr>\n",
        "      <th>FIVBVolleyball</th>\n",
        "      <td> 59296</td>\n",
        "    </tr>\n",
        "    <tr>\n",
        "      <th>FIVBMensWCH</th>\n",
        "      <td> 17967</td>\n",
        "    </tr>\n",
        "    <tr>\n",
        "      <th>FIVBWomensWCH</th>\n",
        "      <td> 11573</td>\n",
        "    </tr>\n",
        "    <tr>\n",
        "      <th>FIVBGrandPrix</th>\n",
        "      <td>  8277</td>\n",
        "    </tr>\n",
        "    <tr>\n",
        "      <th>FIVBHeroes</th>\n",
        "      <td>  7870</td>\n",
        "    </tr>\n",
        "  </tbody>\n",
        "</table>\n",
        "<p>5 rows \u00d7 1 columns</p>\n",
        "</div>"
       ],
       "metadata": {},
       "output_type": "pyout",
       "prompt_number": 62,
       "text": [
        "               Followers\n",
        "FIVBVolleyball     59296\n",
        "FIVBMensWCH        17967\n",
        "FIVBWomensWCH      11573\n",
        "FIVBGrandPrix       8277\n",
        "FIVBHeroes          7870\n",
        "\n",
        "[5 rows x 1 columns]"
       ]
      }
     ],
     "prompt_number": 62
    },
    {
     "cell_type": "code",
     "collapsed": false,
     "input": [
      "writer = pd.ExcelWriter('FIVBFollowersacc.xlsx')\n",
      "FIVBFollowersacc.to_excel(writer,'Sheet1')\n",
      "writer.save()"
     ],
     "language": "python",
     "metadata": {},
     "outputs": [],
     "prompt_number": 63
    },
    {
     "cell_type": "code",
     "collapsed": false,
     "input": [
      "%matplotlib inline\n",
      "from collections import defaultdict\n",
      "import json\n",
      "\n",
      "import numpy as np\n",
      "import scipy as sp\n",
      "import matplotlib.pyplot as plt\n",
      "import pandas as pd\n",
      "\n",
      "from matplotlib import rcParams\n",
      "import matplotlib.cm as cm\n",
      "import matplotlib as mpl"
     ],
     "language": "python",
     "metadata": {},
     "outputs": [],
     "prompt_number": 64
    },
    {
     "cell_type": "code",
     "collapsed": false,
     "input": [
      "FIVBFlId = pd.DataFrame()\n",
      "\n",
      "for item in FIVBTwitter:\n",
      "    list1 = pd.io.json.read_json(str(item + '.json'))\n",
      "    FIVBFlId = FIVBFlId.append(list1)\n"
     ],
     "language": "python",
     "metadata": {},
     "outputs": [],
     "prompt_number": 65
    },
    {
     "cell_type": "code",
     "collapsed": false,
     "input": [
      "FIVBFlId.columns"
     ],
     "language": "python",
     "metadata": {},
     "outputs": [
      {
       "metadata": {},
       "output_type": "pyout",
       "prompt_number": 66,
       "text": [
        "Int64Index([0], dtype='int64')"
       ]
      }
     ],
     "prompt_number": 66
    },
    {
     "cell_type": "code",
     "collapsed": false,
     "input": [
      "FIVBFlId.shape"
     ],
     "language": "python",
     "metadata": {},
     "outputs": [
      {
       "metadata": {},
       "output_type": "pyout",
       "prompt_number": 70,
       "text": [
        "(124899, 1)"
       ]
      }
     ],
     "prompt_number": 70
    },
    {
     "cell_type": "code",
     "collapsed": false,
     "input": [
      "FIVBFlIds = set(FIVBFlId[0].tolist())"
     ],
     "language": "python",
     "metadata": {},
     "outputs": [],
     "prompt_number": 68
    },
    {
     "cell_type": "code",
     "collapsed": false,
     "input": [
      "len(FIVBFlIds)"
     ],
     "language": "python",
     "metadata": {},
     "outputs": [
      {
       "metadata": {},
       "output_type": "pyout",
       "prompt_number": 69,
       "text": [
        "82171"
       ]
      }
     ],
     "prompt_number": 69
    },
    {
     "cell_type": "code",
     "collapsed": false,
     "input": [
      "#Step 1 conclusion: there are only 82171 unique followers due to duplicates"
     ],
     "language": "python",
     "metadata": {},
     "outputs": [],
     "prompt_number": 69
    },
    {
     "cell_type": "code",
     "collapsed": false,
     "input": [
      "#Step 2: research how to improve users engagement in form of retweets via tweets content management"
     ],
     "language": "python",
     "metadata": {},
     "outputs": [],
     "prompt_number": 70
    },
    {
     "cell_type": "code",
     "collapsed": false,
     "input": [
      "#Step 2.1: what we can do with twitter statuses?"
     ],
     "language": "python",
     "metadata": {},
     "outputs": [],
     "prompt_number": 71
    },
    {
     "cell_type": "code",
     "collapsed": false,
     "input": [
      "def harvest_user_timeline(twitter_api, screen_name=None, user_id=None, max_results=3200):\n",
      "    \n",
      "    assert (screen_name != None) != (user_id != None)\n",
      "    \n",
      "    \n",
      "    kw = {  \n",
      "        'count': 200,\n",
      "        'trim_user': 'true',\n",
      "        'include_rts' : 'true',\n",
      "        'since_id' : 1\n",
      "        }\n",
      "    \n",
      "    if screen_name:\n",
      "        kw['screen_name'] = screen_name\n",
      "    else:\n",
      "        kw['user_id'] = user_id\n",
      "    \n",
      "    max_pages = 1000\n",
      "    results = []\n",
      "    tweets = make_twitter_request(twitter_api.statuses.user_timeline, **kw) \n",
      "    if tweets is None: \n",
      "        tweets = []\n",
      "        \n",
      "    results += tweets\n",
      "    \n",
      "    print >> sys.stderr, 'Fetched %i tweets' % len(tweets)\n",
      "    page_num = 1\n",
      "    \n",
      "    \n",
      "    if max_results == kw['count']:\n",
      "        page_num = max_pages \n",
      "    \n",
      "    while page_num < max_pages and len(tweets) > 0 and len(results) < max_results:\n",
      "    \n",
      "        kw['max_id'] = min([ tweet['id'] for tweet in tweets]) - 1\n",
      "        tweets = make_twitter_request(twitter_api.statuses.user_timeline, **kw)\n",
      "        results += tweets\n",
      "\n",
      "        print >> sys.stderr, 'Fetched %i tweets' % (len(tweets),)\n",
      "        page_num += 1\n",
      "    \n",
      "    print >> sys.stderr, 'Done fetching tweets' \n",
      "    \n",
      "    return results[:max_results]"
     ],
     "language": "python",
     "metadata": {},
     "outputs": [],
     "prompt_number": 72
    },
    {
     "cell_type": "code",
     "collapsed": false,
     "input": [
      "#tweets = harvest_user_timeline(twitter_api, screen_name=\"FIVBVolleyball\", max_results = 3200)"
     ],
     "language": "python",
     "metadata": {},
     "outputs": [],
     "prompt_number": 73
    },
    {
     "cell_type": "code",
     "collapsed": false,
     "input": [
      "#save_json('Tweets', tweets)"
     ],
     "language": "python",
     "metadata": {},
     "outputs": [],
     "prompt_number": 74
    },
    {
     "cell_type": "code",
     "collapsed": false,
     "input": [
      "tweetsdf = pd.io.json.read_json('Tweets.json')"
     ],
     "language": "python",
     "metadata": {},
     "outputs": [],
     "prompt_number": 75
    },
    {
     "cell_type": "code",
     "collapsed": false,
     "input": [
      "tweetsdf.columns"
     ],
     "language": "python",
     "metadata": {},
     "outputs": [
      {
       "metadata": {},
       "output_type": "pyout",
       "prompt_number": 76,
       "text": [
        "Index([u'contributors', u'coordinates', u'created_at', u'entities', u'extended_entities', u'favorite_count', u'favorited', u'geo', u'id', u'id_str', u'in_reply_to_screen_name', u'in_reply_to_status_id', u'in_reply_to_status_id_str', u'in_reply_to_user_id', u'in_reply_to_user_id_str', u'lang', u'place', u'possibly_sensitive', u'retweet_count', u'retweeted', u'retweeted_status', u'source', u'text', u'truncated', u'user'], dtype='object')"
       ]
      }
     ],
     "prompt_number": 76
    },
    {
     "cell_type": "code",
     "collapsed": false,
     "input": [
      "n_tweets = len(tweetsdf)\n",
      "n_retweeted = len(tweetsdf[tweetsdf.retweet_count > 0])\n",
      "\n",
      "print \"Number of tweets: %i\" % n_tweets\n",
      "print \"Number of retweeted: %i\" % n_retweeted"
     ],
     "language": "python",
     "metadata": {},
     "outputs": [
      {
       "output_type": "stream",
       "stream": "stdout",
       "text": [
        "Number of tweets: 3200\n",
        "Number of retweeted: 3058\n"
       ]
      }
     ],
     "prompt_number": 77
    },
    {
     "cell_type": "code",
     "collapsed": false,
     "input": [
      "print \"Mean retweets over all tweets:\",tweetsdf.retweet_count.mean()\n",
      "retweets = tweetsdf.retweet_count\n",
      "ax = retweets.hist(bins = 450)\n",
      "remove_border(ax)\n",
      "plt.xlabel(\"Retweets count\")\n",
      "plt.grid(False)\n",
      "plt.grid(axis = 'y', color ='white', linestyle='-')\n",
      "plt.title(\"Retweets over all tweets\");"
     ],
     "language": "python",
     "metadata": {},
     "outputs": [
      {
       "output_type": "stream",
       "stream": "stdout",
       "text": [
        "Mean retweets over all tweets: 14.35625\n"
       ]
      },
      {
       "metadata": {},
       "output_type": "display_data",
       "png": "[encoded data removed]",
       "text": [
        "<matplotlib.figure.Figure at 0x1120375d0>"
       ]
      }
     ],
     "prompt_number": 78
    },
    {
     "cell_type": "code",
     "collapsed": false,
     "input": [
      "with open(\"Tweets.json\") as json_file:\n",
      "    tweets = json.load(json_file)"
     ],
     "language": "python",
     "metadata": {},
     "outputs": [],
     "prompt_number": 79
    },
    {
     "cell_type": "code",
     "collapsed": false,
     "input": [
      "hashtagsdf = pd.DataFrame(index = [])\n",
      "\n",
      "for tweet in tweets:\n",
      "    tweetid = tweet ['id']\n",
      "    tempdf = pd.DataFrame(index = [tweetid])\n",
      "    \n",
      "    counter = 0\n",
      "        \n",
      "    for hashtag in tweet['entities']['hashtags']:\n",
      "        if hashtag.has_key('text'):\n",
      "            counter += 1\n",
      "            name = 'hashtag_text' + str(counter)\n",
      "            tempdf.loc[tweetid, name] = hashtag.get('text')\n",
      "            \n",
      "        else:\n",
      "            pass\n",
      "        \n",
      "        \n",
      "    hashtagsdf = hashtagsdf.append(tempdf)\n",
      "    \n",
      "   \n",
      "hashtagsdf.head(2)"
     ],
     "language": "python",
     "metadata": {},
     "outputs": [
      {
       "html": [
        "<div style=\"max-height:1000px;max-width:1500px;overflow:auto;\">\n",
        "<table border=\"1\" class=\"dataframe\">\n",
        "  <thead>\n",
        "    <tr style=\"text-align: right;\">\n",
        "      <th></th>\n",
        "      <th>hashtag_text1</th>\n",
        "      <th>hashtag_text2</th>\n",
        "      <th>hashtag_text3</th>\n",
        "      <th>hashtag_text4</th>\n",
        "      <th>hashtag_text5</th>\n",
        "      <th>hashtag_text6</th>\n",
        "      <th>hashtag_text7</th>\n",
        "      <th>hashtag_text8</th>\n",
        "    </tr>\n",
        "  </thead>\n",
        "  <tbody>\n",
        "    <tr>\n",
        "      <th>536013754681393153</th>\n",
        "      <td> NaN</td>\n",
        "      <td> NaN</td>\n",
        "      <td> NaN</td>\n",
        "      <td> NaN</td>\n",
        "      <td> NaN</td>\n",
        "      <td> NaN</td>\n",
        "      <td> NaN</td>\n",
        "      <td> NaN</td>\n",
        "    </tr>\n",
        "    <tr>\n",
        "      <th>535997368080924674</th>\n",
        "      <td> NaN</td>\n",
        "      <td> NaN</td>\n",
        "      <td> NaN</td>\n",
        "      <td> NaN</td>\n",
        "      <td> NaN</td>\n",
        "      <td> NaN</td>\n",
        "      <td> NaN</td>\n",
        "      <td> NaN</td>\n",
        "    </tr>\n",
        "  </tbody>\n",
        "</table>\n",
        "<p>2 rows \u00d7 8 columns</p>\n",
        "</div>"
       ],
       "metadata": {},
       "output_type": "pyout",
       "prompt_number": 80,
       "text": [
        "                   hashtag_text1 hashtag_text2 hashtag_text3 hashtag_text4 hashtag_text5 hashtag_text6 hashtag_text7 hashtag_text8\n",
        "536013754681393153           NaN           NaN           NaN           NaN           NaN           NaN           NaN           NaN\n",
        "535997368080924674           NaN           NaN           NaN           NaN           NaN           NaN           NaN           NaN\n",
        "\n",
        "[2 rows x 8 columns]"
       ]
      }
     ],
     "prompt_number": 80
    },
    {
     "cell_type": "code",
     "collapsed": false,
     "input": [
      "hashtagsdf = hashtagsdf.dropna(how = 'all')\n",
      "hashtagsdf.shape"
     ],
     "language": "python",
     "metadata": {},
     "outputs": [
      {
       "metadata": {},
       "output_type": "pyout",
       "prompt_number": 81,
       "text": [
        "(2745, 8)"
       ]
      }
     ],
     "prompt_number": 81
    },
    {
     "cell_type": "code",
     "collapsed": false,
     "input": [
      "from collections import Counter\n",
      "\n",
      "for item in hashtagsdf.columns:\n",
      "    c = Counter(hashtagsdf[item]).most_common(3)\n",
      "    print c"
     ],
     "language": "python",
     "metadata": {},
     "outputs": [
      {
       "output_type": "stream",
       "stream": "stdout",
       "text": [
        "[(u'FIVBWomensWCH', 546), (u'FIVBMensWCH', 183), (u'FIVB', 161)]\n",
        "[(nan, 1335), (u'FIVBWomensWCH', 266), (u'FIVBMensWCH', 96)]\n",
        "[(nan, 2088), (u'FIVBWomensWCH', 272), (u'FIVBMensWCH', 109)]\n",
        "[(nan, 2621), (u'FIVBWomensWCH', 23), (u'barivolley2014', 13)]\n",
        "[(nan, 2711), (u'FIVBWomensWCH', 7), (u'TeamBrazil', 2)]\n",
        "[(nan, 2730), (u'TeamBrazil', 3), (u'TeamThailand', 2)]\n",
        "[(nan, 2736), (u'TeamRussia', 2), (u'TeamSerbia', 2)]\n",
        "[(nan, 2740), (u'TeamRussia', 2), (u'TeamJapan', 1)]\n"
       ]
      }
     ],
     "prompt_number": 82
    },
    {
     "cell_type": "code",
     "collapsed": false,
     "input": [
      "mediaurldf = pd.DataFrame(index = [])\n",
      "\n",
      "for tweet in tweets:\n",
      "    tweetid = tweet ['id']\n",
      "    tempdf = pd.DataFrame(index = [tweetid])\n",
      "    \n",
      "    counter = 0\n",
      "    \n",
      "    if tweet['entities'].has_key('media'):\n",
      "    \n",
      "        for media in tweet['entities']['media']:\n",
      "            if media.has_key('url'):\n",
      "                counter += 1\n",
      "                name = 'media_url' + str(counter)\n",
      "                tempdf.loc[tweetid, name] = media.get('url')\n",
      "            \n",
      "            else:\n",
      "                pass\n",
      "        \n",
      "        \n",
      "    mediaurldf = mediaurldf.append(tempdf)\n",
      "    \n",
      "   \n",
      "mediaurldf.head(2)"
     ],
     "language": "python",
     "metadata": {},
     "outputs": [
      {
       "html": [
        "<div style=\"max-height:1000px;max-width:1500px;overflow:auto;\">\n",
        "<table border=\"1\" class=\"dataframe\">\n",
        "  <thead>\n",
        "    <tr style=\"text-align: right;\">\n",
        "      <th></th>\n",
        "      <th>media_url1</th>\n",
        "    </tr>\n",
        "  </thead>\n",
        "  <tbody>\n",
        "    <tr>\n",
        "      <th>536013754681393153</th>\n",
        "      <td> http://t.co/zBliEQqTfR</td>\n",
        "    </tr>\n",
        "    <tr>\n",
        "      <th>535997368080924674</th>\n",
        "      <td> http://t.co/02lfJ3eVZY</td>\n",
        "    </tr>\n",
        "  </tbody>\n",
        "</table>\n",
        "<p>2 rows \u00d7 1 columns</p>\n",
        "</div>"
       ],
       "metadata": {},
       "output_type": "pyout",
       "prompt_number": 83,
       "text": [
        "                                media_url1\n",
        "536013754681393153  http://t.co/zBliEQqTfR\n",
        "535997368080924674  http://t.co/02lfJ3eVZY\n",
        "\n",
        "[2 rows x 1 columns]"
       ]
      }
     ],
     "prompt_number": 83
    },
    {
     "cell_type": "code",
     "collapsed": false,
     "input": [
      "mediaurldf = mediaurldf.dropna(how = 'all')\n",
      "mediaurldf.shape"
     ],
     "language": "python",
     "metadata": {},
     "outputs": [
      {
       "metadata": {},
       "output_type": "pyout",
       "prompt_number": 84,
       "text": [
        "(2306, 1)"
       ]
      }
     ],
     "prompt_number": 84
    },
    {
     "cell_type": "code",
     "collapsed": false,
     "input": [
      "for item in mediaurldf.columns:\n",
      "    c = Counter(mediaurldf[item]).most_common(3)\n",
      "    print c"
     ],
     "language": "python",
     "metadata": {},
     "outputs": [
      {
       "output_type": "stream",
       "stream": "stdout",
       "text": [
        "[(u'http://t.co/gw2CYyRtup', 2), (u'http://t.co/Qfkg8m27Il', 2), (u'http://t.co/BAdoC19S2w', 2)]\n"
       ]
      }
     ],
     "prompt_number": 85
    },
    {
     "cell_type": "code",
     "collapsed": false,
     "input": [
      "urlsdf = pd.DataFrame(index = [])\n",
      "\n",
      "for tweet in tweets:\n",
      "    tweetid = tweet ['id']\n",
      "    tempdf = pd.DataFrame(index = [tweetid])\n",
      "    \n",
      "    counter = 0\n",
      "    \n",
      "    for url in tweet['entities']['urls']:\n",
      "        counter += 1\n",
      "        name = 'expanded_url' + str(counter)\n",
      "        tempdf.loc[tweetid, name] = url.get('expanded_url')\n",
      "        \n",
      "    urlsdf = urlsdf.append(tempdf)\n",
      "    \n",
      "   \n",
      "urlsdf.head(2)"
     ],
     "language": "python",
     "metadata": {},
     "outputs": [
      {
       "html": [
        "<div style=\"max-height:1000px;max-width:1500px;overflow:auto;\">\n",
        "<table border=\"1\" class=\"dataframe\">\n",
        "  <thead>\n",
        "    <tr style=\"text-align: right;\">\n",
        "      <th></th>\n",
        "      <th>expanded_url1</th>\n",
        "      <th>expanded_url2</th>\n",
        "      <th>expanded_url3</th>\n",
        "    </tr>\n",
        "  </thead>\n",
        "  <tbody>\n",
        "    <tr>\n",
        "      <th>536013754681393153</th>\n",
        "      <td> http://www.fivb.org/viewPressRelease.asp?No=50...</td>\n",
        "      <td> NaN</td>\n",
        "      <td> NaN</td>\n",
        "    </tr>\n",
        "    <tr>\n",
        "      <th>535997368080924674</th>\n",
        "      <td> http://www.fivb.org/viewHeadlines.asp?No=50324...</td>\n",
        "      <td> NaN</td>\n",
        "      <td> NaN</td>\n",
        "    </tr>\n",
        "  </tbody>\n",
        "</table>\n",
        "<p>2 rows \u00d7 3 columns</p>\n",
        "</div>"
       ],
       "metadata": {},
       "output_type": "pyout",
       "prompt_number": 86,
       "text": [
        "                                                        expanded_url1 expanded_url2 expanded_url3\n",
        "536013754681393153  http://www.fivb.org/viewPressRelease.asp?No=50...           NaN           NaN\n",
        "535997368080924674  http://www.fivb.org/viewHeadlines.asp?No=50324...           NaN           NaN\n",
        "\n",
        "[2 rows x 3 columns]"
       ]
      }
     ],
     "prompt_number": 86
    },
    {
     "cell_type": "code",
     "collapsed": false,
     "input": [
      "urlsdf = urlsdf.dropna(how = 'all')\n",
      "urlsdf.shape"
     ],
     "language": "python",
     "metadata": {},
     "outputs": [
      {
       "metadata": {},
       "output_type": "pyout",
       "prompt_number": 87,
       "text": [
        "(2355, 3)"
       ]
      }
     ],
     "prompt_number": 87
    },
    {
     "cell_type": "code",
     "collapsed": false,
     "input": [
      "for item in urlsdf.columns:\n",
      "    c = Counter(urlsdf[item]).most_common(3)\n",
      "    print c"
     ],
     "language": "python",
     "metadata": {},
     "outputs": [
      {
       "output_type": "stream",
       "stream": "stdout",
       "text": [
        "[(u'http://instagram.com/fivbvolleyball', 68), (u'http://www.laola1.tv/en-int/fivb-web-tv/269.html', 37), (u'https://www.facebook.com/FIVB.InternationalVolleyballFederation', 26)]\n",
        "[(nan, 2303), (u'http://instagram.com/fivbvolleyball', 8), (u'http://www.fivb.org/EN/BeachVolleyball/Competitions/WorldTour/2014/Event/Teams.asp?TournCode=WXIA2014&Phase=-1', 4)]\n",
        "[(nan, 2347), (u'http://www.pinterest.com/fivbvolleyball/', 7), (u'http://www.pinterest.com/fivbvolleyball', 1)]\n"
       ]
      }
     ],
     "prompt_number": 88
    },
    {
     "cell_type": "code",
     "collapsed": false,
     "input": [
      "usermentsdf = pd.DataFrame(index = [])\n",
      "\n",
      "for tweet in tweets:\n",
      "    tweetid = tweet ['id']\n",
      "    tempdf = pd.DataFrame(index = [tweetid])\n",
      "    \n",
      "    counter = 0\n",
      "    \n",
      "    for userment in tweet['entities']['user_mentions']:\n",
      "        if userment.has_key('screen_name'):\n",
      "            counter += 1\n",
      "            name = 'userments' + str(counter)\n",
      "            tempdf.loc[tweetid, name] = userment.get('screen_name')\n",
      "            \n",
      "        else:\n",
      "            pass\n",
      "        \n",
      "    usermentsdf = usermentsdf.append(tempdf)\n",
      "    \n",
      "   \n",
      "usermentsdf.head(2)"
     ],
     "language": "python",
     "metadata": {},
     "outputs": [
      {
       "html": [
        "<div style=\"max-height:1000px;max-width:1500px;overflow:auto;\">\n",
        "<table border=\"1\" class=\"dataframe\">\n",
        "  <thead>\n",
        "    <tr style=\"text-align: right;\">\n",
        "      <th></th>\n",
        "      <th>userments1</th>\n",
        "      <th>userments2</th>\n",
        "      <th>userments3</th>\n",
        "      <th>userments4</th>\n",
        "      <th>userments5</th>\n",
        "      <th>userments6</th>\n",
        "      <th>userments7</th>\n",
        "    </tr>\n",
        "  </thead>\n",
        "  <tbody>\n",
        "    <tr>\n",
        "      <th>536013754681393153</th>\n",
        "      <td>    VoleiFemRD</td>\n",
        "      <td> NaN</td>\n",
        "      <td> NaN</td>\n",
        "      <td> NaN</td>\n",
        "      <td> NaN</td>\n",
        "      <td> NaN</td>\n",
        "      <td> NaN</td>\n",
        "    </tr>\n",
        "    <tr>\n",
        "      <th>535997368080924674</th>\n",
        "      <td> BakuGames2015</td>\n",
        "      <td> NaN</td>\n",
        "      <td> NaN</td>\n",
        "      <td> NaN</td>\n",
        "      <td> NaN</td>\n",
        "      <td> NaN</td>\n",
        "      <td> NaN</td>\n",
        "    </tr>\n",
        "  </tbody>\n",
        "</table>\n",
        "<p>2 rows \u00d7 7 columns</p>\n",
        "</div>"
       ],
       "metadata": {},
       "output_type": "pyout",
       "prompt_number": 89,
       "text": [
        "                       userments1 userments2 userments3 userments4 userments5 userments6 userments7\n",
        "536013754681393153     VoleiFemRD        NaN        NaN        NaN        NaN        NaN        NaN\n",
        "535997368080924674  BakuGames2015        NaN        NaN        NaN        NaN        NaN        NaN\n",
        "\n",
        "[2 rows x 7 columns]"
       ]
      }
     ],
     "prompt_number": 89
    },
    {
     "cell_type": "code",
     "collapsed": false,
     "input": [
      "usermentsdf = usermentsdf.dropna(how = 'all')\n",
      "usermentsdf.shape"
     ],
     "language": "python",
     "metadata": {},
     "outputs": [
      {
       "metadata": {},
       "output_type": "pyout",
       "prompt_number": 90,
       "text": [
        "(2191, 7)"
       ]
      }
     ],
     "prompt_number": 90
    },
    {
     "cell_type": "code",
     "collapsed": false,
     "input": [
      "for item in usermentsdf.columns:\n",
      "    c = Counter(usermentsdf[item]).most_common(3)\n",
      "    print c"
     ],
     "language": "python",
     "metadata": {},
     "outputs": [
      {
       "output_type": "stream",
       "stream": "stdout",
       "text": [
        "[(u'FIVBWomensWCH', 1017), (u'FIVBWorldTour', 463), (u'FIVBMensWCH', 319)]\n",
        "[(nan, 1873), (u'LAOLA1TV', 19), (u'FIVBVolleyball', 16)]\n",
        "[(nan, 2098), (u'sam_schachter', 8), (u'FIVBWomensWCH', 7)]\n",
        "[(nan, 2162), (u'sam_schachter', 3), (u'RowlandsonKrou', 2)]\n",
        "[(nan, 2179), (u'FrancyFer84', 1), (u'DenizBank', 1)]\n",
        "[(nan, 2187), (u'RaiSportweb', 1), (u'BenSaxton13', 1)]\n",
        "[(nan, 2188), (u'RomaVolley2014', 1), (u'Over_the_block', 1)]\n"
       ]
      }
     ],
     "prompt_number": 91
    },
    {
     "cell_type": "code",
     "collapsed": false,
     "input": [
      "retwcompdf = tweetsdf[['id', 'retweet_count']]\n",
      "retwcompdf = retwcompdf.set_index(['id'], drop = True)"
     ],
     "language": "python",
     "metadata": {},
     "outputs": [],
     "prompt_number": 92
    },
    {
     "cell_type": "code",
     "collapsed": false,
     "input": [
      "retwcompdf['hashtags'] = 0\n",
      "retwcompdf['mediaurls'] = 0\n",
      "retwcompdf['urls'] = 0\n",
      "retwcompdf['usermens'] = 0\n",
      "\n",
      "for index, row in retwcompdf.iterrows():\n",
      "    hashtags = hashtagsdf.index\n",
      "    mediaurls = mediaurldf.index\n",
      "    urls = urlsdf.index\n",
      "    usermens = usermentsdf.index\n",
      "    \n",
      "    if index in hashtags:\n",
      "        retwcompdf.loc[index, 'hashtags'] = 1\n",
      "        \n",
      "    if index in mediaurls:\n",
      "        retwcompdf.loc[index, 'mediaurls'] = 1\n",
      "        \n",
      "    if index in urls:\n",
      "        retwcompdf.loc[index, 'urls'] = 1\n",
      "        \n",
      "    if index in usermens:\n",
      "        retwcompdf.loc[index, 'usermens'] = 1"
     ],
     "language": "python",
     "metadata": {},
     "outputs": [],
     "prompt_number": 93
    },
    {
     "cell_type": "code",
     "collapsed": false,
     "input": [
      "retwcompdf.head(2)"
     ],
     "language": "python",
     "metadata": {},
     "outputs": [
      {
       "html": [
        "<div style=\"max-height:1000px;max-width:1500px;overflow:auto;\">\n",
        "<table border=\"1\" class=\"dataframe\">\n",
        "  <thead>\n",
        "    <tr style=\"text-align: right;\">\n",
        "      <th></th>\n",
        "      <th>retweet_count</th>\n",
        "      <th>hashtags</th>\n",
        "      <th>mediaurls</th>\n",
        "      <th>urls</th>\n",
        "      <th>usermens</th>\n",
        "    </tr>\n",
        "    <tr>\n",
        "      <th>id</th>\n",
        "      <th></th>\n",
        "      <th></th>\n",
        "      <th></th>\n",
        "      <th></th>\n",
        "      <th></th>\n",
        "    </tr>\n",
        "  </thead>\n",
        "  <tbody>\n",
        "    <tr>\n",
        "      <th>536013754681393153</th>\n",
        "      <td> 3</td>\n",
        "      <td> 0</td>\n",
        "      <td> 1</td>\n",
        "      <td> 1</td>\n",
        "      <td> 1</td>\n",
        "    </tr>\n",
        "    <tr>\n",
        "      <th>535997368080924674</th>\n",
        "      <td> 1</td>\n",
        "      <td> 0</td>\n",
        "      <td> 1</td>\n",
        "      <td> 1</td>\n",
        "      <td> 1</td>\n",
        "    </tr>\n",
        "  </tbody>\n",
        "</table>\n",
        "<p>2 rows \u00d7 5 columns</p>\n",
        "</div>"
       ],
       "metadata": {},
       "output_type": "pyout",
       "prompt_number": 94,
       "text": [
        "                    retweet_count  hashtags  mediaurls  urls  usermens\n",
        "id                                                                    \n",
        "536013754681393153              3         0          1     1         1\n",
        "535997368080924674              1         0          1     1         1\n",
        "\n",
        "[2 rows x 5 columns]"
       ]
      }
     ],
     "prompt_number": 94
    },
    {
     "cell_type": "code",
     "collapsed": false,
     "input": [
      "retwcompdf.corr()"
     ],
     "language": "python",
     "metadata": {},
     "outputs": [
      {
       "html": [
        "<div style=\"max-height:1000px;max-width:1500px;overflow:auto;\">\n",
        "<table border=\"1\" class=\"dataframe\">\n",
        "  <thead>\n",
        "    <tr style=\"text-align: right;\">\n",
        "      <th></th>\n",
        "      <th>retweet_count</th>\n",
        "      <th>hashtags</th>\n",
        "      <th>mediaurls</th>\n",
        "      <th>urls</th>\n",
        "      <th>usermens</th>\n",
        "    </tr>\n",
        "  </thead>\n",
        "  <tbody>\n",
        "    <tr>\n",
        "      <th>retweet_count</th>\n",
        "      <td> 1.000000</td>\n",
        "      <td> 0.055734</td>\n",
        "      <td> 0.097778</td>\n",
        "      <td>-0.245076</td>\n",
        "      <td> 0.113245</td>\n",
        "    </tr>\n",
        "    <tr>\n",
        "      <th>hashtags</th>\n",
        "      <td> 0.055734</td>\n",
        "      <td> 1.000000</td>\n",
        "      <td>-0.028150</td>\n",
        "      <td>-0.132237</td>\n",
        "      <td> 0.191678</td>\n",
        "    </tr>\n",
        "    <tr>\n",
        "      <th>mediaurls</th>\n",
        "      <td> 0.097778</td>\n",
        "      <td>-0.028150</td>\n",
        "      <td> 1.000000</td>\n",
        "      <td>-0.060150</td>\n",
        "      <td>-0.002832</td>\n",
        "    </tr>\n",
        "    <tr>\n",
        "      <th>urls</th>\n",
        "      <td>-0.245076</td>\n",
        "      <td>-0.132237</td>\n",
        "      <td>-0.060150</td>\n",
        "      <td> 1.000000</td>\n",
        "      <td>-0.304277</td>\n",
        "    </tr>\n",
        "    <tr>\n",
        "      <th>usermens</th>\n",
        "      <td> 0.113245</td>\n",
        "      <td> 0.191678</td>\n",
        "      <td>-0.002832</td>\n",
        "      <td>-0.304277</td>\n",
        "      <td> 1.000000</td>\n",
        "    </tr>\n",
        "  </tbody>\n",
        "</table>\n",
        "<p>5 rows \u00d7 5 columns</p>\n",
        "</div>"
       ],
       "metadata": {},
       "output_type": "pyout",
       "prompt_number": 95,
       "text": [
        "               retweet_count  hashtags  mediaurls      urls  usermens\n",
        "retweet_count       1.000000  0.055734   0.097778 -0.245076  0.113245\n",
        "hashtags            0.055734  1.000000  -0.028150 -0.132237  0.191678\n",
        "mediaurls           0.097778 -0.028150   1.000000 -0.060150 -0.002832\n",
        "urls               -0.245076 -0.132237  -0.060150  1.000000 -0.304277\n",
        "usermens            0.113245  0.191678  -0.002832 -0.304277  1.000000\n",
        "\n",
        "[5 rows x 5 columns]"
       ]
      }
     ],
     "prompt_number": 95
    },
    {
     "cell_type": "code",
     "collapsed": false,
     "input": [
      "#Step 2.1 result: it is possible extract and use the most popular tweet entities and analysis shows that while\n",
      "#hashtags, photos and usermentions in tweet generally increase retweet count, forwarding of other web links via tweet\n",
      "#has a negative correlation to retweet count"
     ],
     "language": "python",
     "metadata": {},
     "outputs": [],
     "prompt_number": 96
    },
    {
     "cell_type": "code",
     "collapsed": false,
     "input": [
      "#Step 2.2: is text important for retweet count?"
     ],
     "language": "python",
     "metadata": {},
     "outputs": [],
     "prompt_number": 97
    },
    {
     "cell_type": "code",
     "collapsed": false,
     "input": [
      "#The most popular text\n",
      "counts = tweetsdf.groupby(['retweet_count', 'text']).count()\n",
      "counts.sort()\n",
      "print counts[-1:-6:-1].index"
     ],
     "language": "python",
     "metadata": {},
     "outputs": [
      {
       "output_type": "stream",
       "stream": "stdout",
       "text": [
        "retweet_count  text                                                                                                                                        \n",
        "1263           RT @FIVBMensWCH: #TeamPoland!! GOLD !!  25-22 in the 4th set again #TeamBrazil http://t.co/Hs9NYnWOG4                                       \n",
        "790            RT @FIVBMensWCH: Waves of fans are outside Spodek Arena! Just see how people are many are outside.\\n#FIVBMensWCH http://t.co/4J3FgCb36F     \n",
        "709            RT @usavolleyball: #TeamUSA make history ... WORLD CHAMPIONS! #FIVBWomensWCH                                                                \n",
        "702            RT @FIVBMensWCH: #TeamPoland wins! Congratulations to all the Polish fans who've made waves on Twitter throughout the #FIVBMensWCH! http://\u2026\n",
        "530            RT @FIVBMensWCH: #TeamPoland in the final! 4th set 25-21  and the whole match against #TeamGermany 3-1 #FIVBMensWCH http://t.co/omYVZrxJLJ  \n"
       ]
      }
     ],
     "prompt_number": 98
    },
    {
     "cell_type": "code",
     "collapsed": false,
     "input": [
      "from sklearn.feature_extraction.text import CountVectorizer\n",
      "\n",
      "def make_xy(df, vectorizer=None):   \n",
      "    if vectorizer is None:\n",
      "        vectorizer = CountVectorizer()\n",
      "    X = vectorizer.fit_transform(df.text)\n",
      "    X = X.tocsc()\n",
      "    Y = (df.retweet_count).values.astype(np.int)\n",
      "    return X, Y"
     ],
     "language": "python",
     "metadata": {},
     "outputs": [],
     "prompt_number": 99
    },
    {
     "cell_type": "code",
     "collapsed": false,
     "input": [
      "X, Y = make_xy(tweetsdf)"
     ],
     "language": "python",
     "metadata": {},
     "outputs": [],
     "prompt_number": 100
    },
    {
     "cell_type": "code",
     "collapsed": false,
     "input": [
      "from sklearn.cross_validation import train_test_split\n",
      "xtrain, xtest, ytrain, ytest = train_test_split(X, Y)"
     ],
     "language": "python",
     "metadata": {},
     "outputs": [],
     "prompt_number": 101
    },
    {
     "cell_type": "code",
     "collapsed": false,
     "input": [
      "from sklearn.naive_bayes import MultinomialNB\n",
      "clf = MultinomialNB().fit(xtrain, ytrain)\n",
      "\n",
      "print \"Accuracy: %0.2f%%\" % (100 * clf.score(xtest, ytest))"
     ],
     "language": "python",
     "metadata": {},
     "outputs": [
      {
       "output_type": "stream",
       "stream": "stdout",
       "text": [
        "Accuracy: 11.75%\n"
       ]
      }
     ],
     "prompt_number": 102
    },
    {
     "cell_type": "code",
     "collapsed": false,
     "input": [
      "training_accuracy = clf.score(xtrain, ytrain)\n",
      "test_accuracy = clf.score(xtest, ytest)\n",
      "\n",
      "print \"Accuracy on training data: %0.2f\" % (training_accuracy)\n",
      "print \"Accuracy on test data:     %0.2f\" % (test_accuracy)"
     ],
     "language": "python",
     "metadata": {},
     "outputs": [
      {
       "output_type": "stream",
       "stream": "stdout",
       "text": [
        "Accuracy on training data: 0.43\n",
        "Accuracy on test data:     0.12\n"
       ]
      }
     ],
     "prompt_number": 103
    },
    {
     "cell_type": "code",
     "collapsed": false,
     "input": [
      "#Try to fit parameters\n",
      "\n",
      "alphas = [0, .1, 1, 5, 10, 50]\n",
      "min_dfs = [1e-5, 1e-4, 1e-3, 1e-2, 1e-1]\n",
      "\n",
      "best_alpha = None\n",
      "best_min_df = None"
     ],
     "language": "python",
     "metadata": {},
     "outputs": [],
     "prompt_number": 104
    },
    {
     "cell_type": "code",
     "collapsed": false,
     "input": [
      "import sklearn\n",
      "import sklearn.grid_search\n",
      "import sklearn.cross_validation\n",
      "\n",
      "parameters = {'alpha': alphas}\n",
      "MNB = sklearn.naive_bayes.MultinomialNB()\n",
      "clf = sklearn.grid_search.GridSearchCV(MNB, parameters, cv=2)\n",
      "clf.fit(xtrain, ytrain)"
     ],
     "language": "python",
     "metadata": {},
     "outputs": [
      {
       "output_type": "stream",
       "stream": "stderr",
       "text": [
        "/Users/annaromanova/anaconda/lib/python2.7/site-packages/sklearn/cross_validation.py:401: Warning: The least populated class in y has only 1 members, which is too few. The minimum number of labels for any class cannot be less than n_folds=2.\n",
        "  % (min_labels, self.n_folds)), Warning)\n"
       ]
      },
      {
       "metadata": {},
       "output_type": "pyout",
       "prompt_number": 105,
       "text": [
        "GridSearchCV(cv=2,\n",
        "       estimator=MultinomialNB(alpha=1.0, class_prior=None, fit_prior=True),\n",
        "       fit_params={}, iid=True, loss_func=None, n_jobs=1,\n",
        "       param_grid={'alpha': [0, 0.1, 1, 5, 10, 50]},\n",
        "       pre_dispatch='2*n_jobs', refit=True, score_func=None, scoring=None,\n",
        "       verbose=0)"
       ]
      }
     ],
     "prompt_number": 105
    },
    {
     "cell_type": "code",
     "collapsed": false,
     "input": [
      "clf.best_params_"
     ],
     "language": "python",
     "metadata": {},
     "outputs": [
      {
       "metadata": {},
       "output_type": "pyout",
       "prompt_number": 106,
       "text": [
        "{'alpha': 5}"
       ]
      }
     ],
     "prompt_number": 106
    },
    {
     "cell_type": "code",
     "collapsed": false,
     "input": [
      "from sklearn.naive_bayes import MultinomialNB\n",
      "clf = MultinomialNB(alpha = 5).fit(xtrain, ytrain)\n",
      "\n",
      "print \"Accuracy: %0.2f%%\" % (100 * clf.score(xtest, ytest))"
     ],
     "language": "python",
     "metadata": {},
     "outputs": [
      {
       "output_type": "stream",
       "stream": "stdout",
       "text": [
        "Accuracy: 11.00%\n"
       ]
      }
     ],
     "prompt_number": 107
    },
    {
     "cell_type": "code",
     "collapsed": false,
     "input": [
      "training_accuracy = clf.score(xtrain, ytrain)\n",
      "test_accuracy = clf.score(xtest, ytest)\n",
      "\n",
      "print \"Accuracy on training data: %0.2f\" % (training_accuracy)\n",
      "print \"Accuracy on test data:     %0.2f\" % (test_accuracy)"
     ],
     "language": "python",
     "metadata": {},
     "outputs": [
      {
       "output_type": "stream",
       "stream": "stdout",
       "text": [
        "Accuracy on training data: 0.20\n",
        "Accuracy on test data:     0.11\n"
       ]
      }
     ],
     "prompt_number": 108
    },
    {
     "cell_type": "code",
     "collapsed": false,
     "input": [
      "max_score = -np.inf\n",
      "\n",
      "\n",
      "for min_df in min_dfs:         \n",
      "    vectorizer = CountVectorizer(min_df = min_df)       \n",
      "    X, Y = make_xy(tweetsdf, vectorizer)\n",
      "    \n",
      "    xtrain, xtest, ytrain, ytest = train_test_split(X, Y)\n",
      "        \n",
      "    \n",
      "    clf = MultinomialNB(alpha = 5).fit(xtrain, ytrain)\n",
      "\n",
      "    result = clf.score(xtest, ytest)\n",
      "    \n",
      "    if result > max_score:\n",
      "        best_min_df = min_df\n",
      "    \n",
      "    print best_min_df"
     ],
     "language": "python",
     "metadata": {},
     "outputs": [
      {
       "output_type": "stream",
       "stream": "stdout",
       "text": [
        "1e-05\n",
        "0.0001"
       ]
      },
      {
       "output_type": "stream",
       "stream": "stdout",
       "text": [
        "\n",
        "0.001"
       ]
      },
      {
       "output_type": "stream",
       "stream": "stdout",
       "text": [
        "\n",
        "0.01"
       ]
      },
      {
       "output_type": "stream",
       "stream": "stdout",
       "text": [
        "\n",
        "0.1"
       ]
      },
      {
       "output_type": "stream",
       "stream": "stdout",
       "text": [
        "\n"
       ]
      }
     ],
     "prompt_number": 109
    },
    {
     "cell_type": "code",
     "collapsed": false,
     "input": [
      "vectorizer = CountVectorizer(min_df = 0.1)       \n",
      "X, Y = make_xy(tweetsdf, vectorizer)\n",
      "    \n",
      "xtrain, xtest, ytrain, ytest = train_test_split(X, Y)\n",
      "clf = MultinomialNB(alpha = 5).fit(xtrain, ytrain)"
     ],
     "language": "python",
     "metadata": {},
     "outputs": [],
     "prompt_number": 110
    },
    {
     "cell_type": "code",
     "collapsed": false,
     "input": [
      "training_accuracy = clf.score(xtrain, ytrain)\n",
      "test_accuracy = clf.score(xtest, ytest)\n",
      "\n",
      "print \"Accuracy on training data: %0.2f\" % (training_accuracy)\n",
      "print \"Accuracy on test data:     %0.2f\" % (test_accuracy)"
     ],
     "language": "python",
     "metadata": {},
     "outputs": [
      {
       "output_type": "stream",
       "stream": "stdout",
       "text": [
        "Accuracy on training data: 0.12\n",
        "Accuracy on test data:     0.10\n"
       ]
      }
     ],
     "prompt_number": 111
    },
    {
     "cell_type": "code",
     "collapsed": false,
     "input": [
      "#Try to change periodicity\n",
      "weeks = tweetsdf.shape[0] / 7\n",
      "weeks"
     ],
     "language": "python",
     "metadata": {},
     "outputs": [
      {
       "metadata": {},
       "output_type": "pyout",
       "prompt_number": 112,
       "text": [
        "457"
       ]
      }
     ],
     "prompt_number": 112
    },
    {
     "cell_type": "code",
     "collapsed": false,
     "input": [
      "from datetime import date, timedelta\n",
      "training_acc = []\n",
      "test_acc = []\n",
      "\n",
      "for week in range (weeks):\n",
      "    Monday = tweetsdf.iloc[-1]['created_at'] + timedelta(days = week * 7)\n",
      "    Sunday = tweetsdf.iloc[-1]['created_at'] + timedelta(days = (week + 1) * 7)\n",
      "    \n",
      "    try:\n",
      "        weekdf = tweetsdf[(tweetsdf['created_at'] >= Monday) & (tweetsdf['created_at'] <= Sunday)]\n",
      "        \n",
      "        X, Y = make_xy(weekdf)\n",
      "    \n",
      "        xtrain, xtest, ytrain, ytest = train_test_split(X, Y)\n",
      "        clf = MultinomialNB().fit(xtrain, ytrain)\n",
      "    \n",
      "        training_accuracy = clf.score(xtrain, ytrain)\n",
      "        test_accuracy = clf.score(xtest, ytest)\n",
      "\n",
      "        training_acc.append(training_accuracy)\n",
      "        test_acc.append(test_accuracy)\n",
      "    \n",
      "    except ValueError:\n",
      "        pass"
     ],
     "language": "python",
     "metadata": {},
     "outputs": [],
     "prompt_number": 113
    },
    {
     "cell_type": "code",
     "collapsed": false,
     "input": [
      "plt.plot(training_acc)\n",
      "plt.plot(test_acc)\n",
      "\n",
      "plt.xlabel(\"Timing: per week\")\n",
      "plt.grid(False)\n",
      "\n",
      "plt.title(\"Training (green) vs. test accuracy(orange) per week\");"
     ],
     "language": "python",
     "metadata": {},
     "outputs": [
      {
       "metadata": {},
       "output_type": "display_data",
       "png": "[encoded data removed]",
       "text": [
        "<matplotlib.figure.Figure at 0x10b2951d0>"
       ]
      }
     ],
     "prompt_number": 114
    },
    {
     "cell_type": "code",
     "collapsed": false,
     "input": [
      "days = tweetsdf.shape[0]\n",
      "days"
     ],
     "language": "python",
     "metadata": {},
     "outputs": [
      {
       "metadata": {},
       "output_type": "pyout",
       "prompt_number": 115,
       "text": [
        "3200"
       ]
      }
     ],
     "prompt_number": 115
    },
    {
     "cell_type": "code",
     "collapsed": false,
     "input": [
      "training_acc_day = []\n",
      "test_acc_day = []\n",
      "\n",
      "for day in range (days):\n",
      "    \n",
      "    onday = tweetsdf.iloc[-1]['created_at'].date() + timedelta(days = day * 1)\n",
      "    \n",
      "    try:\n",
      "        daydf = tweetsdf[tweetsdf.created_at.map(pd.Timestamp.date) == onday]\n",
      "        \n",
      "        X, Y = make_xy(daydf)\n",
      "    \n",
      "        xtrain, xtest, ytrain, ytest = train_test_split(X, Y)\n",
      "        clf = MultinomialNB().fit(xtrain, ytrain)\n",
      "    \n",
      "        training_accuracy = clf.score(xtrain, ytrain)\n",
      "        test_accuracy = clf.score(xtest, ytest)\n",
      "\n",
      "        training_acc_day.append(training_accuracy)\n",
      "        test_acc_day.append(test_accuracy)\n",
      "    \n",
      "    except ValueError:\n",
      "        pass"
     ],
     "language": "python",
     "metadata": {},
     "outputs": [],
     "prompt_number": 116
    },
    {
     "cell_type": "code",
     "collapsed": false,
     "input": [
      "plt.plot(training_acc_day)\n",
      "plt.plot(test_acc_day)\n",
      "\n",
      "\n",
      "plt.xlabel(\"Timing: per day\")\n",
      "plt.grid(False)\n",
      "\n",
      "plt.title(\"Training (green) vs. test accuracy(orange) per day\");"
     ],
     "language": "python",
     "metadata": {},
     "outputs": [
      {
       "metadata": {},
       "output_type": "display_data",
       "png": "[encoded data removed]",
       "text": [
        "<matplotlib.figure.Figure at 0x10b761c10>"
       ]
      }
     ],
     "prompt_number": 117
    },
    {
     "cell_type": "code",
     "collapsed": false,
     "input": [
      "vectorizer = CountVectorizer()\n",
      "X = vectorizer.fit_transform(tweetsdf.text)\n",
      "X = X.tocsc()\n",
      "Y = (tweetsdf.retweet_count).values.astype(np.int)\n",
      "xtrain, xtest, ytrain, ytest = train_test_split(X, Y)\n",
      "clf = MultinomialNB().fit(xtrain, ytrain)"
     ],
     "language": "python",
     "metadata": {},
     "outputs": [],
     "prompt_number": 118
    },
    {
     "cell_type": "code",
     "collapsed": false,
     "input": [
      "words = np.array(vectorizer.get_feature_names())\n",
      "\n",
      "x = np.eye(xtest.shape[1])\n",
      "probs = clf.predict_log_proba(x)[:, 0]\n",
      "ind = np.argsort(probs)\n",
      "\n",
      "good_words = words[ind[:10]]\n",
      "bad_words = words[ind[-10:]]\n",
      "\n",
      "good_prob = probs[ind[:10]]\n",
      "bad_prob = probs[ind[-10:]]\n",
      "\n",
      "print \"Popular words\\t         P(retweet | word)\"\n",
      "for w, p in zip(good_words, good_prob):\n",
      "    print \"%20s\" % w, \"%0.2f\" % (1 - np.exp(p))\n",
      "    \n",
      "print \"Not-popular words\\t     P(retweet | word)\"\n",
      "for w, p in zip(bad_words, bad_prob):\n",
      "    print \"%20s\" % w, \"%0.2f\" % (1 - np.exp(p))"
     ],
     "language": "python",
     "metadata": {},
     "outputs": [
      {
       "output_type": "stream",
       "stream": "stdout",
       "text": [
        "Popular words\t         P(retweet | word)\n",
        "                  rt 1.00\n",
        "          saopaulogs 0.99\n",
        "                 win 0.99\n",
        "               final 0.99\n",
        "               first 0.99\n",
        "                  ht 0.99\n",
        "          paranaopen 0.99\n",
        "                 htt 0.99\n",
        "             teamusa 0.99\n",
        "                game 0.99\n",
        "Not-popular words\t     P(retweet | word)\n",
        "           executive 0.83\n",
        "        championship 0.83\n",
        "          qkodqijjai 0.82\n",
        "              chance 0.82\n",
        "                been 0.80\n",
        "          md4zrit6ps 0.78\n",
        "                  my 0.74\n",
        "                  ve 0.70\n",
        "             storify 0.67\n",
        "              quoted 0.67\n"
       ]
      }
     ],
     "prompt_number": 119
    },
    {
     "cell_type": "code",
     "collapsed": false,
     "input": [
      "x, y = make_xy(tweetsdf)\n",
      "\n",
      "prob = clf.predict_proba(x)[:, 0]\n",
      "predict = clf.predict(x)"
     ],
     "language": "python",
     "metadata": {},
     "outputs": [],
     "prompt_number": 120
    },
    {
     "cell_type": "code",
     "collapsed": false,
     "input": [
      "prob"
     ],
     "language": "python",
     "metadata": {},
     "outputs": [
      {
       "metadata": {},
       "output_type": "pyout",
       "prompt_number": 121,
       "text": [
        "array([  5.67721361e-04,   8.97520135e-05,   1.35739264e-03, ...,\n",
        "         4.39675731e-06,   1.94458080e-07,   5.49821473e-02])"
       ]
      }
     ],
     "prompt_number": 121
    },
    {
     "cell_type": "code",
     "collapsed": false,
     "input": [
      "predict"
     ],
     "language": "python",
     "metadata": {},
     "outputs": [
      {
       "metadata": {},
       "output_type": "pyout",
       "prompt_number": 122,
       "text": [
        "array([3, 1, 2, ..., 5, 6, 1])"
       ]
      }
     ],
     "prompt_number": 122
    },
    {
     "cell_type": "code",
     "collapsed": false,
     "input": [
      "retweet = np.argsort(prob)[:5]"
     ],
     "language": "python",
     "metadata": {},
     "outputs": [],
     "prompt_number": 123
    },
    {
     "cell_type": "code",
     "collapsed": false,
     "input": [
      "retweet"
     ],
     "language": "python",
     "metadata": {},
     "outputs": [
      {
       "metadata": {},
       "output_type": "pyout",
       "prompt_number": 124,
       "text": [
        "array([1079, 2403, 2334, 2160, 2519])"
       ]
      }
     ],
     "prompt_number": 124
    },
    {
     "cell_type": "code",
     "collapsed": false,
     "input": [
      "noretweet = np.argsort(prob)[-5:]\n",
      "noretweet"
     ],
     "language": "python",
     "metadata": {},
     "outputs": [
      {
       "metadata": {},
       "output_type": "pyout",
       "prompt_number": 125,
       "text": [
        "array([2763, 2855, 2849, 2856, 2848])"
       ]
      }
     ],
     "prompt_number": 125
    },
    {
     "cell_type": "code",
     "collapsed": false,
     "input": [
      "tweetsdf.retweet_count.median()"
     ],
     "language": "python",
     "metadata": {},
     "outputs": [
      {
       "metadata": {},
       "output_type": "pyout",
       "prompt_number": 126,
       "text": [
        "6.0"
       ]
      }
     ],
     "prompt_number": 126
    },
    {
     "cell_type": "code",
     "collapsed": false,
     "input": [
      "print \"Predicted Low-retweet\"\n",
      "print '---------------------------'\n",
      "for row in noretweet:\n",
      "    print tweetsdf.retweet_count.irow(row)\n",
      "    print tweetsdf.text.irow(row)\n",
      "    print"
     ],
     "language": "python",
     "metadata": {},
     "outputs": [
      {
       "output_type": "stream",
       "stream": "stdout",
       "text": [
        "Predicted Low-retweet\n",
        "---------------------------\n",
        "0\n",
        "@konrad1102 @JeremyInson You've been quoted in my #Storify story \"FIVB Men's World Championship - Day 23 - LIVE\" http://t.co/qkodQiJjAI\n",
        "\n",
        "0\n",
        "@HumanRamezani You've been quoted in my #Storify story \"FIVB Men's World Championship - Day 22 - LIVE\" http://t.co/MD4ZRiT6PS\n",
        "\n",
        "0\n",
        "@BenToniutti You've been quoted in my #Storify story \"FIVB Men's World Championship - Day 22 - LIVE\" http://t.co/MD4ZRiT6PS\n",
        "\n",
        "0\n",
        "@InfostradaGold You've been quoted in my #Storify story \"FIVB Men's World Championship - Day 22 - LIVE\" http://t.co/MD4ZRiT6PS\n",
        "\n",
        "0\n",
        "@lyyllyyyy @ahashaakee You've been quoted in my #Storify story \"FIVB Men's World Championship - Day 22 - LIVE\" http://t.co/MD4ZRiT6PS\n",
        "\n"
       ]
      }
     ],
     "prompt_number": 127
    },
    {
     "cell_type": "code",
     "collapsed": false,
     "input": [
      "print \"Predicted High-retweet\"\n",
      "print '---------------------------'\n",
      "for row in retweet:\n",
      "    print tweetsdf.retweet_count.irow(row)\n",
      "    print tweetsdf.text.irow(row)\n",
      "    print"
     ],
     "language": "python",
     "metadata": {},
     "outputs": [
      {
       "output_type": "stream",
       "stream": "stdout",
       "text": [
        "Predicted High-retweet\n",
        "---------------------------\n",
        "5\n",
        "RT @FIVBatOlympics: Volleyball celebrates 50 years as an Olympic sport this year. Watch as Japan wins the 1st women's gold in 1964: https:/\u2026\n",
        "\n",
        "3\n",
        "RT @FIVBWorldTour: Final pool matches in #SaoPauloGS women's draw about to start with Juliana-Antonelli BRA and Walsh-Ross USA looking for \u2026\n",
        "\n",
        "3\n",
        "RT @FIVBWorldTour: Women's rd1 eliminations are first on court at #SaoPauloGS this morning in about 30 minutes, check the match schedule ht\u2026\n",
        "\n",
        "2\n",
        "RT @FIVBWorldTour: Larissa-Talita BRA finish 2nd set strong to win 23-21 and send women's #SaoPauloGS gold match into a tie-break vs Menega\u2026\n",
        "\n",
        "3\n",
        "RT @FIVBWorldTour: Straightforward start for top seeds Juliana-Antonelli BRA and Walsh-Ross USA on 1st morning of #SaoPauloGS - both with 2\u2026\n",
        "\n"
       ]
      }
     ],
     "prompt_number": 128
    },
    {
     "cell_type": "code",
     "collapsed": false,
     "input": [
      "#Step 2.2 result: it is very important to find a proper periodicity for train and test, as twitter is so quick, for it\n",
      "#the best periodicity is day or less. So before make a tweet it is advisable to catch the last statuse, find the most popular\n",
      "#words and then generate own tweet"
     ],
     "language": "python",
     "metadata": {},
     "outputs": [],
     "prompt_number": 129
    },
    {
     "cell_type": "code",
     "collapsed": false,
     "input": [
      "#Step2.3: does it help if we know people who retweeted statuses?"
     ],
     "language": "python",
     "metadata": {},
     "outputs": [],
     "prompt_number": 130
    },
    {
     "cell_type": "code",
     "collapsed": false,
     "input": [
      "from functools import partial\n",
      "from sys import maxint\n",
      "\n",
      "def get_retweeters_ids(twitter_api, _id = None, retweeters_limit = maxint):\n",
      "    \n",
      "    get_retw_ids = partial(make_twitter_request, twitter_api.statuses.retweeters.ids, count = 1000)\n",
      "\n",
      "    retweeters_ids = []\n",
      "    \n",
      "    for twitter_api_func, limit, ids, label in [ \n",
      "                                 [get_retw_ids, retweeters_limit, retweeters_ids, \"ids\"]\n",
      "                             ]:\n",
      "        \n",
      "        cursor = -1\n",
      "        while cursor != 0:\n",
      "        \n",
      "         \n",
      "            response = twitter_api_func(_id = _id, cursor = cursor)\n",
      "            \n",
      "\n",
      "            ids += response['ids']\n",
      "            cursor = response['next_cursor']\n",
      "        \n",
      "            print >> sys.stderr, 'Fetched {0} total {1} ids for {2}'.format(len(ids), label, (_id))\n",
      "        \n",
      "            if len(ids) >= limit:\n",
      "                break\n",
      "\n",
      "    \n",
      "    return retweeters_ids[:retweeters_limit]"
     ],
     "language": "python",
     "metadata": {},
     "outputs": [],
     "prompt_number": 131
    },
    {
     "cell_type": "code",
     "collapsed": false,
     "input": [
      "\"\"\"\n",
      "retweetsdf = pd.DataFrame(index = [])\n",
      "\n",
      "\n",
      "for index, row in tweetsdf.iterrows():\n",
      "    if (row['retweet_count'] >= 1 and row['retweet_count'] <= 100):\n",
      "        \n",
      "        try:\n",
      "            tweetid = row['id']\n",
      "            list1 = get_retweeters_ids(twitter_api, _id = tweetid, retweeters_limit = 100)\n",
      "            tempdf = pd.DataFrame(list1, columns = [tweetid]).T\n",
      "            retweetsdf = retweetsdf.append(tempdf)\n",
      "            \n",
      "        except ValueError:\n",
      "            pass\n",
      "        \n",
      "    else:\n",
      "        pass\n",
      "\"\"\""
     ],
     "language": "python",
     "metadata": {},
     "outputs": [
      {
       "metadata": {},
       "output_type": "pyout",
       "prompt_number": 132,
       "text": [
        "\"\\nretweetsdf = pd.DataFrame(index = [])\\n\\n\\nfor index, row in tweetsdf.iterrows():\\n    if (row['retweet_count'] >= 1 and row['retweet_count'] <= 100):\\n        \\n        try:\\n            tweetid = row['id']\\n            list1 = get_retweeters_ids(twitter_api, _id = tweetid, retweeters_limit = 100)\\n            tempdf = pd.DataFrame(list1, columns = [tweetid]).T\\n            retweetsdf = retweetsdf.append(tempdf)\\n            \\n        except ValueError:\\n            pass\\n        \\n    else:\\n        pass\\n\""
       ]
      }
     ],
     "prompt_number": 132
    },
    {
     "cell_type": "code",
     "collapsed": false,
     "input": [
      "#retweetsdf.to_csv('Retweets')"
     ],
     "language": "python",
     "metadata": {},
     "outputs": [],
     "prompt_number": 133
    },
    {
     "cell_type": "code",
     "collapsed": false,
     "input": [
      "retweetersdf = pd.read_csv(\"Retweets\", index_col = 0)\n",
      "retweetersdf = retweetsdf.replace('NaN', '')\n",
      "retweetersdf.head(10)"
     ],
     "language": "python",
     "metadata": {},
     "outputs": [
      {
       "html": [
        "<div style=\"max-height:1000px;max-width:1500px;overflow:auto;\">\n",
        "<table border=\"1\" class=\"dataframe\">\n",
        "  <thead>\n",
        "    <tr style=\"text-align: right;\">\n",
        "      <th></th>\n",
        "      <th>0</th>\n",
        "      <th>1</th>\n",
        "      <th>2</th>\n",
        "      <th>3</th>\n",
        "      <th>4</th>\n",
        "      <th>5</th>\n",
        "      <th>6</th>\n",
        "      <th>7</th>\n",
        "      <th>8</th>\n",
        "      <th>9</th>\n",
        "      <th>10</th>\n",
        "      <th>11</th>\n",
        "      <th>12</th>\n",
        "      <th>13</th>\n",
        "      <th>14</th>\n",
        "      <th>15</th>\n",
        "      <th>16</th>\n",
        "      <th>17</th>\n",
        "      <th>18</th>\n",
        "      <th>19</th>\n",
        "      <th>20</th>\n",
        "      <th>21</th>\n",
        "      <th>22</th>\n",
        "      <th>23</th>\n",
        "      <th>24</th>\n",
        "      <th>25</th>\n",
        "      <th>26</th>\n",
        "      <th>27</th>\n",
        "      <th>28</th>\n",
        "      <th>29</th>\n",
        "      <th></th>\n",
        "    </tr>\n",
        "  </thead>\n",
        "  <tbody>\n",
        "    <tr>\n",
        "      <th>536013754681393153</th>\n",
        "      <td> 2384099552</td>\n",
        "      <td> 2.793918e+09</td>\n",
        "      <td> 1.092955e+08</td>\n",
        "      <td> 1.073207e+08</td>\n",
        "      <td> 2.841741e+08</td>\n",
        "      <td> 2.758413e+09</td>\n",
        "      <td> 2.236371e+08</td>\n",
        "      <td> 3.916569e+08</td>\n",
        "      <td> 5.747939e+07</td>\n",
        "      <td> 4.223793e+08</td>\n",
        "      <td>             </td>\n",
        "      <td>             </td>\n",
        "      <td>             </td>\n",
        "      <td>             </td>\n",
        "      <td>             </td>\n",
        "      <td>             </td>\n",
        "      <td>            </td>\n",
        "      <td>            </td>\n",
        "      <td>             </td>\n",
        "      <td>             </td>\n",
        "      <td>            </td>\n",
        "      <td>             </td>\n",
        "      <td>             </td>\n",
        "      <td>            </td>\n",
        "      <td>             </td>\n",
        "      <td>             </td>\n",
        "      <td>             </td>\n",
        "      <td>             </td>\n",
        "      <td>             </td>\n",
        "      <td>             </td>\n",
        "      <td>...</td>\n",
        "    </tr>\n",
        "    <tr>\n",
        "      <th>535997368080924674</th>\n",
        "      <td> 2302462934</td>\n",
        "      <td>             </td>\n",
        "      <td>             </td>\n",
        "      <td>             </td>\n",
        "      <td>             </td>\n",
        "      <td>             </td>\n",
        "      <td>             </td>\n",
        "      <td>             </td>\n",
        "      <td>             </td>\n",
        "      <td>             </td>\n",
        "      <td>             </td>\n",
        "      <td>             </td>\n",
        "      <td>             </td>\n",
        "      <td>             </td>\n",
        "      <td>             </td>\n",
        "      <td>             </td>\n",
        "      <td>            </td>\n",
        "      <td>            </td>\n",
        "      <td>             </td>\n",
        "      <td>             </td>\n",
        "      <td>            </td>\n",
        "      <td>             </td>\n",
        "      <td>             </td>\n",
        "      <td>            </td>\n",
        "      <td>             </td>\n",
        "      <td>             </td>\n",
        "      <td>             </td>\n",
        "      <td>             </td>\n",
        "      <td>             </td>\n",
        "      <td>             </td>\n",
        "      <td>...</td>\n",
        "    </tr>\n",
        "    <tr>\n",
        "      <th>535980997796311040</th>\n",
        "      <td> 1216298682</td>\n",
        "      <td> 2.850719e+09</td>\n",
        "      <td>             </td>\n",
        "      <td>             </td>\n",
        "      <td>             </td>\n",
        "      <td>             </td>\n",
        "      <td>             </td>\n",
        "      <td>             </td>\n",
        "      <td>             </td>\n",
        "      <td>             </td>\n",
        "      <td>             </td>\n",
        "      <td>             </td>\n",
        "      <td>             </td>\n",
        "      <td>             </td>\n",
        "      <td>             </td>\n",
        "      <td>             </td>\n",
        "      <td>            </td>\n",
        "      <td>            </td>\n",
        "      <td>             </td>\n",
        "      <td>             </td>\n",
        "      <td>            </td>\n",
        "      <td>             </td>\n",
        "      <td>             </td>\n",
        "      <td>            </td>\n",
        "      <td>             </td>\n",
        "      <td>             </td>\n",
        "      <td>             </td>\n",
        "      <td>             </td>\n",
        "      <td>             </td>\n",
        "      <td>             </td>\n",
        "      <td>...</td>\n",
        "    </tr>\n",
        "    <tr>\n",
        "      <th>535924240978292736</th>\n",
        "      <td> 1018285135</td>\n",
        "      <td>             </td>\n",
        "      <td>             </td>\n",
        "      <td>             </td>\n",
        "      <td>             </td>\n",
        "      <td>             </td>\n",
        "      <td>             </td>\n",
        "      <td>             </td>\n",
        "      <td>             </td>\n",
        "      <td>             </td>\n",
        "      <td>             </td>\n",
        "      <td>             </td>\n",
        "      <td>             </td>\n",
        "      <td>             </td>\n",
        "      <td>             </td>\n",
        "      <td>             </td>\n",
        "      <td>            </td>\n",
        "      <td>            </td>\n",
        "      <td>             </td>\n",
        "      <td>             </td>\n",
        "      <td>            </td>\n",
        "      <td>             </td>\n",
        "      <td>             </td>\n",
        "      <td>            </td>\n",
        "      <td>             </td>\n",
        "      <td>             </td>\n",
        "      <td>             </td>\n",
        "      <td>             </td>\n",
        "      <td>             </td>\n",
        "      <td>             </td>\n",
        "      <td>...</td>\n",
        "    </tr>\n",
        "    <tr>\n",
        "      <th>535913219337256960</th>\n",
        "      <td> 1466172571</td>\n",
        "      <td> 1.043252e+09</td>\n",
        "      <td>   6.8755e+07</td>\n",
        "      <td> 5.126799e+07</td>\n",
        "      <td> 1.118419e+09</td>\n",
        "      <td>             </td>\n",
        "      <td>             </td>\n",
        "      <td>             </td>\n",
        "      <td>             </td>\n",
        "      <td>             </td>\n",
        "      <td>             </td>\n",
        "      <td>             </td>\n",
        "      <td>             </td>\n",
        "      <td>             </td>\n",
        "      <td>             </td>\n",
        "      <td>             </td>\n",
        "      <td>            </td>\n",
        "      <td>            </td>\n",
        "      <td>             </td>\n",
        "      <td>             </td>\n",
        "      <td>            </td>\n",
        "      <td>             </td>\n",
        "      <td>             </td>\n",
        "      <td>            </td>\n",
        "      <td>             </td>\n",
        "      <td>             </td>\n",
        "      <td>             </td>\n",
        "      <td>             </td>\n",
        "      <td>             </td>\n",
        "      <td>             </td>\n",
        "      <td>...</td>\n",
        "    </tr>\n",
        "    <tr>\n",
        "      <th>535901230913310720</th>\n",
        "      <td> 2850719222</td>\n",
        "      <td> 1.713283e+07</td>\n",
        "      <td>  3.60783e+08</td>\n",
        "      <td> 1.515218e+08</td>\n",
        "      <td>             </td>\n",
        "      <td>             </td>\n",
        "      <td>             </td>\n",
        "      <td>             </td>\n",
        "      <td>             </td>\n",
        "      <td>             </td>\n",
        "      <td>             </td>\n",
        "      <td>             </td>\n",
        "      <td>             </td>\n",
        "      <td>             </td>\n",
        "      <td>             </td>\n",
        "      <td>             </td>\n",
        "      <td>            </td>\n",
        "      <td>            </td>\n",
        "      <td>             </td>\n",
        "      <td>             </td>\n",
        "      <td>            </td>\n",
        "      <td>             </td>\n",
        "      <td>             </td>\n",
        "      <td>            </td>\n",
        "      <td>             </td>\n",
        "      <td>             </td>\n",
        "      <td>             </td>\n",
        "      <td>             </td>\n",
        "      <td>             </td>\n",
        "      <td>             </td>\n",
        "      <td>...</td>\n",
        "    </tr>\n",
        "    <tr>\n",
        "      <th>535879569778024448</th>\n",
        "      <td>  153994131</td>\n",
        "      <td> 7.314614e+08</td>\n",
        "      <td> 9.868955e+07</td>\n",
        "      <td>  2.20113e+08</td>\n",
        "      <td>             </td>\n",
        "      <td>             </td>\n",
        "      <td>             </td>\n",
        "      <td>             </td>\n",
        "      <td>             </td>\n",
        "      <td>             </td>\n",
        "      <td>             </td>\n",
        "      <td>             </td>\n",
        "      <td>             </td>\n",
        "      <td>             </td>\n",
        "      <td>             </td>\n",
        "      <td>             </td>\n",
        "      <td>            </td>\n",
        "      <td>            </td>\n",
        "      <td>             </td>\n",
        "      <td>             </td>\n",
        "      <td>            </td>\n",
        "      <td>             </td>\n",
        "      <td>             </td>\n",
        "      <td>            </td>\n",
        "      <td>             </td>\n",
        "      <td>             </td>\n",
        "      <td>             </td>\n",
        "      <td>             </td>\n",
        "      <td>             </td>\n",
        "      <td>             </td>\n",
        "      <td>...</td>\n",
        "    </tr>\n",
        "    <tr>\n",
        "      <th>535868583767986177</th>\n",
        "      <td>  153994131</td>\n",
        "      <td> 7.204256e+08</td>\n",
        "      <td>             </td>\n",
        "      <td>             </td>\n",
        "      <td>             </td>\n",
        "      <td>             </td>\n",
        "      <td>             </td>\n",
        "      <td>             </td>\n",
        "      <td>             </td>\n",
        "      <td>             </td>\n",
        "      <td>             </td>\n",
        "      <td>             </td>\n",
        "      <td>             </td>\n",
        "      <td>             </td>\n",
        "      <td>             </td>\n",
        "      <td>             </td>\n",
        "      <td>            </td>\n",
        "      <td>            </td>\n",
        "      <td>             </td>\n",
        "      <td>             </td>\n",
        "      <td>            </td>\n",
        "      <td>             </td>\n",
        "      <td>             </td>\n",
        "      <td>            </td>\n",
        "      <td>             </td>\n",
        "      <td>             </td>\n",
        "      <td>             </td>\n",
        "      <td>             </td>\n",
        "      <td>             </td>\n",
        "      <td>             </td>\n",
        "      <td>...</td>\n",
        "    </tr>\n",
        "    <tr>\n",
        "      <th>535857249462538245</th>\n",
        "      <td>   69412011</td>\n",
        "      <td> 2.429444e+09</td>\n",
        "      <td> 2.780853e+08</td>\n",
        "      <td> 2.608248e+08</td>\n",
        "      <td> 2.623255e+09</td>\n",
        "      <td> 7.643636e+08</td>\n",
        "      <td> 3.004797e+07</td>\n",
        "      <td>  1.81018e+08</td>\n",
        "      <td>  9.13795e+07</td>\n",
        "      <td> 4.299224e+08</td>\n",
        "      <td> 2.971629e+08</td>\n",
        "      <td> 8.716647e+08</td>\n",
        "      <td> 1.804581e+08</td>\n",
        "      <td> 1.457998e+08</td>\n",
        "      <td> 3.056962e+08</td>\n",
        "      <td> 2.854402e+08</td>\n",
        "      <td> 2.80359e+08</td>\n",
        "      <td> 4.76106e+08</td>\n",
        "      <td> 1.538068e+08</td>\n",
        "      <td> 1.030986e+09</td>\n",
        "      <td> 4.27685e+07</td>\n",
        "      <td> 1.326914e+09</td>\n",
        "      <td> 2.299306e+09</td>\n",
        "      <td> 1.48059e+08</td>\n",
        "      <td> 3.669563e+08</td>\n",
        "      <td> 1.038391e+09</td>\n",
        "      <td> 1.441363e+07</td>\n",
        "      <td> 1.067855e+08</td>\n",
        "      <td> 1.726847e+09</td>\n",
        "      <td> 2.400279e+08</td>\n",
        "      <td>...</td>\n",
        "    </tr>\n",
        "    <tr>\n",
        "      <th>535840190552477700</th>\n",
        "      <td>  285949916</td>\n",
        "      <td> 7.314614e+08</td>\n",
        "      <td> 2.246889e+09</td>\n",
        "      <td>             </td>\n",
        "      <td>             </td>\n",
        "      <td>             </td>\n",
        "      <td>             </td>\n",
        "      <td>             </td>\n",
        "      <td>             </td>\n",
        "      <td>             </td>\n",
        "      <td>             </td>\n",
        "      <td>             </td>\n",
        "      <td>             </td>\n",
        "      <td>             </td>\n",
        "      <td>             </td>\n",
        "      <td>             </td>\n",
        "      <td>            </td>\n",
        "      <td>            </td>\n",
        "      <td>             </td>\n",
        "      <td>             </td>\n",
        "      <td>            </td>\n",
        "      <td>             </td>\n",
        "      <td>             </td>\n",
        "      <td>            </td>\n",
        "      <td>             </td>\n",
        "      <td>             </td>\n",
        "      <td>             </td>\n",
        "      <td>             </td>\n",
        "      <td>             </td>\n",
        "      <td>             </td>\n",
        "      <td>...</td>\n",
        "    </tr>\n",
        "  </tbody>\n",
        "</table>\n",
        "<p>10 rows \u00d7 85 columns</p>\n",
        "</div>"
       ],
       "metadata": {},
       "output_type": "pyout",
       "prompt_number": 241,
       "text": [
        "                             0             1             2             3             4             5             6             7             8             9            10            11            12            13            14            15           16           17            18            19           20            21            22           23            24            25            26            27            28            29    \n",
        "536013754681393153  2384099552  2.793918e+09  1.092955e+08  1.073207e+08  2.841741e+08  2.758413e+09  2.236371e+08  3.916569e+08  5.747939e+07  4.223793e+08                                                                                                                                                                                                                                                                                     ...\n",
        "535997368080924674  2302462934                                                                                                                                                                                                                                                                                                                                                                                                                   ...\n",
        "535980997796311040  1216298682  2.850719e+09                                                                                                                                                                                                                                                                                                                                                                                                     ...\n",
        "535924240978292736  1018285135                                                                                                                                                                                                                                                                                                                                                                                                                   ...\n",
        "535913219337256960  1466172571  1.043252e+09    6.8755e+07  5.126799e+07  1.118419e+09                                                                                                                                                                                                                                                                                                                                                           ...\n",
        "535901230913310720  2850719222  1.713283e+07   3.60783e+08  1.515218e+08                                                                                                                                                                                                                                                                                                                                                                         ...\n",
        "535879569778024448   153994131  7.314614e+08  9.868955e+07   2.20113e+08                                                                                                                                                                                                                                                                                                                                                                         ...\n",
        "535868583767986177   153994131  7.204256e+08                                                                                                                                                                                                                                                                                                                                                                                                     ...\n",
        "535857249462538245    69412011  2.429444e+09  2.780853e+08  2.608248e+08  2.623255e+09  7.643636e+08  3.004797e+07   1.81018e+08   9.13795e+07  4.299224e+08  2.971629e+08  8.716647e+08  1.804581e+08  1.457998e+08  3.056962e+08  2.854402e+08  2.80359e+08  4.76106e+08  1.538068e+08  1.030986e+09  4.27685e+07  1.326914e+09  2.299306e+09  1.48059e+08  3.669563e+08  1.038391e+09  1.441363e+07  1.067855e+08  1.726847e+09  2.400279e+08 ...\n",
        "535840190552477700   285949916  7.314614e+08  2.246889e+09                                                                                                                                                                                                                                                                                                                                                                                       ...\n",
        "\n",
        "[10 rows x 85 columns]"
       ]
      }
     ],
     "prompt_number": 241
    },
    {
     "cell_type": "code",
     "collapsed": false,
     "input": [
      "from collections import Counter\n",
      "user_retweets = Counter(filter(None, retweetersdf.values.flatten()))\n",
      "user_retweetsdf = pd.DataFrame(user_retweets.items(), columns=['User', 'User_Retweets'])\n",
      "user_retweetsdf = user_retweetsdf.set_index(['User'])\n",
      "user_retweetsdf.head(2)"
     ],
     "language": "python",
     "metadata": {},
     "outputs": [
      {
       "html": [
        "<div style=\"max-height:1000px;max-width:1500px;overflow:auto;\">\n",
        "<table border=\"1\" class=\"dataframe\">\n",
        "  <thead>\n",
        "    <tr style=\"text-align: right;\">\n",
        "      <th></th>\n",
        "      <th>User_Retweets</th>\n",
        "    </tr>\n",
        "    <tr>\n",
        "      <th>User</th>\n",
        "      <th></th>\n",
        "    </tr>\n",
        "  </thead>\n",
        "  <tbody>\n",
        "    <tr>\n",
        "      <th>98934673 </th>\n",
        "      <td> 1</td>\n",
        "    </tr>\n",
        "    <tr>\n",
        "      <th>102899715</th>\n",
        "      <td> 1</td>\n",
        "    </tr>\n",
        "  </tbody>\n",
        "</table>\n",
        "<p>2 rows \u00d7 1 columns</p>\n",
        "</div>"
       ],
       "metadata": {},
       "output_type": "pyout",
       "prompt_number": 147,
       "text": [
        "           User_Retweets\n",
        "User                    \n",
        "98934673               1\n",
        "102899715              1\n",
        "\n",
        "[2 rows x 1 columns]"
       ]
      }
     ],
     "prompt_number": 147
    },
    {
     "cell_type": "code",
     "collapsed": false,
     "input": [
      "tweet_retweetsdf = tweetsdf[['retweet_count', 'id']]\n",
      "tweet_retweetsdf = tweet_retweetsdf.set_index(['id'])\n",
      "tweet_retweetsdf.head(2)"
     ],
     "language": "python",
     "metadata": {},
     "outputs": [
      {
       "html": [
        "<div style=\"max-height:1000px;max-width:1500px;overflow:auto;\">\n",
        "<table border=\"1\" class=\"dataframe\">\n",
        "  <thead>\n",
        "    <tr style=\"text-align: right;\">\n",
        "      <th></th>\n",
        "      <th>retweet_count</th>\n",
        "    </tr>\n",
        "    <tr>\n",
        "      <th>id</th>\n",
        "      <th></th>\n",
        "    </tr>\n",
        "  </thead>\n",
        "  <tbody>\n",
        "    <tr>\n",
        "      <th>536013754681393153</th>\n",
        "      <td> 3</td>\n",
        "    </tr>\n",
        "    <tr>\n",
        "      <th>535997368080924674</th>\n",
        "      <td> 1</td>\n",
        "    </tr>\n",
        "  </tbody>\n",
        "</table>\n",
        "<p>2 rows \u00d7 1 columns</p>\n",
        "</div>"
       ],
       "metadata": {},
       "output_type": "pyout",
       "prompt_number": 148,
       "text": [
        "                    retweet_count\n",
        "id                               \n",
        "536013754681393153              3\n",
        "535997368080924674              1\n",
        "\n",
        "[2 rows x 1 columns]"
       ]
      }
     ],
     "prompt_number": 148
    },
    {
     "cell_type": "code",
     "collapsed": false,
     "input": [
      "from scipy.stats.stats import pearsonr"
     ],
     "language": "python",
     "metadata": {},
     "outputs": [],
     "prompt_number": 149
    },
    {
     "cell_type": "code",
     "collapsed": false,
     "input": [
      "simdatabase = pd.DataFrame(index = retweetersdf.index, columns = ['Sim'])"
     ],
     "language": "python",
     "metadata": {},
     "outputs": [],
     "prompt_number": 151
    },
    {
     "cell_type": "code",
     "collapsed": false,
     "input": [
      "for index, row in retweetersdf.iterrows():\n",
      "\n",
      "    \n",
      "    if index != 535857249462538245:\n",
      "        \n",
      "        tweet1_retweeters = set(filter(None, retweetersdf[retweetersdf.index == 535857249462538245].values.flatten()))\n",
      "        tweet2_retweeters = set(filter(None, row.values.flatten()))\n",
      "        common_retweeters = set(tweet1_retweeters).intersection(tweet2_retweeters)\n",
      "    \n",
      "        n_common = len(common_retweeters)\n",
      "\n",
      "        if n_common > 1:\n",
      "            \n",
      "            diff1 = []\n",
      "            diff2 = []\n",
      "            \n",
      "            tweet1_retweet_count = tweet_retweetsdf[tweet_retweetsdf.index == 535857249462538245].retweet_count.values\n",
      "            tweet2_retweet_count = tweet_retweetsdf[tweet_retweetsdf.index == index].retweet_count.values\n",
      "            \n",
      "            \n",
      "            for item in common_retweeters:\n",
      "            \n",
      "                temp1 = tweet1_retweet_count - user_retweetsdf[user_retweetsdf.index  == item].User_Retweets.values\n",
      "                temp2 = tweet2_retweet_count - user_retweetsdf[user_retweetsdf.index  == item].User_Retweets.values\n",
      "            \n",
      "                diff1.append(temp1[0])\n",
      "                diff2.append(temp2[0])\n",
      "            \n",
      "            sim = pearsonr(diff1, diff2)[0]\n",
      "            print sim"
     ],
     "language": "python",
     "metadata": {},
     "outputs": [
      {
       "output_type": "stream",
       "stream": "stdout",
       "text": [
        "1.0\n",
        "1.0\n",
        "1.0"
       ]
      },
      {
       "output_type": "stream",
       "stream": "stdout",
       "text": [
        "\n",
        "1.0\n",
        "1.0"
       ]
      },
      {
       "output_type": "stream",
       "stream": "stdout",
       "text": [
        "\n",
        "1.0\n",
        "1.0"
       ]
      },
      {
       "output_type": "stream",
       "stream": "stdout",
       "text": [
        "\n",
        "1.0"
       ]
      },
      {
       "output_type": "stream",
       "stream": "stdout",
       "text": [
        "\n"
       ]
      }
     ],
     "prompt_number": 254
    },
    {
     "cell_type": "code",
     "collapsed": false,
     "input": [
      "#Step 2.3 result: theoretically it might be interesting to use collaborative filtering to identify \n",
      "#tweets that would be liked by target users, \n",
      "#but practically there is low added value so far because:\n",
      "#current twitter api has strong limitations for getting users information and as tweets \n",
      "#trending is changed so quickly the retrived information becomes outdated."
     ],
     "language": "python",
     "metadata": {},
     "outputs": [],
     "prompt_number": 253
    },
    {
     "cell_type": "code",
     "collapsed": false,
     "input": [
      "#Step 3: conclusion:\n",
      "#Simply creating new twitter accounts does not help to increase number of unique folowers\n",
      "#For better content management daily of even shorter period is recommended\n",
      "#Due to current Twitter API limitations users information cannot be received and used quickly"
     ],
     "language": "python",
     "metadata": {},
     "outputs": [],
     "prompt_number": 255
    }
   ],
   "metadata": {}
  }
 ]
}

